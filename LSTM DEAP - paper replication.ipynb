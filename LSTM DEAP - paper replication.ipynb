{
 "cells": [
  {
   "cell_type": "markdown",
   "metadata": {},
   "source": [
    "Trying to replicate results from https://www.researchgate.net/profile/Salma-Alhagry/publication/320802497_Emotion_Recognition_based_on_EEG_using_LSTM_Recurrent_Neural_Network/links/5b39ff5a0f7e9b0df5e4cf26/Emotion-Recognition-based-on-EEG-using-LSTM-Recurrent-Neural-Network.pdf\n",
    "\n"
   ]
  },
  {
   "cell_type": "code",
   "execution_count": 1,
   "metadata": {},
   "outputs": [],
   "source": [
    "import os\n",
    "import torch\n",
    "import torch.nn as nn\n",
    "import torch.nn.functional as F\n",
    "import scipy.io\n",
    "import scipy.signal\n",
    "from einops import reduce, rearrange\n",
    "import numpy as np"
   ]
  },
  {
   "cell_type": "code",
   "execution_count": 2,
   "metadata": {},
   "outputs": [],
   "source": [
    "# Constants used to define data paths\n",
    "ROOT_DIR = './'\n",
    "RAW_DIR = 'data/matlabPREPROCESSED'\n",
    "PROCESSED_DIR = 'data/graphProcessedData'"
   ]
  },
  {
   "cell_type": "code",
   "execution_count": 3,
   "metadata": {},
   "outputs": [],
   "source": [
    "raw_file_names = os.listdir(RAW_DIR)\n",
    "raw_file_names.sort()\n",
    "all_subjects = [scipy.io.loadmat(f'{RAW_DIR}/{name}') for name in raw_file_names]"
   ]
  },
  {
   "cell_type": "code",
   "execution_count": 4,
   "metadata": {},
   "outputs": [],
   "source": [
    "all_data = [subject['data'] for subject in all_subjects]\n",
    "all_labels = [subject['labels'] for subject in all_subjects]\n",
    "labels = np.stack(all_labels)\n",
    "data = np.stack(all_data)"
   ]
  },
  {
   "cell_type": "code",
   "execution_count": 5,
   "metadata": {},
   "outputs": [],
   "source": [
    "data = data[:,:,:32,:]"
   ]
  },
  {
   "cell_type": "code",
   "execution_count": 6,
   "metadata": {},
   "outputs": [
    {
     "data": {
      "image/png": "[encoded data removed]",
      "text/plain": [
       "<Figure size 432x288 with 1 Axes>"
      ]
     },
     "metadata": {
      "needs_background": "light"
     },
     "output_type": "display_data"
    }
   ],
   "source": [
    "import matplotlib.pyplot as plt\n",
    "plt.plot(data[0,0,2,:128].T)\n",
    "plt.show()"
   ]
  },
  {
   "cell_type": "code",
   "execution_count": 7,
   "metadata": {},
   "outputs": [
    {
     "data": {
      "text/plain": [
       "(32, 40, 32, 8064)"
      ]
     },
     "execution_count": 7,
     "metadata": {},
     "output_type": "execute_result"
    }
   ],
   "source": [
    "data.shape"
   ]
  },
  {
   "cell_type": "code",
   "execution_count": 8,
   "metadata": {},
   "outputs": [],
   "source": [
    "all_labels = rearrange(labels,'s v c -> (s v) c')\n",
    "all_data = rearrange(data,'s v c (d a) -> (s v) d (c a)', a=672)"
   ]
  },
  {
   "cell_type": "code",
   "execution_count": 9,
   "metadata": {},
   "outputs": [
    {
     "data": {
      "text/plain": [
       "((32, 40, 32, 8064), (1280, 12, 21504), (32, 40, 4), (1280, 4))"
      ]
     },
     "execution_count": 9,
     "metadata": {},
     "output_type": "execute_result"
    }
   ],
   "source": [
    "data.shape, all_data.shape, labels.shape, all_labels.shape"
   ]
  },
  {
   "cell_type": "code",
   "execution_count": 10,
   "metadata": {},
   "outputs": [],
   "source": [
    "train_test_split = 0.75\n",
    "target = 0 # valence\n",
    "split_idx = int(all_labels.shape[0]*train_test_split)"
   ]
  },
  {
   "cell_type": "code",
   "execution_count": 11,
   "metadata": {},
   "outputs": [],
   "source": [
    "all_data = torch.FloatTensor(all_data)\n",
    "train_x, train_y = all_data[:split_idx], torch.FloatTensor(all_labels[:split_idx,target])\n",
    "test_x, test_y = all_data[split_idx:], torch.FloatTensor(all_labels[split_idx:,target])\n",
    "train_y = (train_y > 5).float()\n",
    "test_y = (test_y > 5).float()"
   ]
  },
  {
   "cell_type": "code",
   "execution_count": 12,
   "metadata": {},
   "outputs": [],
   "source": [
    "val_train_split = 0.9\n",
    "split_idx = int(train_y.shape[0]*val_train_split)\n",
    "val_x, val_y = train_x[split_idx:], train_y[split_idx:]\n",
    "train_x, train_y = train_x[:split_idx], train_y[:split_idx]"
   ]
  },
  {
   "cell_type": "code",
   "execution_count": 13,
   "metadata": {},
   "outputs": [
    {
     "data": {
      "text/plain": [
       "(torch.Size([864, 12, 21504]),\n",
       " torch.Size([96, 12, 21504]),\n",
       " torch.Size([320, 12, 21504]),\n",
       " torch.Size([864]))"
      ]
     },
     "execution_count": 13,
     "metadata": {},
     "output_type": "execute_result"
    }
   ],
   "source": [
    "train_x.shape, val_x.shape, test_x.shape, train_y.shape"
   ]
  },
  {
   "cell_type": "code",
   "execution_count": 14,
   "metadata": {},
   "outputs": [],
   "source": [
    "train_data = [(x,y) for x,y in zip(train_x,train_y)]\n",
    "val_data = [(x,y) for x,y in zip(val_x,val_y)]\n",
    "test_data = [(x,y) for x,y in zip(test_x,test_y)]"
   ]
  },
  {
   "cell_type": "code",
   "execution_count": 38,
   "metadata": {},
   "outputs": [],
   "source": [
    "BS = 4\n",
    "train_loader = torch.utils.data.DataLoader(train_data, batch_size=BS, shuffle=True)\n",
    "val_loader = torch.utils.data.DataLoader(val_data, batch_size=BS)\n",
    "test_loader = torch.utils.data.DataLoader(test_data, batch_size=BS)"
   ]
  },
  {
   "cell_type": "code",
   "execution_count": 16,
   "metadata": {},
   "outputs": [],
   "source": [
    "device = torch.device('cuda' if torch.cuda.is_available() else 'cpu')\n",
    "# device = torch.device('cpu')"
   ]
  },
  {
   "cell_type": "code",
   "execution_count": 36,
   "metadata": {},
   "outputs": [],
   "source": [
    "class Model(torch.nn.Module):\n",
    "    def __init__(self, in_channels,hidden_channels):\n",
    "        super(Model, self).__init__()\n",
    "        self.lstm1 = nn.LSTM(21504, 64, 1, batch_first=True).to(device)\n",
    "        self.lstm2 = nn.LSTM(64, 32, 1, batch_first=True).to(device)\n",
    "        self.lin = nn.Linear(32,1).to(device)\n",
    "#         self.lstms = nn.ModuleList([nn.LSTM(in_channels, hidden_channels, 4, dropout=0.05, batch_first=True).to(device) for i in range(32)])\n",
    "#         self.lin1 = nn.Linear(hidden_channels*32,hidden_channels).to(device)\n",
    "#         self.lin2 = nn.Linear(hidden_channels,1).to(device)\n",
    "        \n",
    "    def forward(self, x):\n",
    "        \n",
    "#         print(x.shape)\n",
    "        x, (h,c) = self.lstm1(x)\n",
    "        x = x.relu()\n",
    "        x = F.dropout(x, p=0.2, training=self.training)\n",
    "        o, (h,c) = self.lstm2(x)\n",
    "        x = h.squeeze()\n",
    "        x = x.sigmoid()\n",
    "        x = self.lin(x)\n",
    "        x = x.sigmoid()\n",
    "        \n",
    "        return x.view(-1)\n"
   ]
  },
  {
   "cell_type": "code",
   "execution_count": 40,
   "metadata": {},
   "outputs": [
    {
     "name": "stdout",
     "output_type": "stream",
     "text": [
      "Model parameter count: 5534497\n",
      "Epoch 1 ;t loss: 0.69014 ;t acc: 0.54 ;v loss: 0.70300 ;v acc: 0.48\n",
      "Epoch 2 ;t loss: 0.68708 ;t acc: 0.54 ;v loss: 0.70567 ;v acc: 0.48\n",
      "Epoch 3 ;t loss: 0.67354 ;t acc: 0.60 ;v loss: 0.72648 ;v acc: 0.48\n",
      "Epoch 4 ;t loss: 0.65135 ;t acc: 0.64 ;v loss: 0.71568 ;v acc: 0.44\n",
      "Epoch 5 ;t loss: 0.61942 ;t acc: 0.69 ;v loss: 0.73366 ;v acc: 0.46\n",
      "Epoch 6 ;t loss: 0.58531 ;t acc: 0.73 ;v loss: 0.72487 ;v acc: 0.45\n",
      "Epoch 7 ;t loss: 0.53711 ;t acc: 0.77 ;v loss: 0.80629 ;v acc: 0.41\n",
      "Epoch 8 ;t loss: 0.50723 ;t acc: 0.79 ;v loss: 0.82771 ;v acc: 0.48\n",
      "Epoch 9 ;t loss: 0.46144 ;t acc: 0.81 ;v loss: 0.86351 ;v acc: 0.52\n",
      "Epoch 10 ;t loss: 0.42937 ;t acc: 0.82 ;v loss: 0.82733 ;v acc: 0.53\n",
      "Epoch 11 ;t loss: 0.40623 ;t acc: 0.84 ;v loss: 0.83546 ;v acc: 0.53\n",
      "Epoch 12 ;t loss: 0.37563 ;t acc: 0.85 ;v loss: 0.81054 ;v acc: 0.55\n",
      "Epoch 13 ;t loss: 0.35975 ;t acc: 0.86 ;v loss: 0.92203 ;v acc: 0.45\n",
      "Epoch 14 ;t loss: 0.31995 ;t acc: 0.88 ;v loss: 0.91536 ;v acc: 0.48\n",
      "Epoch 15 ;t loss: 0.30605 ;t acc: 0.89 ;v loss: 0.97273 ;v acc: 0.49\n",
      "Epoch 16 ;t loss: 0.29749 ;t acc: 0.89 ;v loss: 1.01053 ;v acc: 0.54\n",
      "Epoch 17 ;t loss: 0.28477 ;t acc: 0.90 ;v loss: 1.05712 ;v acc: 0.47\n",
      "Epoch 18 ;t loss: 0.26382 ;t acc: 0.90 ;v loss: 1.18840 ;v acc: 0.48\n",
      "Epoch 19 ;t loss: 0.25336 ;t acc: 0.90 ;v loss: 1.28248 ;v acc: 0.36\n",
      "Epoch 20 ;t loss: 0.24842 ;t acc: 0.91 ;v loss: 1.21782 ;v acc: 0.40\n",
      "Epoch 21 ;t loss: 0.21986 ;t acc: 0.92 ;v loss: 1.24441 ;v acc: 0.45\n",
      "Epoch 22 ;t loss: 0.22054 ;t acc: 0.92 ;v loss: 1.18397 ;v acc: 0.43\n",
      "Epoch 23 ;t loss: 0.20348 ;t acc: 0.93 ;v loss: 1.19080 ;v acc: 0.47\n",
      "Epoch 24 ;t loss: 0.18223 ;t acc: 0.93 ;v loss: 1.32807 ;v acc: 0.43\n",
      "Epoch 25 ;t loss: 0.16968 ;t acc: 0.94 ;v loss: 1.25781 ;v acc: 0.44\n",
      "Epoch 26 ;t loss: 0.16001 ;t acc: 0.95 ;v loss: 1.39270 ;v acc: 0.40\n",
      "Epoch 27 ;t loss: 0.15402 ;t acc: 0.94 ;v loss: 1.22771 ;v acc: 0.52\n",
      "Epoch 28 ;t loss: 0.14876 ;t acc: 0.95 ;v loss: 1.48006 ;v acc: 0.46\n",
      "Epoch 29 ;t loss: 0.13070 ;t acc: 0.96 ;v loss: 1.39883 ;v acc: 0.43\n",
      "Epoch 30 ;t loss: 0.12388 ;t acc: 0.95 ;v loss: 1.59553 ;v acc: 0.47\n",
      "Epoch 31 ;t loss: 0.12788 ;t acc: 0.96 ;v loss: 1.59750 ;v acc: 0.43\n",
      "Epoch 32 ;t loss: 0.14012 ;t acc: 0.95 ;v loss: 1.45000 ;v acc: 0.44\n",
      "Epoch 33 ;t loss: 0.11678 ;t acc: 0.96 ;v loss: 1.50599 ;v acc: 0.43\n",
      "Epoch 34 ;t loss: 0.10333 ;t acc: 0.96 ;v loss: 1.53939 ;v acc: 0.48\n",
      "Epoch 35 ;t loss: 0.12436 ;t acc: 0.95 ;v loss: 1.26107 ;v acc: 0.48\n",
      "Epoch 36 ;t loss: 0.11472 ;t acc: 0.95 ;v loss: 1.20938 ;v acc: 0.49\n",
      "Epoch 37 ;t loss: 0.11212 ;t acc: 0.95 ;v loss: 1.39845 ;v acc: 0.48\n",
      "Epoch 38 ;t loss: 0.10998 ;t acc: 0.96 ;v loss: 1.76120 ;v acc: 0.47\n",
      "Epoch 39 ;t loss: 0.09836 ;t acc: 0.97 ;v loss: 1.44547 ;v acc: 0.49\n",
      "Epoch 40 ;t loss: 0.08559 ;t acc: 0.97 ;v loss: 1.71854 ;v acc: 0.48\n",
      "Epoch 41 ;t loss: 0.08411 ;t acc: 0.97 ;v loss: 1.71478 ;v acc: 0.48\n",
      "Epoch 42 ;t loss: 0.09121 ;t acc: 0.97 ;v loss: 1.76060 ;v acc: 0.47\n",
      "Epoch 43 ;t loss: 0.09825 ;t acc: 0.97 ;v loss: 1.85991 ;v acc: 0.46\n",
      "Epoch 44 ;t loss: 0.08244 ;t acc: 0.97 ;v loss: 1.73876 ;v acc: 0.44\n",
      "Epoch 45 ;t loss: 0.06973 ;t acc: 0.98 ;v loss: 1.76998 ;v acc: 0.43\n",
      "Epoch 46 ;t loss: 0.08180 ;t acc: 0.97 ;v loss: 1.43440 ;v acc: 0.49\n",
      "Epoch 47 ;t loss: 0.06664 ;t acc: 0.97 ;v loss: 1.68402 ;v acc: 0.50\n",
      "Epoch 48 ;t loss: 0.07510 ;t acc: 0.97 ;v loss: 1.85195 ;v acc: 0.44\n",
      "Epoch 49 ;t loss: 0.07541 ;t acc: 0.98 ;v loss: 1.67120 ;v acc: 0.46\n",
      "Epoch 50 ;t loss: 0.06500 ;t acc: 0.98 ;v loss: 1.61174 ;v acc: 0.50\n",
      "Finished training\n"
     ]
    }
   ],
   "source": [
    "model = Model(all_data.shape[-1],hidden_channels=8)     \n",
    "pytorch_total_params = sum(p.numel() for p in model.parameters())\n",
    "print(f'Model parameter count: {pytorch_total_params}')\n",
    "\n",
    "# optimizer = torch.optim.Adadelta(model.parameters(), lr=.1, rho=0.9, eps=1e-06, weight_decay=1e-5)\n",
    "# optimizer = torch.optim.SGD(model.parameters(),lr=1e-1, weight_decay=1e-3)\n",
    "# optimizer = torch.optim.Adam(model.parameters(), lr=.05, betas=(0.9, 0.999), eps=1e-08, weight_decay=0, amsgrad=True)\n",
    "optimizer = torch.optim.RMSprop(model.parameters(), lr=0.001, weight_decay=1e-5)\n",
    "\n",
    "criterion = nn.BCELoss()\n",
    "\n",
    "model = model.to(device)\n",
    "\n",
    "def train():\n",
    "    model.train()\n",
    "    losses = []\n",
    "    right = 0\n",
    "    tot = 0\n",
    "    for x,y in train_loader:\n",
    "        optimizer.zero_grad()\n",
    "        x, y = x.to(device), y.to(device)\n",
    "        out = model(x)\n",
    "        loss = criterion(out,y)\n",
    "        loss.backward()\n",
    "        losses.append(loss.item())\n",
    "        optimizer.step()\n",
    "        right += torch.eq(out > 0.5, y > 0.5).sum().item()\n",
    "        tot += y.shape[0]\n",
    "    return np.array(losses).mean(), right/tot\n",
    "\n",
    "def test(loader,verbose=False):\n",
    "    model.eval()\n",
    "    losses = []\n",
    "    right = 0\n",
    "    tot = 0\n",
    "    for x,y in loader:\n",
    "        x, y = x.to(device), y.to(device)\n",
    "        out = model(x)\n",
    "        if verbose:\n",
    "            print(out,y)\n",
    "        right += torch.eq(out > 0.5, y > 0.5).sum().item()\n",
    "        tot += y.shape[0]\n",
    "        loss = criterion(out,y)\n",
    "        losses.append(loss.item())\n",
    "    return np.array(losses).mean(), right/tot\n",
    "\n",
    "best_val_loss = np.inf\n",
    "esp = 0\n",
    "MAX_ESP = 50\n",
    "for epoch in range(1, 1000):\n",
    "    train_loss, train_acc = train()\n",
    "    val_loss, val_acc = test(val_loader)\n",
    "    if val_loss <= best_val_loss:\n",
    "        best_val_loss = val_loss\n",
    "        esp = 0\n",
    "    else:\n",
    "        esp += 1\n",
    "        if esp >= MAX_ESP:\n",
    "            break\n",
    "#     if epoch%5 == 0:\n",
    "    print(f'Epoch {epoch} ;t loss: {train_loss:.5f} ;t acc: {train_acc:.2f} ;v loss: {val_loss:.5f} ;v acc: {val_acc:.2f}')\n",
    "\n",
    "print('Finished training')"
   ]
  },
  {
   "cell_type": "code",
   "execution_count": 41,
   "metadata": {},
   "outputs": [
    {
     "name": "stdout",
     "output_type": "stream",
     "text": [
      "Test loss: 1.6037564620142803 ; Test acc: 0.53125\n"
     ]
    }
   ],
   "source": [
    "loss, acc = test(test_loader)\n",
    "print(f'Test loss: {loss} ; Test acc: {acc}')\n",
    "\n",
    "# TODO: esp, kfold val , scheduler(?)"
   ]
  }
 ],
 "metadata": {
  "kernelspec": {
   "display_name": "torch",
   "language": "python",
   "name": "torch"
  },
  "language_info": {
   "codemirror_mode": {
    "name": "ipython",
    "version": 3
   },
   "file_extension": ".py",
   "mimetype": "text/x-python",
   "name": "python",
   "nbconvert_exporter": "python",
   "pygments_lexer": "ipython3",
   "version": "3.8.5"
  }
 },
 "nbformat": 4,
 "nbformat_minor": 4
}
