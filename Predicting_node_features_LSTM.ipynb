{
 "cells": [
  {
   "cell_type": "markdown",
   "metadata": {},
   "source": [
    "## Manage imports"
   ]
  },
  {
   "cell_type": "code",
   "execution_count": 2,
   "metadata": {},
   "outputs": [],
   "source": [
    "import scipy\n",
    "import os\n",
    "import mne\n",
    "import matplotlib\n",
    "import matplotlib.pyplot as plt\n",
    "import numpy as np\n",
    "from einops import rearrange\n",
    "from scipy import io"
   ]
  },
  {
   "cell_type": "markdown",
   "metadata": {},
   "source": [
    "## Read local data"
   ]
  },
  {
   "cell_type": "code",
   "execution_count": 3,
   "metadata": {},
   "outputs": [],
   "source": [
    "# Constants used to define data paths\n",
    "ROOT_DIR = './'\n",
    "RAW_DIR = 'data/matlabPREPROCESSED'\n",
    "PROCESSED_DIR = 'data/graphProcessedData'"
   ]
  },
  {
   "cell_type": "code",
   "execution_count": 4,
   "metadata": {},
   "outputs": [],
   "source": [
    "raw_file_names = os.listdir(RAW_DIR)\n",
    "raw_file_names.sort()\n",
    "all_subjects = [scipy.io.loadmat(f'{RAW_DIR}/{name}') for name in raw_file_names]"
   ]
  },
  {
   "cell_type": "code",
   "execution_count": 5,
   "metadata": {},
   "outputs": [],
   "source": [
    "all_data = [subject['data'] for subject in all_subjects]\n",
    "all_labels = [subject['labels'] for subject in all_subjects]\n",
    "labels = np.stack(all_labels)\n",
    "data = np.stack(all_data)\n",
    "# Keep just EEG signals and remove first 3 seconds\n",
    "data = data[:,:,:32,128*3:]"
   ]
  },
  {
   "cell_type": "code",
   "execution_count": 6,
   "metadata": {},
   "outputs": [
    {
     "data": {
      "text/plain": [
       "(32, 40, 32, 7680)"
      ]
     },
     "execution_count": 6,
     "metadata": {},
     "output_type": "execute_result"
    }
   ],
   "source": [
    "data.shape"
   ]
  },
  {
   "cell_type": "code",
   "execution_count": 7,
   "metadata": {},
   "outputs": [
    {
     "data": {
      "text/plain": [
       "(40, 32, 7680)"
      ]
     },
     "execution_count": 7,
     "metadata": {},
     "output_type": "execute_result"
    }
   ],
   "source": [
    "first_participant_data = data[0]\n",
    "first_participant_data.shape"
   ]
  },
  {
   "cell_type": "code",
   "execution_count": 8,
   "metadata": {},
   "outputs": [
    {
     "data": {
      "text/plain": [
       "(32, 7680)"
      ]
     },
     "execution_count": 8,
     "metadata": {},
     "output_type": "execute_result"
    }
   ],
   "source": [
    "first_participant_data[0].shape"
   ]
  },
  {
   "cell_type": "code",
   "execution_count": 9,
   "metadata": {},
   "outputs": [
    {
     "data": {
      "text/plain": [
       "[<matplotlib.lines.Line2D at 0x7f41d5981430>]"
      ]
     },
     "execution_count": 9,
     "metadata": {},
     "output_type": "execute_result"
    },
    {
     "data": {
      "image/png": "[encoded data removed]",
      "text/plain": [
       "<Figure size 432x288 with 1 Axes>"
      ]
     },
     "metadata": {
      "needs_background": "light"
     },
     "output_type": "display_data"
    }
   ],
   "source": [
    "import matplotlib.pyplot as plt\n",
    "plt.plot(first_participant_data[0][0])"
   ]
  },
  {
   "cell_type": "code",
   "execution_count": 10,
   "metadata": {},
   "outputs": [],
   "source": [
    "def create_data_for_participant(participant_data, look_back = 1, window_size=128, overlap_sequences=True, n_videos=40):\n",
    "    \"\"\"\n",
    "    For a certain participant, create input and target features\n",
    "    :param participant_data: Original participant_data. Shape (40, 32, 7680)\n",
    "    :param look_back: Number of windows included as input features\n",
    "    :param window_size: Number of data points per window\n",
    "    :param overlap_sequences: Wether to add 1 or window_size to get the next sequence.\n",
    "    :return: \n",
    "        inputs: Input features with shape (N, look_back, 32, window_size)\n",
    "        targets: Target with shape (N, 32, window_size)\n",
    "    \"\"\"\n",
    "    inputs = []\n",
    "    targets = []\n",
    "    for video in participant_data[:n_videos]:\n",
    "        idx = 0\n",
    "        while idx + window_size * (look_back + 1) <= video.shape[1]:\n",
    "#             print(idx, idx+window_size*look_back)\n",
    "#             print(idx+window_size*look_back,idx+window_size*(look_back+1))\n",
    "            inpt = video[:,idx:idx+window_size*look_back]\n",
    "            inpt = rearrange(inpt,'a (b c) -> b a c',c=window_size)\n",
    "            tget = video[:,idx+window_size*look_back:idx+window_size*(look_back+1)]\n",
    "            inputs.append(inpt)\n",
    "            targets.append(tget)\n",
    "            if overlap_sequences:\n",
    "                idx += 10\n",
    "            else:\n",
    "                idx += window_size\n",
    "#             print(idx)\n",
    "#             print(tget.shape)\n",
    "#         print(len(inputs))\n",
    "    \n",
    "    return inputs,targets\n",
    "\n",
    "look_back = 10\n",
    "window_size = 128\n",
    "inputs, targets = create_data_for_participant(first_participant_data,look_back,window_size,True)"
   ]
  },
  {
   "cell_type": "code",
   "execution_count": 11,
   "metadata": {},
   "outputs": [
    {
     "data": {
      "text/plain": [
       "(25120, 25120)"
      ]
     },
     "execution_count": 11,
     "metadata": {},
     "output_type": "execute_result"
    }
   ],
   "source": [
    "len(inputs),len(targets)"
   ]
  },
  {
   "cell_type": "code",
   "execution_count": 12,
   "metadata": {},
   "outputs": [
    {
     "data": {
      "text/plain": [
       "((10, 32, 128), (32, 128))"
      ]
     },
     "execution_count": 12,
     "metadata": {},
     "output_type": "execute_result"
    }
   ],
   "source": [
    "inputs[0].shape, targets[0].shape"
   ]
  },
  {
   "cell_type": "code",
   "execution_count": 17,
   "metadata": {},
   "outputs": [
    {
     "data": {
      "text/plain": [
       "array([[ 4.34449797,  3.12143258, -1.99934033, ..., -6.6957948 ,\n",
       "        -6.31902842, -3.33689666],\n",
       "       [ 3.65577633,  4.18299247, -0.07301596, ..., -2.96785212,\n",
       "        -3.93465645, -0.15646287],\n",
       "       [ 2.03966913,  1.76355649,  0.09397287, ..., -3.41369664,\n",
       "        -4.38745875, -0.71169342],\n",
       "       ...,\n",
       "       [ 4.70944462,  3.91674961,  2.76729718, ...,  0.69950872,\n",
       "         0.64455754, -1.39503669],\n",
       "       [-3.04320454, -2.87813307,  0.99223196, ...,  0.86336261,\n",
       "         3.22549374,  1.51269125],\n",
       "       [-2.06397904, -0.02035828,  2.45051504, ..., -1.59205962,\n",
       "         0.97492084, -0.47998268]])"
      ]
     },
     "execution_count": 17,
     "metadata": {},
     "output_type": "execute_result"
    }
   ],
   "source": [
    "targets[0]"
   ]
  },
  {
   "cell_type": "markdown",
   "metadata": {},
   "source": [
    "## Define model"
   ]
  },
  {
   "cell_type": "code",
   "execution_count": 12,
   "metadata": {},
   "outputs": [],
   "source": [
    "import torch\n",
    "import torch.nn as nn\n",
    "import torch.nn.functional as F"
   ]
  },
  {
   "cell_type": "code",
   "execution_count": 13,
   "metadata": {},
   "outputs": [],
   "source": [
    "class LSTMPredictor(torch.nn.Module):\n",
    "    def __init__(self, in_channels, lstm_cells,look_back):\n",
    "        super(LSTMPredictor, self).__init__()\n",
    "        self.lstm = nn.LSTM(in_channels, in_channels*2, lstm_cells)\n",
    "        self.lin = nn.Linear(in_channels*2*look_back,in_channels)\n",
    "        \n",
    "\n",
    "    def forward(self, x):\n",
    "        out, _ = self.lstm(x)\n",
    "        \n",
    "        x = rearrange(out,'a b c -> b (a c)')\n",
    "        x = F.dropout(x, p=0.25, training=self.training)\n",
    "        x = self.lin(x)\n",
    "        return x"
   ]
  },
  {
   "cell_type": "markdown",
   "metadata": {},
   "source": [
    "## Define dataset"
   ]
  },
  {
   "cell_type": "code",
   "execution_count": 14,
   "metadata": {},
   "outputs": [],
   "source": [
    "from torch.utils.data import Dataset, DataLoader\n",
    "class DEAPPrediction(Dataset):\n",
    "\n",
    "    def __init__(self, inputs, targets, transform=None):\n",
    "        self.inputs = inputs\n",
    "        self.targets = targets\n",
    "        self.transform = transform\n",
    "\n",
    "    def __len__(self):\n",
    "        return len(self.inputs)\n",
    "\n",
    "    def __getitem__(self, idx):\n",
    "        if torch.is_tensor(idx):\n",
    "            idx = idx.tolist()\n",
    "\n",
    "        sample = {'input': self.inputs[idx], 'target': self.targets[idx]}\n",
    "\n",
    "        if self.transform:\n",
    "            sample = self.transform(sample)\n",
    "\n",
    "        return sample"
   ]
  },
  {
   "cell_type": "code",
   "execution_count": 15,
   "metadata": {},
   "outputs": [],
   "source": [
    "inputs = torch.FloatTensor(inputs)\n",
    "targets = torch.FloatTensor(targets)\n",
    "\n",
    "train_inputs = inputs[:int(len(inputs)*0.8)]\n",
    "train_targets = targets[:int(len(inputs)*0.8)]\n",
    "test_inputs = inputs[int(len(inputs)*0.8):]\n",
    "test_targets = targets[:int(len(inputs)*0.8)]\n",
    "\n",
    "train_dataset = DEAPPrediction(train_inputs,train_targets)\n",
    "test_dataset = DEAPPrediction(test_inputs,test_targets)\n",
    "\n",
    "train_loader = DataLoader(train_dataset, batch_size=32,shuffle=True)\n",
    "test_loader = DataLoader(test_dataset, batch_size=32)"
   ]
  },
  {
   "cell_type": "code",
   "execution_count": 16,
   "metadata": {},
   "outputs": [
    {
     "data": {
      "text/plain": [
       "device(type='cuda')"
      ]
     },
     "execution_count": 16,
     "metadata": {},
     "output_type": "execute_result"
    }
   ],
   "source": [
    "device = torch.device('cuda' if torch.cuda.is_available() else 'cpu')\n",
    "device"
   ]
  },
  {
   "cell_type": "code",
   "execution_count": null,
   "metadata": {},
   "outputs": [
    {
     "name": "stdout",
     "output_type": "stream",
     "text": [
      "Model parameter count: 1249408\n",
      "Epoch 1 ; Train loss: 18.458124379443515 ; Test loss: 17.624909789698897\n",
      "Epoch 2 ; Train loss: 18.06024005306754 ; Test loss: 17.865214353913714\n",
      "Epoch 3 ; Train loss: 17.830401031834306 ; Test loss: 17.9649560831155\n",
      "Epoch 4 ; Train loss: 17.71068220837101 ; Test loss: 18.177021099503634\n",
      "Epoch 5 ; Train loss: 17.6795483819998 ; Test loss: 18.139592808522995\n",
      "Epoch 6 ; Train loss: 17.64960427800561 ; Test loss: 17.99579418692619\n",
      "Epoch 7 ; Train loss: 17.6362078903587 ; Test loss: 18.18427670229772\n",
      "Epoch 8 ; Train loss: 17.631008177046564 ; Test loss: 18.116469146339757\n",
      "Epoch 9 ; Train loss: 17.629169544596582 ; Test loss: 18.164171935646397\n",
      "Epoch 10 ; Train loss: 17.6219698350141 ; Test loss: 18.134632007331604\n",
      "Epoch 11 ; Train loss: 17.623152884708087 ; Test loss: 18.03022819567638\n",
      "Epoch 12 ; Train loss: 17.617887911523223 ; Test loss: 18.06616436903644\n",
      "Epoch 13 ; Train loss: 17.617204763327436 ; Test loss: 18.147487713273165\n",
      "Epoch 14 ; Train loss: 17.616498350337814 ; Test loss: 18.058627632772847\n",
      "Epoch 15 ; Train loss: 17.618097955254232 ; Test loss: 18.076220573133725\n",
      "Epoch 16 ; Train loss: 17.612340439656737 ; Test loss: 18.040236667462974\n",
      "Epoch 17 ; Train loss: 17.612244050214244 ; Test loss: 18.208990176012563\n",
      "Epoch 18 ; Train loss: 17.610758793581823 ; Test loss: 18.098572591307818\n",
      "Epoch 19 ; Train loss: 17.612451495638318 ; Test loss: 18.108447463649092\n",
      "Epoch 20 ; Train loss: 17.610187743120132 ; Test loss: 18.106265232061883\n",
      "Epoch 21 ; Train loss: 17.608404780649074 ; Test loss: 18.135141494167836\n",
      "Epoch 22 ; Train loss: 17.605484224428796 ; Test loss: 18.160104162374118\n",
      "Epoch 23 ; Train loss: 17.608501949128073 ; Test loss: 18.185782845612543\n",
      "Epoch 24 ; Train loss: 17.605996262495683 ; Test loss: 18.131280267314548\n",
      "Epoch 25 ; Train loss: 17.60696676430429 ; Test loss: 18.126836418346237\n",
      "Epoch 26 ; Train loss: 17.606577426764616 ; Test loss: 18.133473651424335\n",
      "Epoch 27 ; Train loss: 17.605615564212677 ; Test loss: 18.005822479345237\n",
      "Epoch 28 ; Train loss: 17.608115581949804 ; Test loss: 18.158278939070975\n",
      "Epoch 29 ; Train loss: 17.60482139192569 ; Test loss: 18.080507041542393\n",
      "Epoch 30 ; Train loss: 17.60662251824786 ; Test loss: 18.068493715517082\n",
      "Epoch 31 ; Train loss: 17.606043583268573 ; Test loss: 18.12148572229276\n",
      "Epoch 32 ; Train loss: 17.6044072573352 ; Test loss: 18.104472397239345\n",
      "Epoch 33 ; Train loss: 17.605902337724235 ; Test loss: 18.217044793876113\n",
      "Epoch 34 ; Train loss: 17.603789179188432 ; Test loss: 18.080931019631162\n",
      "Epoch 35 ; Train loss: 17.60339654175339 ; Test loss: 18.193769539997078\n",
      "Epoch 36 ; Train loss: 17.604913040331216 ; Test loss: 18.142734205646878\n",
      "Epoch 37 ; Train loss: 17.60787301306512 ; Test loss: 18.107892662096933\n",
      "Epoch 38 ; Train loss: 17.60702382227418 ; Test loss: 18.115381890801107\n",
      "Epoch 39 ; Train loss: 17.605996532804646 ; Test loss: 18.14205752208734\n",
      "Epoch 40 ; Train loss: 17.606302937124944 ; Test loss: 18.070100195088962\n",
      "Epoch 41 ; Train loss: 17.606185750596843 ; Test loss: 18.08166930326231\n",
      "Epoch 42 ; Train loss: 17.608946223167855 ; Test loss: 18.071177695207535\n",
      "Epoch 43 ; Train loss: 17.604355749810576 ; Test loss: 18.196358030768717\n",
      "Epoch 44 ; Train loss: 17.606370851492425 ; Test loss: 18.120411939681716\n",
      "Epoch 45 ; Train loss: 17.60278287207245 ; Test loss: 18.248528680983622\n",
      "Epoch 46 ; Train loss: 17.606016313953763 ; Test loss: 18.102273916742604\n",
      "Epoch 47 ; Train loss: 17.604419662694262 ; Test loss: 18.128564852817803\n",
      "Epoch 48 ; Train loss: 17.605475336123423 ; Test loss: 18.079733951835877\n",
      "Epoch 49 ; Train loss: 17.60536532645013 ; Test loss: 18.045197614438973\n",
      "Epoch 50 ; Train loss: 17.606572852772512 ; Test loss: 18.172687591261166\n",
      "Epoch 51 ; Train loss: 17.605335322155316 ; Test loss: 17.99330004309393\n",
      "Epoch 52 ; Train loss: 17.605025976326814 ; Test loss: 18.07371664958395\n",
      "Epoch 53 ; Train loss: 17.604207682761416 ; Test loss: 18.134140609935592\n",
      "Epoch 54 ; Train loss: 17.599944743381183 ; Test loss: 18.168961962317205\n",
      "Epoch 55 ; Train loss: 17.604696311768453 ; Test loss: 18.04818564007996\n",
      "Epoch 56 ; Train loss: 17.603137728514945 ; Test loss: 18.126215673555993\n",
      "Epoch 57 ; Train loss: 17.601979864630728 ; Test loss: 18.091468865704385\n",
      "Epoch 58 ; Train loss: 17.6041279476919 ; Test loss: 18.06787185304484\n",
      "Epoch 59 ; Train loss: 17.602153635328744 ; Test loss: 18.114060571998547\n",
      "Epoch 60 ; Train loss: 17.602873548580583 ; Test loss: 18.19545827853452\n",
      "Epoch 61 ; Train loss: 17.603409553029735 ; Test loss: 18.07488413525235\n",
      "Epoch 62 ; Train loss: 17.603341289386627 ; Test loss: 18.124447294101593\n",
      "Epoch 63 ; Train loss: 17.601619102392988 ; Test loss: 18.105741968580112\n",
      "Epoch 64 ; Train loss: 17.60525365543973 ; Test loss: 18.093603972416773\n",
      "Epoch 65 ; Train loss: 17.60490590447833 ; Test loss: 18.02153154846969\n",
      "Epoch 66 ; Train loss: 17.606202172625597 ; Test loss: 18.069382989482516\n",
      "Epoch 67 ; Train loss: 17.605194799459664 ; Test loss: 18.068535579997263\n",
      "Epoch 68 ; Train loss: 17.60436913010421 ; Test loss: 18.09869206786915\n",
      "Epoch 69 ; Train loss: 17.601813589691357 ; Test loss: 18.06752014767592\n",
      "Epoch 70 ; Train loss: 17.601636718033227 ; Test loss: 17.99844246153619\n",
      "Epoch 71 ; Train loss: 17.605343606061997 ; Test loss: 18.105232080836206\n",
      "Epoch 72 ; Train loss: 17.604211467086888 ; Test loss: 18.079374052157068\n",
      "Epoch 73 ; Train loss: 17.605640807728857 ; Test loss: 18.090048662416496\n",
      "Epoch 74 ; Train loss: 17.60245432519609 ; Test loss: 18.196558976628978\n",
      "Epoch 75 ; Train loss: 17.605492506816887 ; Test loss: 18.07516173344509\n",
      "Epoch 76 ; Train loss: 17.602497946684526 ; Test loss: 18.020983301150572\n",
      "Epoch 77 ; Train loss: 17.607119678691696 ; Test loss: 18.151749635198314\n",
      "Epoch 78 ; Train loss: 17.604265735407544 ; Test loss: 18.049844699300778\n",
      "Epoch 79 ; Train loss: 17.60474233262858 ; Test loss: 18.107112817703538\n",
      "Epoch 80 ; Train loss: 17.60157614300965 ; Test loss: 18.10657652472235\n",
      "Epoch 81 ; Train loss: 17.60620674509911 ; Test loss: 18.039839027793544\n",
      "Epoch 82 ; Train loss: 17.604236862462038 ; Test loss: 18.127223683011\n",
      "Epoch 83 ; Train loss: 17.601305501476215 ; Test loss: 18.154229929492733\n",
      "Epoch 84 ; Train loss: 17.603441926324443 ; Test loss: 18.122659640707028\n",
      "Epoch 85 ; Train loss: 17.60411688324752 ; Test loss: 18.141923303057435\n",
      "Epoch 86 ; Train loss: 17.603283520716772 ; Test loss: 18.144550949145273\n",
      "Epoch 87 ; Train loss: 17.601200330029627 ; Test loss: 18.0534220956693\n",
      "Epoch 88 ; Train loss: 17.606576073701216 ; Test loss: 18.021518403557454\n",
      "Epoch 89 ; Train loss: 17.602264575897507 ; Test loss: 18.003569912758604\n",
      "Epoch 90 ; Train loss: 17.603122102227182 ; Test loss: 18.08502740313293\n",
      "Epoch 91 ; Train loss: 17.601710409115835 ; Test loss: 18.10266516011232\n",
      "Epoch 92 ; Train loss: 17.60536312753228 ; Test loss: 18.100458345595438\n",
      "Epoch 93 ; Train loss: 17.601858154223983 ; Test loss: 18.1487297981408\n",
      "Epoch 94 ; Train loss: 17.600697812001417 ; Test loss: 18.131480806192776\n",
      "Epoch 95 ; Train loss: 17.6010009969116 ; Test loss: 18.162130197901636\n",
      "Epoch 96 ; Train loss: 17.60541891444261 ; Test loss: 18.221070101306697\n",
      "Epoch 97 ; Train loss: 17.60388937725383 ; Test loss: 18.113491926982903\n",
      "Epoch 98 ; Train loss: 17.602621616071957 ; Test loss: 18.125214467382733\n",
      "Epoch 99 ; Train loss: 17.6015914625423 ; Test loss: 18.086668719151977\n",
      "Epoch 100 ; Train loss: 17.602890209027915 ; Test loss: 18.150681161576774\n",
      "Epoch 101 ; Train loss: 17.604108356366492 ; Test loss: 18.094535602885447\n",
      "Epoch 102 ; Train loss: 17.60204529306691 ; Test loss: 18.037394298869334\n",
      "Epoch 103 ; Train loss: 17.601792221616027 ; Test loss: 18.243188766916845\n",
      "Epoch 104 ; Train loss: 17.6024054600175 ; Test loss: 18.2227939557118\n",
      "Epoch 105 ; Train loss: 17.603677937938908 ; Test loss: 18.120810581620333\n",
      "Epoch 106 ; Train loss: 17.603048500741362 ; Test loss: 18.036073162297534\n",
      "Epoch 107 ; Train loss: 17.602772638296624 ; Test loss: 18.087001496819173\n",
      "Epoch 108 ; Train loss: 17.604110319902944 ; Test loss: 18.085356305359277\n",
      "Epoch 109 ; Train loss: 17.60463491215068 ; Test loss: 18.073962163014016\n",
      "Epoch 110 ; Train loss: 17.60575855157937 ; Test loss: 18.12590334218019\n",
      "Epoch 111 ; Train loss: 17.606013126434036 ; Test loss: 18.111604599436376\n",
      "Epoch 112 ; Train loss: 17.602188863572042 ; Test loss: 18.091592855514236\n"
     ]
    },
    {
     "name": "stdout",
     "output_type": "stream",
     "text": [
      "Epoch 113 ; Train loss: 17.605795306005295 ; Test loss: 18.098662667973027\n",
      "Epoch 114 ; Train loss: 17.602341088519733 ; Test loss: 18.109359571128895\n",
      "Epoch 115 ; Train loss: 17.604903895384187 ; Test loss: 18.184307353511738\n",
      "Epoch 116 ; Train loss: 17.606948776609578 ; Test loss: 18.107120088710907\n",
      "Epoch 117 ; Train loss: 17.602868622275675 ; Test loss: 18.073007565395088\n",
      "Epoch 118 ; Train loss: 17.604027734440603 ; Test loss: 18.159142579242683\n",
      "Epoch 119 ; Train loss: 17.606693393865207 ; Test loss: 18.087972574173264\n",
      "Epoch 120 ; Train loss: 17.603578930447814 ; Test loss: 18.095913079134217\n",
      "Epoch 121 ; Train loss: 17.600963493820966 ; Test loss: 18.10821439050565\n",
      "Epoch 122 ; Train loss: 17.604342337626562 ; Test loss: 18.094809787288593\n",
      "Epoch 123 ; Train loss: 17.601861335669355 ; Test loss: 18.20731197648747\n",
      "Epoch 124 ; Train loss: 17.606444366418632 ; Test loss: 18.040911188550815\n",
      "Epoch 125 ; Train loss: 17.604209178572248 ; Test loss: 18.13805108768925\n",
      "Epoch 126 ; Train loss: 17.603849735988934 ; Test loss: 18.19973897630242\n",
      "Epoch 127 ; Train loss: 17.604260810621223 ; Test loss: 18.05841190799786\n",
      "Epoch 128 ; Train loss: 17.603306741471503 ; Test loss: 18.083546808570812\n",
      "Epoch 129 ; Train loss: 17.603052193951456 ; Test loss: 18.121658689656833\n",
      "Epoch 130 ; Train loss: 17.601576721592313 ; Test loss: 18.06371540020985\n",
      "Epoch 131 ; Train loss: 17.607031807018693 ; Test loss: 18.088247736548162\n",
      "Epoch 132 ; Train loss: 17.603257990187142 ; Test loss: 18.098563923197947\n",
      "Epoch 133 ; Train loss: 17.603262702370905 ; Test loss: 18.064886518344757\n",
      "Epoch 134 ; Train loss: 17.602602059674112 ; Test loss: 18.21305325987992\n",
      "Epoch 135 ; Train loss: 17.60122814148095 ; Test loss: 18.086304427711827\n",
      "Epoch 136 ; Train loss: 17.602711422428204 ; Test loss: 18.129609369168616\n",
      "Epoch 137 ; Train loss: 17.60496809983709 ; Test loss: 18.111751732552886\n",
      "Epoch 138 ; Train loss: 17.603614482150714 ; Test loss: 18.01473869639597\n",
      "Epoch 139 ; Train loss: 17.604183001123417 ; Test loss: 18.15032864831815\n",
      "Epoch 140 ; Train loss: 17.602216348526586 ; Test loss: 18.076460777574283\n",
      "Epoch 141 ; Train loss: 17.605118593592554 ; Test loss: 18.107133689200044\n",
      "Epoch 142 ; Train loss: 17.60364308326867 ; Test loss: 18.077653550797965\n",
      "Epoch 143 ; Train loss: 17.60468596713558 ; Test loss: 18.140286779707406\n",
      "Epoch 144 ; Train loss: 17.60436375125958 ; Test loss: 18.060693182003725\n",
      "Epoch 145 ; Train loss: 17.60452455016458 ; Test loss: 18.12914804592254\n",
      "Epoch 146 ; Train loss: 17.604104353364107 ; Test loss: 18.068638710459325\n",
      "Epoch 147 ; Train loss: 17.602592679345683 ; Test loss: 18.070735451522147\n",
      "Epoch 148 ; Train loss: 17.602052964981954 ; Test loss: 18.014122039649138\n",
      "Epoch 149 ; Train loss: 17.601733506864804 ; Test loss: 18.15014676986986\n",
      "Epoch 150 ; Train loss: 17.604317624098176 ; Test loss: 18.10282137439509\n",
      "Epoch 151 ; Train loss: 17.60398296489837 ; Test loss: 18.086968282225786\n",
      "Epoch 152 ; Train loss: 17.60420068813737 ; Test loss: 18.134570030649755\n",
      "Epoch 153 ; Train loss: 17.604375335061626 ; Test loss: 18.06679357540835\n",
      "Epoch 154 ; Train loss: 17.604986344173454 ; Test loss: 18.087378617304907\n",
      "Epoch 155 ; Train loss: 17.603470117423186 ; Test loss: 18.106605171397995\n",
      "Epoch 156 ; Train loss: 17.601637330024865 ; Test loss: 18.099077564895534\n",
      "Epoch 157 ; Train loss: 17.605307923760385 ; Test loss: 18.022109560146454\n",
      "Epoch 158 ; Train loss: 17.601974983883512 ; Test loss: 18.118815835114496\n",
      "Epoch 159 ; Train loss: 17.606056646176963 ; Test loss: 18.02706776151232\n",
      "Epoch 160 ; Train loss: 17.602794006371955 ; Test loss: 18.15225112817849\n",
      "Epoch 161 ; Train loss: 17.60342615425207 ; Test loss: 18.09488185348025\n",
      "Epoch 162 ; Train loss: 17.602451257644944 ; Test loss: 18.063918915523846\n",
      "Epoch 163 ; Train loss: 17.605394108280255 ; Test loss: 18.017404683835945\n",
      "Epoch 164 ; Train loss: 17.601589687310966 ; Test loss: 18.123104599630757\n",
      "Epoch 165 ; Train loss: 17.601558566852738 ; Test loss: 18.07666049641409\n",
      "Epoch 166 ; Train loss: 17.606126227955908 ; Test loss: 18.207697473513853\n",
      "Epoch 167 ; Train loss: 17.604306951449935 ; Test loss: 18.005178281456043\n",
      "Epoch 168 ; Train loss: 17.605640727243607 ; Test loss: 18.15252937025325\n",
      "Epoch 169 ; Train loss: 17.602876640429162 ; Test loss: 18.0527788696775\n",
      "Epoch 170 ; Train loss: 17.606218562763967 ; Test loss: 18.03760018318322\n",
      "Epoch 171 ; Train loss: 17.60323912930337 ; Test loss: 18.0627052647293\n",
      "Epoch 172 ; Train loss: 17.605999905592316 ; Test loss: 18.1551970828111\n"
     ]
    }
   ],
   "source": [
    "model = LSTMPredictor(window_size,2,look_back)     \n",
    "pytorch_total_params = sum(p.numel() for p in model.parameters())\n",
    "print(f'Model parameter count: {pytorch_total_params}')\n",
    "\n",
    "# optimizer = torch.optim.Adam(model.parameters(), lr=0.01)\n",
    "optimizer = torch.optim.Adadelta(model.parameters(), lr=1, rho=0.9, eps=1e-06, weight_decay=0.01)\n",
    "\n",
    "criterion = nn.MSELoss()\n",
    "model = model.to(device)\n",
    "\n",
    "def train():\n",
    "    model.train()\n",
    "    losses = []\n",
    "    for batch in train_loader:\n",
    "        optimizer.zero_grad()\n",
    "        inpt = batch['input'].to(device)\n",
    "        tget = batch['target'].to(device)\n",
    "        \n",
    "        inpt = rearrange(inpt, 'a b c d -> b (a c) d')\n",
    "        tget = rearrange(tget, 'a b c -> (a b) c')\n",
    "        \n",
    "        out = model(inpt)\n",
    "        loss = criterion(out,tget)\n",
    "        loss.backward()\n",
    "        losses.append(loss.item())\n",
    "        optimizer.step()\n",
    "    return np.array(losses).mean()\n",
    "\n",
    "\n",
    "def test():\n",
    "    model.eval()\n",
    "    losses = []\n",
    "    for batch in test_loader:\n",
    "        inpt = batch['input'].to(device)\n",
    "        tget = batch['target'].to(device)\n",
    "        \n",
    "        inpt = rearrange(inpt, 'a b c d -> b (a c) d')\n",
    "        tget = rearrange(tget, 'a b c -> (a b) c')\n",
    "        \n",
    "        out = model(inpt)\n",
    "        loss = criterion(out,tget)\n",
    "        losses.append(loss.item())\n",
    "    return np.array(losses).mean()\n",
    "\n",
    "best_val_loss = np.inf\n",
    "esp = 0\n",
    "MAX_ESP = 20\n",
    "for epoch in range(1, 2000):\n",
    "    train_loss = train()\n",
    "    test_loss = test()\n",
    "#     if test_loss < best_val_loss:\n",
    "#         best_val_loss = test_loss\n",
    "#         esp = 0\n",
    "#     else:\n",
    "#         esp += 1\n",
    "#         if esp >= MAX_ESP:\n",
    "#             break\n",
    "    print(f'Epoch {epoch} ; Train loss: {train_loss} ; Test loss: {test_loss}')"
   ]
  }
 ],
 "metadata": {
  "kernelspec": {
   "display_name": "torch",
   "language": "python",
   "name": "torch"
  },
  "language_info": {
   "codemirror_mode": {
    "name": "ipython",
    "version": 3
   },
   "file_extension": ".py",
   "mimetype": "text/x-python",
   "name": "python",
   "nbconvert_exporter": "python",
   "pygments_lexer": "ipython3",
   "version": "3.8.5"
  }
 },
 "nbformat": 4,
 "nbformat_minor": 5
}
