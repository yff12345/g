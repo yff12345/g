{
 "cells": [
  {
   "cell_type": "markdown",
   "metadata": {},
   "source": [
    "## Includes"
   ]
  },
  {
   "cell_type": "code",
   "execution_count": 3,
   "metadata": {},
   "outputs": [],
   "source": [
    "import pandas as pd\n",
    "import numpy as np\n",
    "import matplotlib.pyplot as plt\n",
    "from scipy import stats\n",
    "import glob"
   ]
  },
  {
   "cell_type": "markdown",
   "metadata": {},
   "source": [
    "# Latex results"
   ]
  },
  {
   "cell_type": "code",
   "execution_count": 4,
   "metadata": {},
   "outputs": [
    {
     "data": {
      "text/html": [
       "<div>\n",
       "<style scoped>\n",
       "    .dataframe tbody tr th:only-of-type {\n",
       "        vertical-align: middle;\n",
       "    }\n",
       "\n",
       "    .dataframe tbody tr th {\n",
       "        vertical-align: top;\n",
       "    }\n",
       "\n",
       "    .dataframe thead th {\n",
       "        text-align: right;\n",
       "    }\n",
       "</style>\n",
       "<table border=\"1\" class=\"dataframe\">\n",
       "  <thead>\n",
       "    <tr style=\"text-align: right;\">\n",
       "      <th></th>\n",
       "      <th>eeg_feature</th>\n",
       "      <th>model</th>\n",
       "      <th>hidden_channels</th>\n",
       "      <th>window_size</th>\n",
       "      <th>batch_size</th>\n",
       "      <th>learning_rate</th>\n",
       "      <th>dropout_rate</th>\n",
       "      <th>weight_decay</th>\n",
       "      <th>activation_funct</th>\n",
       "      <th>number_train_samples</th>\n",
       "      <th>...</th>\n",
       "      <th>val_f1</th>\n",
       "      <th>val_prec</th>\n",
       "      <th>val_reca</th>\n",
       "      <th>val_roc</th>\n",
       "      <th>pytorch_total_params</th>\n",
       "      <th>train_time</th>\n",
       "      <th>best_epoch</th>\n",
       "      <th>experiment_id</th>\n",
       "      <th>train_samples</th>\n",
       "      <th>val_samples</th>\n",
       "    </tr>\n",
       "  </thead>\n",
       "  <tbody>\n",
       "    <tr>\n",
       "      <th>0</th>\n",
       "      <td>'wav'</td>\n",
       "      <td>'MLP'</td>\n",
       "      <td>256</td>\n",
       "      <td>2.0</td>\n",
       "      <td>32</td>\n",
       "      <td>0.0005</td>\n",
       "      <td>0.25</td>\n",
       "      <td>0.0</td>\n",
       "      <td>'relu'</td>\n",
       "      <td>2</td>\n",
       "      <td>...</td>\n",
       "      <td>0.9886212524465587</td>\n",
       "      <td>0.9898202470911872</td>\n",
       "      <td>0.98875</td>\n",
       "      <td>0.9999134072580644</td>\n",
       "      <td>41248</td>\n",
       "      <td>2000.7293481826782</td>\n",
       "      <td>599</td>\n",
       "      <td>'326'</td>\n",
       "      <td>'12</td>\n",
       "      <td>'22</td>\n",
       "    </tr>\n",
       "    <tr>\n",
       "      <th>1</th>\n",
       "      <td>'wav'</td>\n",
       "      <td>'MLP'</td>\n",
       "      <td>256</td>\n",
       "      <td>2.0</td>\n",
       "      <td>32</td>\n",
       "      <td>0.0005</td>\n",
       "      <td>0.25</td>\n",
       "      <td>0.0</td>\n",
       "      <td>'relu'</td>\n",
       "      <td>2</td>\n",
       "      <td>...</td>\n",
       "      <td>0.9906245125820113</td>\n",
       "      <td>0.9910835093068848</td>\n",
       "      <td>0.9906250000000001</td>\n",
       "      <td>0.9999359879032257</td>\n",
       "      <td>41248</td>\n",
       "      <td>2142.8056061267853</td>\n",
       "      <td>735</td>\n",
       "      <td>'1466'</td>\n",
       "      <td>'97</td>\n",
       "      <td>'52</td>\n",
       "    </tr>\n",
       "    <tr>\n",
       "      <th>2</th>\n",
       "      <td>'wav'</td>\n",
       "      <td>'MLP'</td>\n",
       "      <td>256</td>\n",
       "      <td>2.0</td>\n",
       "      <td>32</td>\n",
       "      <td>0.0005</td>\n",
       "      <td>0.25</td>\n",
       "      <td>0.0</td>\n",
       "      <td>'relu'</td>\n",
       "      <td>2</td>\n",
       "      <td>...</td>\n",
       "      <td>0.9823312199172278</td>\n",
       "      <td>0.9868760387797888</td>\n",
       "      <td>0.983125</td>\n",
       "      <td>0.9999946572580645</td>\n",
       "      <td>41248</td>\n",
       "      <td>3337.6750404834747</td>\n",
       "      <td>945</td>\n",
       "      <td>'2606'</td>\n",
       "      <td>'101</td>\n",
       "      <td>'11</td>\n",
       "    </tr>\n",
       "    <tr>\n",
       "      <th>3</th>\n",
       "      <td>'wav'</td>\n",
       "      <td>'MLP'</td>\n",
       "      <td>256</td>\n",
       "      <td>2.0</td>\n",
       "      <td>32</td>\n",
       "      <td>0.0005</td>\n",
       "      <td>0.25</td>\n",
       "      <td>0.0</td>\n",
       "      <td>'relu'</td>\n",
       "      <td>2</td>\n",
       "      <td>...</td>\n",
       "      <td>0.9924616192644403</td>\n",
       "      <td>0.9928560471732948</td>\n",
       "      <td>0.9925</td>\n",
       "      <td>0.999908870967742</td>\n",
       "      <td>41248</td>\n",
       "      <td>2653.7170102596283</td>\n",
       "      <td>925</td>\n",
       "      <td>'3746'</td>\n",
       "      <td>'5</td>\n",
       "      <td>'40</td>\n",
       "    </tr>\n",
       "    <tr>\n",
       "      <th>4</th>\n",
       "      <td>'wav'</td>\n",
       "      <td>'MLP'</td>\n",
       "      <td>256</td>\n",
       "      <td>2.0</td>\n",
       "      <td>32</td>\n",
       "      <td>0.0005</td>\n",
       "      <td>0.25</td>\n",
       "      <td>0.0</td>\n",
       "      <td>'relu'</td>\n",
       "      <td>2</td>\n",
       "      <td>...</td>\n",
       "      <td>0.9843726475297668</td>\n",
       "      <td>0.9868600780339203</td>\n",
       "      <td>0.985</td>\n",
       "      <td>0.9999833669354838</td>\n",
       "      <td>41248</td>\n",
       "      <td>2433.5561838150024</td>\n",
       "      <td>824</td>\n",
       "      <td>'4886'</td>\n",
       "      <td>'48</td>\n",
       "      <td>'40</td>\n",
       "    </tr>\n",
       "    <tr>\n",
       "      <th>...</th>\n",
       "      <td>...</td>\n",
       "      <td>...</td>\n",
       "      <td>...</td>\n",
       "      <td>...</td>\n",
       "      <td>...</td>\n",
       "      <td>...</td>\n",
       "      <td>...</td>\n",
       "      <td>...</td>\n",
       "      <td>...</td>\n",
       "      <td>...</td>\n",
       "      <td>...</td>\n",
       "      <td>...</td>\n",
       "      <td>...</td>\n",
       "      <td>...</td>\n",
       "      <td>...</td>\n",
       "      <td>...</td>\n",
       "      <td>...</td>\n",
       "      <td>...</td>\n",
       "      <td>...</td>\n",
       "      <td>...</td>\n",
       "      <td>...</td>\n",
       "    </tr>\n",
       "    <tr>\n",
       "      <th>5</th>\n",
       "      <td>'wav'</td>\n",
       "      <td>'GraphConv'</td>\n",
       "      <td>2048</td>\n",
       "      <td>2.0</td>\n",
       "      <td>32</td>\n",
       "      <td>0.0005</td>\n",
       "      <td>0.25</td>\n",
       "      <td>0.0</td>\n",
       "      <td>'relu'</td>\n",
       "      <td>8</td>\n",
       "      <td>...</td>\n",
       "      <td>0.9827370966696336</td>\n",
       "      <td>0.982971402779677</td>\n",
       "      <td>0.9828125</td>\n",
       "      <td>0.999893245967742</td>\n",
       "      <td>329796</td>\n",
       "      <td>1861.271414756775</td>\n",
       "      <td>501</td>\n",
       "      <td>'6079'</td>\n",
       "      <td>'72</td>\n",
       "      <td>'101</td>\n",
       "    </tr>\n",
       "    <tr>\n",
       "      <th>6</th>\n",
       "      <td>'wav'</td>\n",
       "      <td>'GraphConv'</td>\n",
       "      <td>2048</td>\n",
       "      <td>2.0</td>\n",
       "      <td>32</td>\n",
       "      <td>0.0005</td>\n",
       "      <td>0.25</td>\n",
       "      <td>0.0</td>\n",
       "      <td>'relu'</td>\n",
       "      <td>8</td>\n",
       "      <td>...</td>\n",
       "      <td>0.9956257818003029</td>\n",
       "      <td>0.9956988325594605</td>\n",
       "      <td>0.995625</td>\n",
       "      <td>0.9999852822580645</td>\n",
       "      <td>329796</td>\n",
       "      <td>850.090039730072</td>\n",
       "      <td>206</td>\n",
       "      <td>'7219'</td>\n",
       "      <td>'59</td>\n",
       "      <td>'34</td>\n",
       "    </tr>\n",
       "    <tr>\n",
       "      <th>7</th>\n",
       "      <td>'wav'</td>\n",
       "      <td>'GraphConv'</td>\n",
       "      <td>2048</td>\n",
       "      <td>2.0</td>\n",
       "      <td>32</td>\n",
       "      <td>0.0005</td>\n",
       "      <td>0.25</td>\n",
       "      <td>0.0</td>\n",
       "      <td>'relu'</td>\n",
       "      <td>8</td>\n",
       "      <td>...</td>\n",
       "      <td>0.9956121781738663</td>\n",
       "      <td>0.995652035566702</td>\n",
       "      <td>0.995625</td>\n",
       "      <td>0.9999960685483871</td>\n",
       "      <td>329796</td>\n",
       "      <td>1379.2792975902557</td>\n",
       "      <td>295</td>\n",
       "      <td>'8359'</td>\n",
       "      <td>'28</td>\n",
       "      <td>'34</td>\n",
       "    </tr>\n",
       "    <tr>\n",
       "      <th>8</th>\n",
       "      <td>'wav'</td>\n",
       "      <td>'GraphConv'</td>\n",
       "      <td>2048</td>\n",
       "      <td>2.0</td>\n",
       "      <td>32</td>\n",
       "      <td>0.0005</td>\n",
       "      <td>0.25</td>\n",
       "      <td>0.0</td>\n",
       "      <td>'relu'</td>\n",
       "      <td>8</td>\n",
       "      <td>...</td>\n",
       "      <td>0.991193773041873</td>\n",
       "      <td>0.9914193086620109</td>\n",
       "      <td>0.99125</td>\n",
       "      <td>0.9999605846774193</td>\n",
       "      <td>329796</td>\n",
       "      <td>896.0295360088348</td>\n",
       "      <td>214</td>\n",
       "      <td>'9499'</td>\n",
       "      <td>'24</td>\n",
       "      <td>'8</td>\n",
       "    </tr>\n",
       "    <tr>\n",
       "      <th>9</th>\n",
       "      <td>'wav'</td>\n",
       "      <td>'GraphConv'</td>\n",
       "      <td>2048</td>\n",
       "      <td>2.0</td>\n",
       "      <td>32</td>\n",
       "      <td>0.0005</td>\n",
       "      <td>0.25</td>\n",
       "      <td>0.0</td>\n",
       "      <td>'relu'</td>\n",
       "      <td>8</td>\n",
       "      <td>...</td>\n",
       "      <td>0.9836349458301776</td>\n",
       "      <td>0.9837930592828905</td>\n",
       "      <td>0.98375</td>\n",
       "      <td>0.9998962701612903</td>\n",
       "      <td>329796</td>\n",
       "      <td>1761.425131559372</td>\n",
       "      <td>464</td>\n",
       "      <td>'10639'</td>\n",
       "      <td>'21</td>\n",
       "      <td>'38</td>\n",
       "    </tr>\n",
       "  </tbody>\n",
       "</table>\n",
       "<p>11487 rows × 36 columns</p>\n",
       "</div>"
      ],
      "text/plain": [
       "   eeg_feature        model hidden_channels window_size batch_size  \\\n",
       "0        'wav'        'MLP'             256         2.0         32   \n",
       "1        'wav'        'MLP'             256         2.0         32   \n",
       "2        'wav'        'MLP'             256         2.0         32   \n",
       "3        'wav'        'MLP'             256         2.0         32   \n",
       "4        'wav'        'MLP'             256         2.0         32   \n",
       "..         ...          ...             ...         ...        ...   \n",
       "5        'wav'  'GraphConv'            2048         2.0         32   \n",
       "6        'wav'  'GraphConv'            2048         2.0         32   \n",
       "7        'wav'  'GraphConv'            2048         2.0         32   \n",
       "8        'wav'  'GraphConv'            2048         2.0         32   \n",
       "9        'wav'  'GraphConv'            2048         2.0         32   \n",
       "\n",
       "   learning_rate dropout_rate weight_decay activation_funct  \\\n",
       "0         0.0005         0.25          0.0           'relu'   \n",
       "1         0.0005         0.25          0.0           'relu'   \n",
       "2         0.0005         0.25          0.0           'relu'   \n",
       "3         0.0005         0.25          0.0           'relu'   \n",
       "4         0.0005         0.25          0.0           'relu'   \n",
       "..           ...          ...          ...              ...   \n",
       "5         0.0005         0.25          0.0           'relu'   \n",
       "6         0.0005         0.25          0.0           'relu'   \n",
       "7         0.0005         0.25          0.0           'relu'   \n",
       "8         0.0005         0.25          0.0           'relu'   \n",
       "9         0.0005         0.25          0.0           'relu'   \n",
       "\n",
       "   number_train_samples  ...              val_f1            val_prec  \\\n",
       "0                     2  ...  0.9886212524465587  0.9898202470911872   \n",
       "1                     2  ...  0.9906245125820113  0.9910835093068848   \n",
       "2                     2  ...  0.9823312199172278  0.9868760387797888   \n",
       "3                     2  ...  0.9924616192644403  0.9928560471732948   \n",
       "4                     2  ...  0.9843726475297668  0.9868600780339203   \n",
       "..                  ...  ...                 ...                 ...   \n",
       "5                     8  ...  0.9827370966696336   0.982971402779677   \n",
       "6                     8  ...  0.9956257818003029  0.9956988325594605   \n",
       "7                     8  ...  0.9956121781738663   0.995652035566702   \n",
       "8                     8  ...   0.991193773041873  0.9914193086620109   \n",
       "9                     8  ...  0.9836349458301776  0.9837930592828905   \n",
       "\n",
       "              val_reca             val_roc pytorch_total_params  \\\n",
       "0              0.98875  0.9999134072580644                41248   \n",
       "1   0.9906250000000001  0.9999359879032257                41248   \n",
       "2             0.983125  0.9999946572580645                41248   \n",
       "3               0.9925   0.999908870967742                41248   \n",
       "4                0.985  0.9999833669354838                41248   \n",
       "..                 ...                 ...                  ...   \n",
       "5            0.9828125   0.999893245967742               329796   \n",
       "6             0.995625  0.9999852822580645               329796   \n",
       "7             0.995625  0.9999960685483871               329796   \n",
       "8              0.99125  0.9999605846774193               329796   \n",
       "9              0.98375  0.9998962701612903               329796   \n",
       "\n",
       "            train_time best_epoch experiment_id train_samples val_samples  \n",
       "0   2000.7293481826782        599         '326'           '12         '22  \n",
       "1   2142.8056061267853        735        '1466'           '97         '52  \n",
       "2   3337.6750404834747        945        '2606'          '101         '11  \n",
       "3   2653.7170102596283        925        '3746'            '5         '40  \n",
       "4   2433.5561838150024        824        '4886'           '48         '40  \n",
       "..                 ...        ...           ...           ...         ...  \n",
       "5    1861.271414756775        501        '6079'           '72        '101  \n",
       "6     850.090039730072        206        '7219'           '59         '34  \n",
       "7   1379.2792975902557        295        '8359'           '28         '34  \n",
       "8    896.0295360088348        214        '9499'           '24          '8  \n",
       "9    1761.425131559372        464       '10639'           '21         '38  \n",
       "\n",
       "[11487 rows x 36 columns]"
      ]
     },
     "execution_count": 4,
     "metadata": {},
     "output_type": "execute_result"
    }
   ],
   "source": [
    "results = [pd.read_csv(path) for path in glob.glob(\"../logs/*csv\")]\n",
    "results = pd.concat(results)\n",
    "# Clean dataframe\n",
    "results = results.apply(lambda x: x.apply(lambda y: y.split(' ')[1][:-1]))\n",
    "results"
   ]
  },
  {
   "cell_type": "code",
   "execution_count": 5,
   "metadata": {},
   "outputs": [],
   "source": [
    "model_names = ['GraphConv']\n",
    "hidden_channels = [512, 1024]\n",
    "models = list(filter(None, [f'{name}_{hc}' if not name == 'LR' else None if hc != 64 else 'LR' for name in model_names for hc in hidden_channels ]))\n",
    "features = ['raw']\n",
    "window_sizes = [1, 2]\n",
    "number_train_samples = [16, 32, 64, 128]"
   ]
  },
  {
   "cell_type": "code",
   "execution_count": 6,
   "metadata": {},
   "outputs": [],
   "source": [
    "sorted_by_time_nts_ws = np.array([ws*nts for ws in window_sizes for nts in number_train_samples])\n",
    "b = np.array([ws for ws in window_sizes for nts in number_train_samples])\n",
    "c = np.array([nts for ws in window_sizes for nts in number_train_samples])\n",
    "idx = np.argsort(sorted_by_time_nts_ws)\n",
    "sorted_by_time_nts_ws.sort()\n",
    "sorted_ws = b[idx]\n",
    "sorted_nts = c[idx]"
   ]
  },
  {
   "cell_type": "code",
   "execution_count": 7,
   "metadata": {},
   "outputs": [
    {
     "name": "stdout",
     "output_type": "stream",
     "text": [
      "raw\n"
     ]
    }
   ],
   "source": [
    "dfs = []\n",
    "\n",
    "for ef in features:\n",
    "    print(ef)\n",
    "    df = pd.DataFrame(index=models)\n",
    "    for (ws,nts) in zip(sorted_ws, sorted_nts):\n",
    "        res_col = []\n",
    "        for model in models:\n",
    "            if model == 'LR':\n",
    "                hc = 0\n",
    "            else:\n",
    "                model, hc = model.split('_')\n",
    "                hc = int(hc)\n",
    "            res = results[(results['model'] == f'\\'{model}\\'') & (results['hidden_channels'].astype(int)==hc) & (results['window_size'].astype(float) == ws) & (results['number_train_samples'].astype(int)==nts) & (results['eeg_feature'] == f'\\'{ef}\\'')]\n",
    "            mean_acc = res['test_acc'].astype(float).mean()\n",
    "            std_acc = res['test_acc'].astype(float).std()\n",
    "\n",
    "            res_col.append(f'{mean_acc:.2f}±{std_acc:.2f}')\n",
    "        df[f'{ef} {ws}s x{nts}'] = res_col  \n",
    "    dfs.append(df)"
   ]
  },
  {
   "cell_type": "code",
   "execution_count": 9,
   "metadata": {},
   "outputs": [],
   "source": [
    "raw_df = dfs[0]"
   ]
  },
  {
   "cell_type": "markdown",
   "metadata": {},
   "source": [
    "# Inflection points"
   ]
  },
  {
   "cell_type": "code",
   "execution_count": 10,
   "metadata": {},
   "outputs": [
    {
     "data": {
      "text/plain": [
       "raw 1s x16     0.66±0.01\n",
       "raw 1s x32     0.85±0.01\n",
       "raw 2s x16     0.66±0.03\n",
       "raw 1s x64     0.94±0.00\n",
       "raw 2s x32     0.84±0.01\n",
       "raw 1s x128    0.97±0.01\n",
       "raw 2s x64     0.92±0.03\n",
       "raw 2s x128    0.93±0.04\n",
       "Name: GraphConv_512, dtype: object"
      ]
     },
     "execution_count": 10,
     "metadata": {},
     "output_type": "execute_result"
    }
   ],
   "source": [
    "lr_res = raw_df.iloc[0]\n",
    "lr_res"
   ]
  },
  {
   "cell_type": "markdown",
   "metadata": {},
   "source": [
    "## Option 1) Show all values"
   ]
  },
  {
   "cell_type": "code",
   "execution_count": 12,
   "metadata": {
    "scrolled": true
   },
   "outputs": [
    {
     "data": {
      "image/png": "[encoded data removed]",
      "text/plain": [
       "<Figure size 432x288 with 1 Axes>"
      ]
     },
     "metadata": {
      "needs_background": "light"
     },
     "output_type": "display_data"
    }
   ],
   "source": [
    "lr_means = np.array([float(x.split('±')[0]) for x in lr_res.to_numpy()])\n",
    "lr_stds = np.array([float(x.split('±')[1]) for x in lr_res.to_numpy()])\n",
    "plt.plot(sorted_by_time_nts_ws,lr_means)\n",
    "plt.title('Graphconv')\n",
    "plt.xlabel('available train data (s)')\n",
    "plt.ylabel('test accuracy')\n",
    "plt.show()"
   ]
  },
  {
   "cell_type": "markdown",
   "metadata": {},
   "source": [
    "## Option 2) Merge values for x\n",
    "https://www.researchgate.net/post/How_do_I_combine_mean_and_standard_deviation_of_two_groups"
   ]
  },
  {
   "cell_type": "code",
   "execution_count": 13,
   "metadata": {},
   "outputs": [
    {
     "data": {
      "text/plain": [
       "array([ 16,  32,  64, 128, 256])"
      ]
     },
     "execution_count": 13,
     "metadata": {},
     "output_type": "execute_result"
    }
   ],
   "source": [
    "u_sorted_by_time_nts_ws = np.unique(sorted_by_time_nts_ws)\n",
    "u_sorted_by_time_nts_ws"
   ]
  },
  {
   "cell_type": "code",
   "execution_count": 14,
   "metadata": {},
   "outputs": [
    {
     "data": {
      "text/plain": [
       "16     0.66±0.01\n",
       "32     0.76±0.02\n",
       "64     0.89±0.01\n",
       "128    0.95±0.02\n",
       "256    0.93±0.04\n",
       "dtype: object"
      ]
     },
     "execution_count": 14,
     "metadata": {},
     "output_type": "execute_result"
    }
   ],
   "source": [
    "merged_lr_res = []\n",
    "for t in u_sorted_by_time_nts_ws:\n",
    "    lr_res_time = lr_res[sorted_by_time_nts_ws==t]\n",
    "    means = np.array([float(x.split('±')[0]) for x in lr_res_time.to_numpy()])\n",
    "    stds = np.array([float(x.split('±')[1]) for x in lr_res_time.to_numpy()])\n",
    "    merged_lr_res.append(f'{means.mean():.2f}±{stds.mean():.2f}')\n",
    "merged_lr_res = pd.Series(data=merged_lr_res, index=u_sorted_by_time_nts_ws)\n",
    "merged_lr_res"
   ]
  },
  {
   "cell_type": "code",
   "execution_count": 15,
   "metadata": {},
   "outputs": [
    {
     "data": {
      "image/png": "[encoded data removed]",
      "text/plain": [
       "<Figure size 432x288 with 1 Axes>"
      ]
     },
     "metadata": {
      "needs_background": "light"
     },
     "output_type": "display_data"
    }
   ],
   "source": [
    "lr_means = np.array([float(x.split('±')[0]) for x in merged_lr_res.to_numpy()])\n",
    "lr_stds = np.array([float(x.split('±')[1]) for x in merged_lr_res.to_numpy()])\n",
    "plt.plot(u_sorted_by_time_nts_ws,lr_means)\n",
    "plt.fill_between(u_sorted_by_time_nts_ws,lr_means-lr_stds,lr_means+lr_stds,alpha=.1)\n",
    "plt.title('LR')\n",
    "plt.xlabel('available train data (s)')\n",
    "plt.ylabel('test accuracy')\n",
    "plt.show()"
   ]
  },
  {
   "cell_type": "markdown",
   "metadata": {},
   "source": [
    "# Create merged dfs"
   ]
  },
  {
   "cell_type": "code",
   "execution_count": 16,
   "metadata": {},
   "outputs": [],
   "source": [
    "merged_dfs = []\n",
    "for i,df in enumerate(dfs):\n",
    "    merged_df_rows = []\n",
    "    for row_id in range(len(df)):\n",
    "        row_res = df.iloc[row_id]\n",
    "        merged_row_res = []\n",
    "        for t in u_sorted_by_time_nts_ws:\n",
    "            raw_res_time = row_res[sorted_by_time_nts_ws==t]\n",
    "            means = np.array([float(x.split('±')[0]) for x in raw_res_time.to_numpy()])\n",
    "            stds = np.array([float(x.split('±')[1]) for x in raw_res_time.to_numpy()])\n",
    "            merged_row_res.append(f'{means.mean():.2f}±{stds.mean():.2f}')\n",
    "        # merged_row_res = pd.Series(data=merged_row_res, index=u_sorted_by_time_nts_ws)\n",
    "        merged_df_rows.append(merged_row_res)\n",
    "    merged_dfs.append(pd.DataFrame(merged_df_rows,index=models,columns=[f'{features[i]} {t} s.' for t in u_sorted_by_time_nts_ws]))"
   ]
  },
  {
   "cell_type": "code",
   "execution_count": 19,
   "metadata": {},
   "outputs": [],
   "source": [
    "merged_raw_df= merged_dfs[0]"
   ]
  },
  {
   "cell_type": "code",
   "execution_count": 20,
   "metadata": {},
   "outputs": [
    {
     "data": {
      "text/html": [
       "<div>\n",
       "<style scoped>\n",
       "    .dataframe tbody tr th:only-of-type {\n",
       "        vertical-align: middle;\n",
       "    }\n",
       "\n",
       "    .dataframe tbody tr th {\n",
       "        vertical-align: top;\n",
       "    }\n",
       "\n",
       "    .dataframe thead th {\n",
       "        text-align: right;\n",
       "    }\n",
       "</style>\n",
       "<table border=\"1\" class=\"dataframe\">\n",
       "  <thead>\n",
       "    <tr style=\"text-align: right;\">\n",
       "      <th></th>\n",
       "      <th>raw 16 s.</th>\n",
       "      <th>raw 32 s.</th>\n",
       "      <th>raw 64 s.</th>\n",
       "      <th>raw 128 s.</th>\n",
       "      <th>raw 256 s.</th>\n",
       "    </tr>\n",
       "  </thead>\n",
       "  <tbody>\n",
       "    <tr>\n",
       "      <th>GraphConv_512</th>\n",
       "      <td>0.66±0.01</td>\n",
       "      <td>0.76±0.02</td>\n",
       "      <td>0.89±0.01</td>\n",
       "      <td>0.95±0.02</td>\n",
       "      <td>0.93±0.04</td>\n",
       "    </tr>\n",
       "    <tr>\n",
       "      <th>GraphConv_1024</th>\n",
       "      <td>0.65±0.01</td>\n",
       "      <td>0.74±0.01</td>\n",
       "      <td>0.86±0.02</td>\n",
       "      <td>0.91±0.02</td>\n",
       "      <td>0.83±0.08</td>\n",
       "    </tr>\n",
       "  </tbody>\n",
       "</table>\n",
       "</div>"
      ],
      "text/plain": [
       "                raw 16 s.  raw 32 s.  raw 64 s. raw 128 s. raw 256 s.\n",
       "GraphConv_512   0.66±0.01  0.76±0.02  0.89±0.01  0.95±0.02  0.93±0.04\n",
       "GraphConv_1024  0.65±0.01  0.74±0.01  0.86±0.02  0.91±0.02  0.83±0.08"
      ]
     },
     "execution_count": 20,
     "metadata": {},
     "output_type": "execute_result"
    }
   ],
   "source": [
    "merged_raw_df"
   ]
  },
  {
   "cell_type": "markdown",
   "metadata": {},
   "source": [
    "# Create latex tables for merged results"
   ]
  },
  {
   "cell_type": "code",
   "execution_count": 21,
   "metadata": {},
   "outputs": [],
   "source": [
    "for i,f in enumerate(features):\n",
    "    text_file = open(f'tables/{f}_table_res_merged.tex', \"w\")\n",
    "    n = text_file.write(merged_dfs[i].to_latex(bold_rows=True))\n",
    "    text_file.close()"
   ]
  },
  {
   "cell_type": "code",
   "execution_count": 24,
   "metadata": {},
   "outputs": [
    {
     "data": {
      "text/plain": [
       "'GraphConv_512'"
      ]
     },
     "execution_count": 24,
     "metadata": {},
     "output_type": "execute_result"
    }
   ],
   "source": [
    "models[0]"
   ]
  },
  {
   "cell_type": "code",
   "execution_count": 30,
   "metadata": {
    "scrolled": true
   },
   "outputs": [
    {
     "data": {
      "text/plain": [
       "(array([ 16,  32,  64, 128, 256]),\n",
       " array([ 16,  32,  32,  64,  64, 128, 128, 256]))"
      ]
     },
     "execution_count": 30,
     "metadata": {},
     "output_type": "execute_result"
    }
   ],
   "source": [
    "u_sorted_by_time_nts_ws,sorted_by_time_nts_ws"
   ]
  },
  {
   "cell_type": "code",
   "execution_count": 31,
   "metadata": {},
   "outputs": [
    {
     "data": {
      "text/plain": [
       "8"
      ]
     },
     "execution_count": 31,
     "metadata": {},
     "output_type": "execute_result"
    }
   ],
   "source": [
    "df.shape[1]"
   ]
  },
  {
   "cell_type": "markdown",
   "metadata": {},
   "source": [
    "# Plot both options side by side"
   ]
  },
  {
   "cell_type": "code",
   "execution_count": 38,
   "metadata": {},
   "outputs": [
    {
     "name": "stdout",
     "output_type": "stream",
     "text": [
      "[ 16  32  64 128 256]\n",
      "[ 16  32  64 128 256]\n"
     ]
    },
    {
     "data": {
      "image/png": "[encoded data removed]",
      "text/plain": [
       "<Figure size 432x288 with 1 Axes>"
      ]
     },
     "metadata": {
      "needs_background": "light"
     },
     "output_type": "display_data"
    }
   ],
   "source": [
    "def show_inflection_point_graph(model_name, df, title):\n",
    "    model_idx = np.where(df.index.to_numpy()==model_name)[0][0]\n",
    "    res = df.iloc[model_idx]\n",
    "    means = np.array([float(x.split('±')[0]) for x in res.to_numpy()])\n",
    "    stds = np.array([float(x.split('±')[1]) for x in res.to_numpy()])\n",
    "    x_axis = u_sorted_by_time_nts_ws if df.shape[1] == 5 else sorted_by_time_nts_ws\n",
    "    print(x_axis)\n",
    "   \n",
    "    plt.errorbar(x_axis, means, stds, linestyle='--', marker='^',ecolor='red',elinewidth=1,capsize=3)\n",
    "    plt.axhline(1, color='red',alpha=0.2,linestyle=':')\n",
    "    plt.axhline(.95, color='red',alpha=0.2,linestyle=':')\n",
    "#     plt.xticks(list(range(n_secs)))\n",
    "    n_secs = int(x_axis.max()+1)\n",
    "    for i in np.arange(0,n_secs,0.25):\n",
    "#         if int(i) == i:\n",
    "#             plt.axvline(i, color='gray',alpha=0.25,linestyle=':')\n",
    "        if i in x_axis:\n",
    "            plt.axvline(i, color='gray',alpha=0.55,linestyle=':',linewidth=1)\n",
    "    \n",
    "    plt.title(f'{title}')\n",
    "    plt.xlabel('available train data (s)')\n",
    "    plt.ylabel('test accuracy')\n",
    "\n",
    "show_inflection_point_graph(models[0], merged_raw_df, f'{models[0]} raw')\n",
    "show_inflection_point_graph(models[1], merged_raw_df, f'{models[1]} raw')\n",
    "plt.show()"
   ]
  },
  {
   "cell_type": "code",
   "execution_count": 39,
   "metadata": {
    "scrolled": true
   },
   "outputs": [],
   "source": [
    "%%capture\n",
    "from matplotlib.pyplot import figure\n",
    "for i, (df,merged_df) in enumerate(zip(dfs,merged_dfs)):\n",
    "    for model in models:\n",
    "        figure(figsize=(20, 6), dpi=80)\n",
    "        plt.subplot(1, 2, 1)\n",
    "        show_inflection_point_graph(model, df, f'{model}({features[i]})')\n",
    "        plt.subplot(1, 2, 2)\n",
    "        show_inflection_point_graph(model, merged_df, f'{model} ({features[i]}) merged')\n",
    "        plt.savefig(f'figures/{features[i]}_{model}.png')"
   ]
  }
 ],
 "metadata": {
  "kernelspec": {
   "display_name": "Python (keras env)",
   "language": "python",
   "name": "kerasenv"
  },
  "language_info": {
   "codemirror_mode": {
    "name": "ipython",
    "version": 3
   },
   "file_extension": ".py",
   "mimetype": "text/x-python",
   "name": "python",
   "nbconvert_exporter": "python",
   "pygments_lexer": "ipython3",
   "version": "3.8.5"
  }
 },
 "nbformat": 4,
 "nbformat_minor": 5
}
