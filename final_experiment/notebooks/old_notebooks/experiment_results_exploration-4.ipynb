{
 "cells": [
  {
   "cell_type": "code",
   "execution_count": 1,
   "metadata": {},
   "outputs": [],
   "source": [
    "import pandas as pd\n",
    "import numpy as np\n",
    "import matplotlib.pyplot as plt\n",
    "from scipy import stats\n",
    "import glob"
   ]
  },
  {
   "cell_type": "code",
   "execution_count": 2,
   "metadata": {},
   "outputs": [
    {
     "data": {
      "text/html": [
       "<div>\n",
       "<style scoped>\n",
       "    .dataframe tbody tr th:only-of-type {\n",
       "        vertical-align: middle;\n",
       "    }\n",
       "\n",
       "    .dataframe tbody tr th {\n",
       "        vertical-align: top;\n",
       "    }\n",
       "\n",
       "    .dataframe thead th {\n",
       "        text-align: right;\n",
       "    }\n",
       "</style>\n",
       "<table border=\"1\" class=\"dataframe\">\n",
       "  <thead>\n",
       "    <tr style=\"text-align: right;\">\n",
       "      <th></th>\n",
       "      <th>eeg_feature</th>\n",
       "      <th>model</th>\n",
       "      <th>hidden_channels</th>\n",
       "      <th>window_size</th>\n",
       "      <th>batch_size</th>\n",
       "      <th>learning_rate</th>\n",
       "      <th>dropout_rate</th>\n",
       "      <th>weight_decay</th>\n",
       "      <th>activation_funct</th>\n",
       "      <th>number_train_samples</th>\n",
       "      <th>...</th>\n",
       "      <th>mean_val_loss</th>\n",
       "      <th>val_acc</th>\n",
       "      <th>val_f1</th>\n",
       "      <th>val_prec</th>\n",
       "      <th>val_reca</th>\n",
       "      <th>val_roc</th>\n",
       "      <th>pytorch_total_params</th>\n",
       "      <th>train_time</th>\n",
       "      <th>best_epoch</th>\n",
       "      <th>train_samples</th>\n",
       "    </tr>\n",
       "  </thead>\n",
       "  <tbody>\n",
       "    <tr>\n",
       "      <th>0</th>\n",
       "      <td>'psd'</td>\n",
       "      <td>'GraphConv'</td>\n",
       "      <td>64</td>\n",
       "      <td>1.5</td>\n",
       "      <td>32</td>\n",
       "      <td>0.0005</td>\n",
       "      <td>0.25</td>\n",
       "      <td>0.0</td>\n",
       "      <td>'relu'</td>\n",
       "      <td>1</td>\n",
       "      <td>...</td>\n",
       "      <td>2.599621214866638</td>\n",
       "      <td>0.9434375</td>\n",
       "      <td>0.9410534644448698</td>\n",
       "      <td>0.947955099238929</td>\n",
       "      <td>0.9434374999999999</td>\n",
       "      <td>0.9983463709677419</td>\n",
       "      <td>10372</td>\n",
       "      <td>1311.7614047527313</td>\n",
       "      <td>579</td>\n",
       "      <td>'1176/160</td>\n",
       "    </tr>\n",
       "    <tr>\n",
       "      <th>1</th>\n",
       "      <td>'psd'</td>\n",
       "      <td>'GraphConv'</td>\n",
       "      <td>128</td>\n",
       "      <td>1.5</td>\n",
       "      <td>32</td>\n",
       "      <td>0.0005</td>\n",
       "      <td>0.25</td>\n",
       "      <td>0.0</td>\n",
       "      <td>'relu'</td>\n",
       "      <td>1</td>\n",
       "      <td>...</td>\n",
       "      <td>2.7142911887168886</td>\n",
       "      <td>0.83875</td>\n",
       "      <td>0.8199612515265401</td>\n",
       "      <td>0.8321050169012006</td>\n",
       "      <td>0.83875</td>\n",
       "      <td>0.9894197580645161</td>\n",
       "      <td>20676</td>\n",
       "      <td>1242.713565826416</td>\n",
       "      <td>483</td>\n",
       "      <td>'490/160</td>\n",
       "    </tr>\n",
       "    <tr>\n",
       "      <th>2</th>\n",
       "      <td>'psd'</td>\n",
       "      <td>'GraphConv'</td>\n",
       "      <td>256</td>\n",
       "      <td>1.5</td>\n",
       "      <td>32</td>\n",
       "      <td>0.0005</td>\n",
       "      <td>0.25</td>\n",
       "      <td>0.0</td>\n",
       "      <td>'relu'</td>\n",
       "      <td>1</td>\n",
       "      <td>...</td>\n",
       "      <td>2.6510622572898863</td>\n",
       "      <td>0.8825</td>\n",
       "      <td>0.8685653299865771</td>\n",
       "      <td>0.8915774893989632</td>\n",
       "      <td>0.8825</td>\n",
       "      <td>0.9896975806451613</td>\n",
       "      <td>41284</td>\n",
       "      <td>1898.1972122192383</td>\n",
       "      <td>748</td>\n",
       "      <td>'945/160</td>\n",
       "    </tr>\n",
       "    <tr>\n",
       "      <th>3</th>\n",
       "      <td>'psd'</td>\n",
       "      <td>'GraphConv'</td>\n",
       "      <td>512</td>\n",
       "      <td>1.5</td>\n",
       "      <td>32</td>\n",
       "      <td>0.0005</td>\n",
       "      <td>0.25</td>\n",
       "      <td>0.0</td>\n",
       "      <td>'relu'</td>\n",
       "      <td>1</td>\n",
       "      <td>...</td>\n",
       "      <td>2.6312558698654174</td>\n",
       "      <td>0.90875</td>\n",
       "      <td>0.9009069388136036</td>\n",
       "      <td>0.9219378120992278</td>\n",
       "      <td>0.90875</td>\n",
       "      <td>0.9975790322580644</td>\n",
       "      <td>82500</td>\n",
       "      <td>3338.10170006752</td>\n",
       "      <td>1390</td>\n",
       "      <td>'65/160</td>\n",
       "    </tr>\n",
       "    <tr>\n",
       "      <th>4</th>\n",
       "      <td>'psd'</td>\n",
       "      <td>'GraphConv'</td>\n",
       "      <td>1024</td>\n",
       "      <td>1.5</td>\n",
       "      <td>32</td>\n",
       "      <td>0.0005</td>\n",
       "      <td>0.25</td>\n",
       "      <td>0.0</td>\n",
       "      <td>'relu'</td>\n",
       "      <td>1</td>\n",
       "      <td>...</td>\n",
       "      <td>2.6141723656654356</td>\n",
       "      <td>0.9209375</td>\n",
       "      <td>0.9121957411731181</td>\n",
       "      <td>0.9256944008532217</td>\n",
       "      <td>0.9209375</td>\n",
       "      <td>0.9974690524193548</td>\n",
       "      <td>164932</td>\n",
       "      <td>2262.1220359802246</td>\n",
       "      <td>952</td>\n",
       "      <td>'383/160</td>\n",
       "    </tr>\n",
       "    <tr>\n",
       "      <th>...</th>\n",
       "      <td>...</td>\n",
       "      <td>...</td>\n",
       "      <td>...</td>\n",
       "      <td>...</td>\n",
       "      <td>...</td>\n",
       "      <td>...</td>\n",
       "      <td>...</td>\n",
       "      <td>...</td>\n",
       "      <td>...</td>\n",
       "      <td>...</td>\n",
       "      <td>...</td>\n",
       "      <td>...</td>\n",
       "      <td>...</td>\n",
       "      <td>...</td>\n",
       "      <td>...</td>\n",
       "      <td>...</td>\n",
       "      <td>...</td>\n",
       "      <td>...</td>\n",
       "      <td>...</td>\n",
       "      <td>...</td>\n",
       "      <td>...</td>\n",
       "    </tr>\n",
       "    <tr>\n",
       "      <th>19</th>\n",
       "      <td>'psd'</td>\n",
       "      <td>'CNN'</td>\n",
       "      <td>128</td>\n",
       "      <td>1.0</td>\n",
       "      <td>32</td>\n",
       "      <td>0.0005</td>\n",
       "      <td>0.25</td>\n",
       "      <td>0.0</td>\n",
       "      <td>'relu'</td>\n",
       "      <td>8</td>\n",
       "      <td>...</td>\n",
       "      <td>2.529776487350464</td>\n",
       "      <td>0.991875</td>\n",
       "      <td>0.9919428235300275</td>\n",
       "      <td>0.9922730520944698</td>\n",
       "      <td>0.9918750000000001</td>\n",
       "      <td>0.9999556451612903</td>\n",
       "      <td>8357</td>\n",
       "      <td>732.8557822704315</td>\n",
       "      <td>354</td>\n",
       "      <td>'257/240</td>\n",
       "    </tr>\n",
       "    <tr>\n",
       "      <th>20</th>\n",
       "      <td>'psd'</td>\n",
       "      <td>'CNN'</td>\n",
       "      <td>256</td>\n",
       "      <td>1.0</td>\n",
       "      <td>32</td>\n",
       "      <td>0.0005</td>\n",
       "      <td>0.25</td>\n",
       "      <td>0.0</td>\n",
       "      <td>'relu'</td>\n",
       "      <td>8</td>\n",
       "      <td>...</td>\n",
       "      <td>2.5342871570587158</td>\n",
       "      <td>0.988125</td>\n",
       "      <td>0.9879678752120118</td>\n",
       "      <td>0.9882933477568182</td>\n",
       "      <td>0.9881250000000001</td>\n",
       "      <td>0.9998358870967743</td>\n",
       "      <td>16677</td>\n",
       "      <td>884.2453246116638</td>\n",
       "      <td>351</td>\n",
       "      <td>'2292/240</td>\n",
       "    </tr>\n",
       "    <tr>\n",
       "      <th>21</th>\n",
       "      <td>'psd'</td>\n",
       "      <td>'CNN'</td>\n",
       "      <td>512</td>\n",
       "      <td>1.0</td>\n",
       "      <td>32</td>\n",
       "      <td>0.0005</td>\n",
       "      <td>0.25</td>\n",
       "      <td>0.0</td>\n",
       "      <td>'relu'</td>\n",
       "      <td>8</td>\n",
       "      <td>...</td>\n",
       "      <td>2.534694483280182</td>\n",
       "      <td>0.9875</td>\n",
       "      <td>0.9873976326500828</td>\n",
       "      <td>0.9877073309211143</td>\n",
       "      <td>0.9875</td>\n",
       "      <td>0.9999316532258065</td>\n",
       "      <td>33317</td>\n",
       "      <td>771.7546689510345</td>\n",
       "      <td>346</td>\n",
       "      <td>'419/240</td>\n",
       "    </tr>\n",
       "    <tr>\n",
       "      <th>22</th>\n",
       "      <td>'psd'</td>\n",
       "      <td>'CNN'</td>\n",
       "      <td>1024</td>\n",
       "      <td>1.0</td>\n",
       "      <td>32</td>\n",
       "      <td>0.0005</td>\n",
       "      <td>0.25</td>\n",
       "      <td>0.0</td>\n",
       "      <td>'relu'</td>\n",
       "      <td>8</td>\n",
       "      <td>...</td>\n",
       "      <td>2.5373122239112855</td>\n",
       "      <td>0.985625</td>\n",
       "      <td>0.9855250877793399</td>\n",
       "      <td>0.9859507072209267</td>\n",
       "      <td>0.985625</td>\n",
       "      <td>0.9999056451612902</td>\n",
       "      <td>66597</td>\n",
       "      <td>612.954628944397</td>\n",
       "      <td>297</td>\n",
       "      <td>'2314/240</td>\n",
       "    </tr>\n",
       "    <tr>\n",
       "      <th>23</th>\n",
       "      <td>'psd'</td>\n",
       "      <td>'CNN'</td>\n",
       "      <td>2048</td>\n",
       "      <td>1.0</td>\n",
       "      <td>32</td>\n",
       "      <td>0.0005</td>\n",
       "      <td>0.25</td>\n",
       "      <td>0.0</td>\n",
       "      <td>'relu'</td>\n",
       "      <td>8</td>\n",
       "      <td>...</td>\n",
       "      <td>2.975013177394867</td>\n",
       "      <td>0.553125</td>\n",
       "      <td>0.5426679261246021</td>\n",
       "      <td>0.5631493004359193</td>\n",
       "      <td>0.5531250000000001</td>\n",
       "      <td>0.8769194052419355</td>\n",
       "      <td>133157</td>\n",
       "      <td>834.2186503410339</td>\n",
       "      <td>367</td>\n",
       "      <td>'1790/240</td>\n",
       "    </tr>\n",
       "  </tbody>\n",
       "</table>\n",
       "<p>912 rows × 34 columns</p>\n",
       "</div>"
      ],
      "text/plain": [
       "   eeg_feature        model hidden_channels window_size batch_size  \\\n",
       "0        'psd'  'GraphConv'              64         1.5         32   \n",
       "1        'psd'  'GraphConv'             128         1.5         32   \n",
       "2        'psd'  'GraphConv'             256         1.5         32   \n",
       "3        'psd'  'GraphConv'             512         1.5         32   \n",
       "4        'psd'  'GraphConv'            1024         1.5         32   \n",
       "..         ...          ...             ...         ...        ...   \n",
       "19       'psd'        'CNN'             128         1.0         32   \n",
       "20       'psd'        'CNN'             256         1.0         32   \n",
       "21       'psd'        'CNN'             512         1.0         32   \n",
       "22       'psd'        'CNN'            1024         1.0         32   \n",
       "23       'psd'        'CNN'            2048         1.0         32   \n",
       "\n",
       "   learning_rate dropout_rate weight_decay activation_funct  \\\n",
       "0         0.0005         0.25          0.0           'relu'   \n",
       "1         0.0005         0.25          0.0           'relu'   \n",
       "2         0.0005         0.25          0.0           'relu'   \n",
       "3         0.0005         0.25          0.0           'relu'   \n",
       "4         0.0005         0.25          0.0           'relu'   \n",
       "..           ...          ...          ...              ...   \n",
       "19        0.0005         0.25          0.0           'relu'   \n",
       "20        0.0005         0.25          0.0           'relu'   \n",
       "21        0.0005         0.25          0.0           'relu'   \n",
       "22        0.0005         0.25          0.0           'relu'   \n",
       "23        0.0005         0.25          0.0           'relu'   \n",
       "\n",
       "   number_train_samples  ...       mean_val_loss    val_acc  \\\n",
       "0                     1  ...   2.599621214866638  0.9434375   \n",
       "1                     1  ...  2.7142911887168886    0.83875   \n",
       "2                     1  ...  2.6510622572898863     0.8825   \n",
       "3                     1  ...  2.6312558698654174    0.90875   \n",
       "4                     1  ...  2.6141723656654356  0.9209375   \n",
       "..                  ...  ...                 ...        ...   \n",
       "19                    8  ...   2.529776487350464   0.991875   \n",
       "20                    8  ...  2.5342871570587158   0.988125   \n",
       "21                    8  ...   2.534694483280182     0.9875   \n",
       "22                    8  ...  2.5373122239112855   0.985625   \n",
       "23                    8  ...   2.975013177394867   0.553125   \n",
       "\n",
       "                val_f1            val_prec            val_reca  \\\n",
       "0   0.9410534644448698   0.947955099238929  0.9434374999999999   \n",
       "1   0.8199612515265401  0.8321050169012006             0.83875   \n",
       "2   0.8685653299865771  0.8915774893989632              0.8825   \n",
       "3   0.9009069388136036  0.9219378120992278             0.90875   \n",
       "4   0.9121957411731181  0.9256944008532217           0.9209375   \n",
       "..                 ...                 ...                 ...   \n",
       "19  0.9919428235300275  0.9922730520944698  0.9918750000000001   \n",
       "20  0.9879678752120118  0.9882933477568182  0.9881250000000001   \n",
       "21  0.9873976326500828  0.9877073309211143              0.9875   \n",
       "22  0.9855250877793399  0.9859507072209267            0.985625   \n",
       "23  0.5426679261246021  0.5631493004359193  0.5531250000000001   \n",
       "\n",
       "               val_roc pytorch_total_params          train_time best_epoch  \\\n",
       "0   0.9983463709677419                10372  1311.7614047527313        579   \n",
       "1   0.9894197580645161                20676   1242.713565826416        483   \n",
       "2   0.9896975806451613                41284  1898.1972122192383        748   \n",
       "3   0.9975790322580644                82500    3338.10170006752       1390   \n",
       "4   0.9974690524193548               164932  2262.1220359802246        952   \n",
       "..                 ...                  ...                 ...        ...   \n",
       "19  0.9999556451612903                 8357   732.8557822704315        354   \n",
       "20  0.9998358870967743                16677   884.2453246116638        351   \n",
       "21  0.9999316532258065                33317   771.7546689510345        346   \n",
       "22  0.9999056451612902                66597    612.954628944397        297   \n",
       "23  0.8769194052419355               133157   834.2186503410339        367   \n",
       "\n",
       "   train_samples  \n",
       "0      '1176/160  \n",
       "1       '490/160  \n",
       "2       '945/160  \n",
       "3        '65/160  \n",
       "4       '383/160  \n",
       "..           ...  \n",
       "19      '257/240  \n",
       "20     '2292/240  \n",
       "21      '419/240  \n",
       "22     '2314/240  \n",
       "23     '1790/240  \n",
       "\n",
       "[912 rows x 34 columns]"
      ]
     },
     "execution_count": 2,
     "metadata": {},
     "output_type": "execute_result"
    }
   ],
   "source": [
    "results = [pd.read_csv(path) for path in glob.glob(\"./logs/*csv\")]\n",
    "results = pd.concat(results)\n",
    "# Clean dataframe\n",
    "results = results.apply(lambda x: x.apply(lambda y: y.split(' ')[1][:-1]))\n",
    "results"
   ]
  },
  {
   "cell_type": "code",
   "execution_count": 3,
   "metadata": {},
   "outputs": [
    {
     "name": "stdout",
     "output_type": "stream",
     "text": [
      "\\multirow{ 3}{*}{LR}& 0 & 1 & 2 & 3 & 4 & 5 & 6 & 7 & 8 & 9 \\\\& & 10 & & 11 & & 12 & & 13 & & \\\\& & & & 14 & & 15 & & & & \\\\\\hline\n"
     ]
    }
   ],
   "source": [
    "def get_line(header, values):\n",
    "    n_rows = 3\n",
    "    n_cols = 10\n",
    "    rows = [1,2,1,3,1,3,1,2,1,1]\n",
    "    val_i = 0\n",
    "\n",
    "    latex_line = '\\\\multirow{ 3}{*}{' + header + '}'\n",
    "    for row in range(n_rows):\n",
    "        for col in range(n_cols):\n",
    "            latex_line += '& '\n",
    "            if row == 0 or row+1 <= rows[col]:\n",
    "                latex_line += str(values[val_i]) + ' '\n",
    "                val_i+=1\n",
    "                \n",
    "            else:\n",
    "                latex_line += ''\n",
    "        latex_line += '\\\\\\\\'\n",
    "    latex_line += '\\\\hline'\n",
    "    return latex_line\n",
    "print(get_line('LR',list(range(16))))"
   ]
  },
  {
   "cell_type": "code",
   "execution_count": 4,
   "metadata": {},
   "outputs": [],
   "source": [
    "sample_nts = [1,2,1,4,2,8,2,8,8,8,1,2,4,4,1,2]\n",
    "sample_ws = [.5, .5, 1.5, .5, 1.5, .5, 1.5, 1, 1.5, 2,1,1,1,2,2,2]"
   ]
  },
  {
   "cell_type": "code",
   "execution_count": 5,
   "metadata": {},
   "outputs": [
    {
     "name": "stdout",
     "output_type": "stream",
     "text": [
      "\\multirow{ 3}{*}{Model}& 1-0.5s & 2-0.5s & 1-1.5s & 4-0.5s & 2-1.5s & 8-0.5s & 2-1.5s & 8-1s & 8-1.5s & 8-2s \\\\& & 1-1s & & 2-1s & & 4-1s & & 4-2s & & \\\\& & & & 1-2s & & 2-2s & & & & \\\\\\hline\n"
     ]
    }
   ],
   "source": [
    "# Title\n",
    "print(get_line('Model',[f'{nts}-{ws}s' for (nts,ws) in zip(sample_nts,sample_ws)]))"
   ]
  },
  {
   "cell_type": "code",
   "execution_count": 6,
   "metadata": {},
   "outputs": [],
   "source": [
    "def get_results_for_model(model):\n",
    "    res = []\n",
    "    for (nts,ws) in zip(sample_nts,sample_ws):\n",
    "        model_results = results[(results['model'] == f'\\'{model}\\'') & (results['window_size'].astype(float) == ws) & (results['number_train_samples'].astype(int)==nts)].sort_values('test_acc',ascending=False)\n",
    "        res.append(str(model_results['test_acc'].to_numpy()[0])[:5])\n",
    "    return res"
   ]
  },
  {
   "cell_type": "code",
   "execution_count": 7,
   "metadata": {},
   "outputs": [
    {
     "name": "stdout",
     "output_type": "stream",
     "text": [
      "\\multirow{ 3}{*}{LR}& 0.866 & 0.957 & 0.927 & 0.978 & 0.983 & 0.988 & 0.983 & 0.996 & 0.997 & 0.997 \\\\& & 0.937 & & 0.975 & & 0.991 & & 0.997 & & \\\\& & & & 0.962 & & 0.990 & & & & \\\\\\hline\n",
      "\\multirow{ 3}{*}{MLP}& 0.915 & 0.970 & 0.975 & 0.989 & 0.993 & 0.992 & 0.993 & 0.997 & 0.998 & 0.998 \\\\& & 0.958 & & 0.987 & & 0.995 & & 0.997 & & \\\\& & & & 0.986 & & 0.994 & & & & \\\\\\hline\n",
      "\\multirow{ 3}{*}{CNN}& 0.912 & 0.954 & 0.904 & 0.976 & 0.977 & 0.984 & 0.977 & 0.997 & 0.997 & 0.996 \\\\& & 0.938 & & 0.966 & & 0.993 & & 0.996 & & \\\\& & & & 0.963 & & 0.980 & & & & \\\\\\hline\n",
      "\\multirow{ 3}{*}{GraphConv}& 0.854 & 0.929 & 0.939 & 0.965 & 0.972 & 0.985 & 0.972 & 0.991 & 0.994 & 0.997 \\\\& & 0.924 & & 0.968 & & 0.980 & & 0.991 & & \\\\& & & & 0.961 & & 0.980 & & & & \\\\\\hline\n"
     ]
    }
   ],
   "source": [
    "models = ['LR','MLP','CNN','GraphConv']\n",
    "for model in models:\n",
    "    print(get_line(model,get_results_for_model(model)))"
   ]
  },
  {
   "cell_type": "code",
   "execution_count": 6,
   "metadata": {},
   "outputs": [
    {
     "name": "stdout",
     "output_type": "stream",
     "text": [
      "MLP 0.9151282187699511\n",
      "CNN 0.9129469035965099\n",
      "GraphConv 0.854610023409236\n",
      "LR 0.8663279421153437\n"
     ]
    }
   ],
   "source": [
    "results05 = results[(results['window_size'].astype(float) == .5) & (results['number_train_samples'].astype(int)==1)].sort_values('test_acc',ascending=False).reset_index()\n",
    "for model in models:\n",
    "    print(model,results05[results05['model'] == f'\\'{model}\\'']['test_acc'].to_numpy()[0])"
   ]
  },
  {
   "cell_type": "code",
   "execution_count": 7,
   "metadata": {},
   "outputs": [
    {
     "name": "stdout",
     "output_type": "stream",
     "text": [
      "MLP 0.958011635493693\n",
      "CNN 0.9384379077859939\n",
      "GraphConv 0.92442366246194\n",
      "LR 0.9379077859939104\n"
     ]
    }
   ],
   "source": [
    "results05 = results[(results['window_size'].astype(float) == 1) & (results['number_train_samples'].astype(int)==1)].sort_values('test_acc',ascending=False).reset_index()\n",
    "for model in models:\n",
    "    print(model,results05[results05['model'] == f'\\'{model}\\'']['test_acc'].to_numpy()[0])"
   ]
  },
  {
   "cell_type": "code",
   "execution_count": 33,
   "metadata": {},
   "outputs": [
    {
     "name": "stdout",
     "output_type": "stream",
     "text": [
      "MLP 0.9705526287782035\n",
      "CNN 0.9549874946785867\n",
      "GraphConv 0.9292185504469987\n",
      "LR 0.957847754363559\n"
     ]
    }
   ],
   "source": [
    "results05 = results[(results['window_size'].astype(float) == .5) & (results['number_train_samples'].astype(int)==2)].sort_values('test_acc',ascending=False).reset_index()\n",
    "for model in models:\n",
    "    print(model,results05[results05['model'] == f'\\'{model}\\'']['test_acc'].to_numpy()[0])"
   ]
  },
  {
   "cell_type": "code",
   "execution_count": 36,
   "metadata": {},
   "outputs": [
    {
     "name": "stdout",
     "output_type": "stream",
     "text": [
      "MLP 0.975712975316878\n",
      "CNN 0.9041444296197465\n",
      "GraphConv 0.9391677785190127\n",
      "LR 0.9275975650433622\n"
     ]
    }
   ],
   "source": [
    "results05 = results[(results['window_size'].astype(float) == 1.5) & (results['number_train_samples'].astype(int)==1)].sort_values('test_acc',ascending=False).reset_index()\n",
    "for model in models:\n",
    "    print(model,results05[results05['model'] == f'\\'{model}\\'']['test_acc'].to_numpy()[0])"
   ]
  },
  {
   "cell_type": "code",
   "execution_count": 37,
   "metadata": {},
   "outputs": [
    {
     "name": "stdout",
     "output_type": "stream",
     "text": [
      "MLP 0.9865502729754322\n",
      "CNN 0.9638307552320291\n",
      "GraphConv 0.9616696997270245\n",
      "LR 0.9620962238398544\n"
     ]
    }
   ],
   "source": [
    "results05 = results[(results['window_size'].astype(float) == 2) & (results['number_train_samples'].astype(int)==1)].sort_values('test_acc',ascending=False).reset_index()\n",
    "for model in models:\n",
    "    print(model,results05[results05['model'] == f'\\'{model}\\'']['test_acc'].to_numpy()[0])"
   ]
  },
  {
   "cell_type": "code",
   "execution_count": 39,
   "metadata": {},
   "outputs": [
    {
     "name": "stdout",
     "output_type": "stream",
     "text": [
      "MLP 0.9894191865417377\n",
      "CNN 0.9764626810051107\n",
      "GraphConv 0.9478013202725724\n",
      "LR 0.978645389693356\n"
     ]
    }
   ],
   "source": [
    "results05 = results[(results['window_size'].astype(float) == .5) & (results['number_train_samples'].astype(int)==4)].sort_values('test_acc',ascending=False).reset_index()\n",
    "for model in models:\n",
    "    print(model,results05[results05['model'] == f'\\'{model}\\'']['test_acc'].to_numpy()[0])"
   ]
  },
  {
   "cell_type": "code",
   "execution_count": 40,
   "metadata": {
    "scrolled": true
   },
   "outputs": [
    {
     "name": "stdout",
     "output_type": "stream",
     "text": [
      "MLP 0.9933661548731643\n",
      "CNN 0.9778663217623498\n",
      "GraphConv 0.9720877837116155\n",
      "LR 0.9835405540720962\n"
     ]
    }
   ],
   "source": [
    "results05 = results[(results['window_size'].astype(float) == 1.5) & (results['number_train_samples'].astype(int)==2)].sort_values('test_acc',ascending=False).reset_index()\n",
    "for model in models:\n",
    "    print(model,results05[results05['model'] == f'\\'{model}\\'']['test_acc'].to_numpy()[0])"
   ]
  },
  {
   "cell_type": "code",
   "execution_count": 41,
   "metadata": {},
   "outputs": [
    {
     "name": "stdout",
     "output_type": "stream",
     "text": [
      "MLP 0.9947347449908925\n",
      "CNN 0.9809596994535519\n",
      "GraphConv 0.9805327868852459\n",
      "LR 0.9904940801457195\n"
     ]
    }
   ],
   "source": [
    "results05 = results[(results['window_size'].astype(float) == 2) & (results['number_train_samples'].astype(int)==2)].sort_values('test_acc',ascending=False).reset_index()\n",
    "for model in models:\n",
    "    print(model,results05[results05['model'] == f'\\'{model}\\'']['test_acc'].to_numpy()[0])"
   ]
  },
  {
   "cell_type": "code",
   "execution_count": 42,
   "metadata": {},
   "outputs": [
    {
     "name": "stdout",
     "output_type": "stream",
     "text": [
      "MLP 0.9951954486062717\n",
      "CNN 0.9931130226480837\n",
      "GraphConv 0.9801829268292683\n",
      "LR 0.9914253048780488\n"
     ]
    }
   ],
   "source": [
    "results05 = results[(results['window_size'].astype(float) == 1) & (results['number_train_samples'].astype(int)==4)].sort_values('test_acc',ascending=False).reset_index()\n",
    "for model in models:\n",
    "    print(model,results05[results05['model'] == f'\\'{model}\\'']['test_acc'].to_numpy()[0])"
   ]
  },
  {
   "cell_type": "code",
   "execution_count": 43,
   "metadata": {},
   "outputs": [
    {
     "name": "stdout",
     "output_type": "stream",
     "text": [
      "MLP 0.9925604752770674\n",
      "CNN 0.9849144820971867\n",
      "GraphConv 0.9806252664109122\n",
      "LR 0.9883978047740836\n"
     ]
    }
   ],
   "source": [
    "results05 = results[(results['window_size'].astype(float) == .5) & (results['number_train_samples'].astype(int)==8)].sort_values('test_acc',ascending=False).reset_index()\n",
    "for model in models:\n",
    "    print(model,results05[results05['model'] == f'\\'{model}\\'']['test_acc'].to_numpy()[0])"
   ]
  },
  {
   "cell_type": "code",
   "execution_count": 44,
   "metadata": {},
   "outputs": [
    {
     "name": "stdout",
     "output_type": "stream",
     "text": [
      "MLP 0.9968039772727273\n",
      "CNN 0.9912683823529411\n",
      "GraphConv 0.9862550133689839\n",
      "LR 0.9953208556149733\n"
     ]
    }
   ],
   "source": [
    "results05 = results[(results['window_size'].astype(float) == 1.5) & (results['number_train_samples'].astype(int)==4)].sort_values('test_acc',ascending=False).reset_index()\n",
    "for model in models:\n",
    "    print(model,results05[results05['model'] == f'\\'{model}\\'']['test_acc'].to_numpy()[0])"
   ]
  },
  {
   "cell_type": "code",
   "execution_count": 45,
   "metadata": {},
   "outputs": [
    {
     "name": "stdout",
     "output_type": "stream",
     "text": [
      "MLP 0.9972912864963503\n",
      "CNN 0.9967210310218978\n",
      "GraphConv 0.9918453467153284\n",
      "LR 0.9974908759124088\n"
     ]
    }
   ],
   "source": [
    "results05 = results[(results['window_size'].astype(float) == 2) & (results['number_train_samples'].astype(int)==4)].sort_values('test_acc',ascending=False).reset_index()\n",
    "for model in models:\n",
    "    print(model,results05[results05['model'] == f'\\'{model}\\'']['test_acc'].to_numpy()[0])"
   ]
  },
  {
   "cell_type": "code",
   "execution_count": 46,
   "metadata": {},
   "outputs": [
    {
     "name": "stdout",
     "output_type": "stream",
     "text": [
      "MLP 0.9972867582897034\n",
      "CNN 0.9974912739965096\n",
      "GraphConv 0.9917784685863874\n",
      "LR 0.9966323080279232\n"
     ]
    }
   ],
   "source": [
    "results05 = results[(results['window_size'].astype(float) == 1) & (results['number_train_samples'].astype(int)==8)].sort_values('test_acc',ascending=False).reset_index()\n",
    "for model in models:\n",
    "    print(model,results05[results05['model'] == f'\\'{model}\\'']['test_acc'].to_numpy()[0])"
   ]
  },
  {
   "cell_type": "code",
   "execution_count": 47,
   "metadata": {},
   "outputs": [
    {
     "name": "stdout",
     "output_type": "stream",
     "text": [
      "MLP 0.9981149463806971\n",
      "CNN 0.997716990616622\n",
      "GraphConv 0.9948894101876675\n",
      "LR 0.9974865951742627\n"
     ]
    }
   ],
   "source": [
    "results05 = results[(results['window_size'].astype(float) == 1.5) & (results['number_train_samples'].astype(int)==8)].sort_values('test_acc',ascending=False).reset_index()\n",
    "for model in models:\n",
    "    print(model,results05[results05['model'] == f'\\'{model}\\'']['test_acc'].to_numpy()[0])"
   ]
  },
  {
   "cell_type": "code",
   "execution_count": 48,
   "metadata": {},
   "outputs": [
    {
     "name": "stdout",
     "output_type": "stream",
     "text": [
      "MLP 0.9984260531135531\n",
      "CNN 0.9962797619047619\n",
      "GraphConv 0.9970810439560439\n",
      "LR 0.9979395604395604\n"
     ]
    }
   ],
   "source": [
    "results05 = results[(results['window_size'].astype(float) == 2) & (results['number_train_samples'].astype(int)==8)].sort_values('test_acc',ascending=False).reset_index()\n",
    "for model in models:\n",
    "    print(model,results05[results05['model'] == f'\\'{model}\\'']['test_acc'].to_numpy()[0])"
   ]
  },
  {
   "cell_type": "code",
   "execution_count": 4,
   "metadata": {},
   "outputs": [],
   "source": [
    "mlp_acc = results[results['model'] == '\\'MLP\\'']['test_acc']\n",
    "mlp_acc = mlp_acc.astype(float).to_numpy()"
   ]
  },
  {
   "cell_type": "code",
   "execution_count": 11,
   "metadata": {
    "scrolled": false
   },
   "outputs": [
    {
     "data": {
      "image/png": "[encoded data removed]",
      "text/plain": [
       "<Figure size 1440x360 with 4 Axes>"
      ]
     },
     "metadata": {
      "needs_background": "light"
     },
     "output_type": "display_data"
    },
    {
     "data": {
      "image/png": "[encoded data removed]",
      "text/plain": [
       "<Figure size 1440x360 with 4 Axes>"
      ]
     },
     "metadata": {
      "needs_background": "light"
     },
     "output_type": "display_data"
    },
    {
     "data": {
      "image/png": "[encoded data removed]",
      "text/plain": [
       "<Figure size 1440x360 with 4 Axes>"
      ]
     },
     "metadata": {
      "needs_background": "light"
     },
     "output_type": "display_data"
    },
    {
     "data": {
      "image/png": "[encoded data removed]",
      "text/plain": [
       "<Figure size 1440x360 with 4 Axes>"
      ]
     },
     "metadata": {
      "needs_background": "light"
     },
     "output_type": "display_data"
    },
    {
     "data": {
      "image/png": "[encoded data removed]",
      "text/plain": [
       "<Figure size 1440x360 with 4 Axes>"
      ]
     },
     "metadata": {
      "needs_background": "light"
     },
     "output_type": "display_data"
    },
    {
     "data": {
      "image/png": "[encoded data removed]",
      "text/plain": [
       "<Figure size 1440x360 with 4 Axes>"
      ]
     },
     "metadata": {
      "needs_background": "light"
     },
     "output_type": "display_data"
    },
    {
     "data": {
      "image/png": "[encoded data removed]",
      "text/plain": [
       "<Figure size 1440x360 with 4 Axes>"
      ]
     },
     "metadata": {
      "needs_background": "light"
     },
     "output_type": "display_data"
    },
    {
     "data": {
      "image/png": "[encoded data removed]",
      "text/plain": [
       "<Figure size 1440x360 with 4 Axes>"
      ]
     },
     "metadata": {
      "needs_background": "light"
     },
     "output_type": "display_data"
    },
    {
     "data": {
      "image/png": "[encoded data removed]",
      "text/plain": [
       "<Figure size 1440x360 with 4 Axes>"
      ]
     },
     "metadata": {
      "needs_background": "light"
     },
     "output_type": "display_data"
    },
    {
     "data": {
      "image/png": "[encoded data removed]",
      "text/plain": [
       "<Figure size 1440x360 with 4 Axes>"
      ]
     },
     "metadata": {
      "needs_background": "light"
     },
     "output_type": "display_data"
    },
    {
     "data": {
      "image/png": "[encoded data removed]",
      "text/plain": [
       "<Figure size 1440x360 with 4 Axes>"
      ]
     },
     "metadata": {
      "needs_background": "light"
     },
     "output_type": "display_data"
    },
    {
     "data": {
      "image/png": "[encoded data removed]",
      "text/plain": [
       "<Figure size 1440x360 with 4 Axes>"
      ]
     },
     "metadata": {
      "needs_background": "light"
     },
     "output_type": "display_data"
    },
    {
     "data": {
      "image/png": "[encoded data removed]",
      "text/plain": [
       "<Figure size 1440x360 with 4 Axes>"
      ]
     },
     "metadata": {
      "needs_background": "light"
     },
     "output_type": "display_data"
    },
    {
     "data": {
      "image/png": "[encoded data removed]",
      "text/plain": [
       "<Figure size 1440x360 with 4 Axes>"
      ]
     },
     "metadata": {
      "needs_background": "light"
     },
     "output_type": "display_data"
    },
    {
     "data": {
      "image/png": "[encoded data removed]",
      "text/plain": [
       "<Figure size 1440x360 with 4 Axes>"
      ]
     },
     "metadata": {
      "needs_background": "light"
     },
     "output_type": "display_data"
    },
    {
     "data": {
      "image/png": "[encoded data removed]",
      "text/plain": [
       "<Figure size 1440x360 with 4 Axes>"
      ]
     },
     "metadata": {
      "needs_background": "light"
     },
     "output_type": "display_data"
    },
    {
     "data": {
      "text/plain": [
       "<Figure size 1440x360 with 0 Axes>"
      ]
     },
     "metadata": {},
     "output_type": "display_data"
    }
   ],
   "source": [
    "plt.figure(figsize=(20,5))\n",
    "for model, ws in [(model,ws) for model in ['MLP','CNN','GraphConv','GIN'] for ws in [0.5, 1, 1.5, 2.0] ]:\n",
    "    for i, nts in enumerate([1,2,4,8]):\n",
    "        plt.subplot(1,4,i+1)\n",
    "        accs = results[(results['model'] == f'\\'{model}\\'') & (results['number_train_samples'].astype(int)==nts) & (results['window_size'].astype(float) == ws)]['test_acc']\n",
    "        accs = accs.astype(float).to_numpy()\n",
    "        plt.title(f'{model} {ws} {nts}')\n",
    "        plt.hist(np.round(accs,2),bins=100,range=(0,1),align='mid')\n",
    "    plt.show()\n",
    "    plt.figure(figsize=(20,5))"
   ]
  },
  {
   "cell_type": "code",
   "execution_count": 12,
   "metadata": {},
   "outputs": [
    {
     "data": {
      "text/plain": [
       "'MLP'          92\n",
       "'CNN'          28\n",
       "'GraphConv'    18\n",
       "'GIN'          15\n",
       "Name: model, dtype: int64"
      ]
     },
     "execution_count": 12,
     "metadata": {},
     "output_type": "execute_result"
    }
   ],
   "source": [
    "results[(results['test_acc'].astype(float) >.95)]['model'].value_counts()"
   ]
  },
  {
   "cell_type": "code",
   "execution_count": 13,
   "metadata": {},
   "outputs": [
    {
     "data": {
      "text/plain": [
       "'psd'    81\n",
       "'wav'    72\n",
       "Name: eeg_feature, dtype: int64"
      ]
     },
     "execution_count": 13,
     "metadata": {},
     "output_type": "execute_result"
    }
   ],
   "source": [
    "results[(results['test_acc'].astype(float) >.95)]['eeg_feature'].value_counts()"
   ]
  },
  {
   "cell_type": "code",
   "execution_count": 17,
   "metadata": {
    "scrolled": true
   },
   "outputs": [
    {
     "data": {
      "text/html": [
       "<div>\n",
       "<style scoped>\n",
       "    .dataframe tbody tr th:only-of-type {\n",
       "        vertical-align: middle;\n",
       "    }\n",
       "\n",
       "    .dataframe tbody tr th {\n",
       "        vertical-align: top;\n",
       "    }\n",
       "\n",
       "    .dataframe thead th {\n",
       "        text-align: right;\n",
       "    }\n",
       "</style>\n",
       "<table border=\"1\" class=\"dataframe\">\n",
       "  <thead>\n",
       "    <tr style=\"text-align: right;\">\n",
       "      <th></th>\n",
       "      <th>eeg_feature</th>\n",
       "      <th>model</th>\n",
       "      <th>hidden_channels</th>\n",
       "      <th>window_size</th>\n",
       "      <th>batch_size</th>\n",
       "      <th>learning_rate</th>\n",
       "      <th>dropout_rate</th>\n",
       "      <th>weight_decay</th>\n",
       "      <th>activation_funct</th>\n",
       "      <th>number_train_samples</th>\n",
       "      <th>...</th>\n",
       "      <th>mean_val_loss</th>\n",
       "      <th>val_acc</th>\n",
       "      <th>val_f1</th>\n",
       "      <th>val_prec</th>\n",
       "      <th>val_reca</th>\n",
       "      <th>val_roc</th>\n",
       "      <th>pytorch_total_params</th>\n",
       "      <th>train_time</th>\n",
       "      <th>best_epoch</th>\n",
       "      <th>train_samples</th>\n",
       "    </tr>\n",
       "  </thead>\n",
       "  <tbody>\n",
       "    <tr>\n",
       "      <th>23</th>\n",
       "      <td>'wav'</td>\n",
       "      <td>'MLP'</td>\n",
       "      <td>2048</td>\n",
       "      <td>0.5</td>\n",
       "      <td>32</td>\n",
       "      <td>0.0005</td>\n",
       "      <td>0.25</td>\n",
       "      <td>0.0</td>\n",
       "      <td>'relu'</td>\n",
       "      <td>2</td>\n",
       "      <td>...</td>\n",
       "      <td>2.5760678911209105</td>\n",
       "      <td>0.95875</td>\n",
       "      <td>0.957244037461391</td>\n",
       "      <td>0.9595758713197795</td>\n",
       "      <td>0.95875</td>\n",
       "      <td>0.9992071572580645</td>\n",
       "      <td>2903584</td>\n",
       "      <td>361.1365761756897</td>\n",
       "      <td>234</td>\n",
       "      <td>'3176/480</td>\n",
       "    </tr>\n",
       "    <tr>\n",
       "      <th>26</th>\n",
       "      <td>'psd'</td>\n",
       "      <td>'MLP'</td>\n",
       "      <td>256</td>\n",
       "      <td>0.5</td>\n",
       "      <td>32</td>\n",
       "      <td>0.0005</td>\n",
       "      <td>0.25</td>\n",
       "      <td>0.0</td>\n",
       "      <td>'relu'</td>\n",
       "      <td>2</td>\n",
       "      <td>...</td>\n",
       "      <td>2.5837053632736207</td>\n",
       "      <td>0.961875</td>\n",
       "      <td>0.9609513439091628</td>\n",
       "      <td>0.9625911707533622</td>\n",
       "      <td>0.961875</td>\n",
       "      <td>0.9992097782258064</td>\n",
       "      <td>76256</td>\n",
       "      <td>274.9328534603119</td>\n",
       "      <td>172</td>\n",
       "      <td>'4100/480</td>\n",
       "    </tr>\n",
       "    <tr>\n",
       "      <th>27</th>\n",
       "      <td>'psd'</td>\n",
       "      <td>'MLP'</td>\n",
       "      <td>512</td>\n",
       "      <td>0.5</td>\n",
       "      <td>32</td>\n",
       "      <td>0.0005</td>\n",
       "      <td>0.25</td>\n",
       "      <td>0.0</td>\n",
       "      <td>'relu'</td>\n",
       "      <td>2</td>\n",
       "      <td>...</td>\n",
       "      <td>2.584553771018982</td>\n",
       "      <td>0.959375</td>\n",
       "      <td>0.9587460216509855</td>\n",
       "      <td>0.960991165207929</td>\n",
       "      <td>0.9593749999999999</td>\n",
       "      <td>0.999530745967742</td>\n",
       "      <td>234400</td>\n",
       "      <td>167.97716450691223</td>\n",
       "      <td>91</td>\n",
       "      <td>'746/480</td>\n",
       "    </tr>\n",
       "    <tr>\n",
       "      <th>28</th>\n",
       "      <td>'psd'</td>\n",
       "      <td>'MLP'</td>\n",
       "      <td>1024</td>\n",
       "      <td>0.5</td>\n",
       "      <td>32</td>\n",
       "      <td>0.0005</td>\n",
       "      <td>0.25</td>\n",
       "      <td>0.0</td>\n",
       "      <td>'relu'</td>\n",
       "      <td>2</td>\n",
       "      <td>...</td>\n",
       "      <td>2.579433915615082</td>\n",
       "      <td>0.9584375</td>\n",
       "      <td>0.9557288808671158</td>\n",
       "      <td>0.961214627718959</td>\n",
       "      <td>0.9584374999999999</td>\n",
       "      <td>0.9995918346774194</td>\n",
       "      <td>796448</td>\n",
       "      <td>218.49741649627686</td>\n",
       "      <td>132</td>\n",
       "      <td>'2657/480</td>\n",
       "    </tr>\n",
       "    <tr>\n",
       "      <th>29</th>\n",
       "      <td>'psd'</td>\n",
       "      <td>'MLP'</td>\n",
       "      <td>2048</td>\n",
       "      <td>0.5</td>\n",
       "      <td>32</td>\n",
       "      <td>0.0005</td>\n",
       "      <td>0.25</td>\n",
       "      <td>0.0</td>\n",
       "      <td>'relu'</td>\n",
       "      <td>2</td>\n",
       "      <td>...</td>\n",
       "      <td>2.5621060705184937</td>\n",
       "      <td>0.9675</td>\n",
       "      <td>0.9668352707421812</td>\n",
       "      <td>0.9682707772340348</td>\n",
       "      <td>0.9675</td>\n",
       "      <td>0.9995336693548387</td>\n",
       "      <td>2903584</td>\n",
       "      <td>325.7848320007324</td>\n",
       "      <td>212</td>\n",
       "      <td>'4152/480</td>\n",
       "    </tr>\n",
       "  </tbody>\n",
       "</table>\n",
       "<p>5 rows × 34 columns</p>\n",
       "</div>"
      ],
      "text/plain": [
       "   eeg_feature  model hidden_channels window_size batch_size learning_rate  \\\n",
       "23       'wav'  'MLP'            2048         0.5         32        0.0005   \n",
       "26       'psd'  'MLP'             256         0.5         32        0.0005   \n",
       "27       'psd'  'MLP'             512         0.5         32        0.0005   \n",
       "28       'psd'  'MLP'            1024         0.5         32        0.0005   \n",
       "29       'psd'  'MLP'            2048         0.5         32        0.0005   \n",
       "\n",
       "   dropout_rate weight_decay activation_funct number_train_samples  ...  \\\n",
       "23         0.25          0.0           'relu'                    2  ...   \n",
       "26         0.25          0.0           'relu'                    2  ...   \n",
       "27         0.25          0.0           'relu'                    2  ...   \n",
       "28         0.25          0.0           'relu'                    2  ...   \n",
       "29         0.25          0.0           'relu'                    2  ...   \n",
       "\n",
       "         mean_val_loss    val_acc              val_f1            val_prec  \\\n",
       "23  2.5760678911209105    0.95875   0.957244037461391  0.9595758713197795   \n",
       "26  2.5837053632736207   0.961875  0.9609513439091628  0.9625911707533622   \n",
       "27   2.584553771018982   0.959375  0.9587460216509855   0.960991165207929   \n",
       "28   2.579433915615082  0.9584375  0.9557288808671158   0.961214627718959   \n",
       "29  2.5621060705184937     0.9675  0.9668352707421812  0.9682707772340348   \n",
       "\n",
       "              val_reca             val_roc pytorch_total_params  \\\n",
       "23             0.95875  0.9992071572580645              2903584   \n",
       "26            0.961875  0.9992097782258064                76256   \n",
       "27  0.9593749999999999   0.999530745967742               234400   \n",
       "28  0.9584374999999999  0.9995918346774194               796448   \n",
       "29              0.9675  0.9995336693548387              2903584   \n",
       "\n",
       "            train_time best_epoch train_samples  \n",
       "23   361.1365761756897        234     '3176/480  \n",
       "26   274.9328534603119        172     '4100/480  \n",
       "27  167.97716450691223         91      '746/480  \n",
       "28  218.49741649627686        132     '2657/480  \n",
       "29   325.7848320007324        212     '4152/480  \n",
       "\n",
       "[5 rows x 34 columns]"
      ]
     },
     "execution_count": 17,
     "metadata": {},
     "output_type": "execute_result"
    }
   ],
   "source": [
    "results[(results['test_acc'].astype(float) >.95) & (results['window_size'].astype(float) == .5 ) & (results['number_train_samples'].astype(float) == 2 ) ]"
   ]
  },
  {
   "cell_type": "code",
   "execution_count": 25,
   "metadata": {},
   "outputs": [
    {
     "data": {
      "text/html": [
       "<div>\n",
       "<style scoped>\n",
       "    .dataframe tbody tr th:only-of-type {\n",
       "        vertical-align: middle;\n",
       "    }\n",
       "\n",
       "    .dataframe tbody tr th {\n",
       "        vertical-align: top;\n",
       "    }\n",
       "\n",
       "    .dataframe thead th {\n",
       "        text-align: right;\n",
       "    }\n",
       "</style>\n",
       "<table border=\"1\" class=\"dataframe\">\n",
       "  <thead>\n",
       "    <tr style=\"text-align: right;\">\n",
       "      <th></th>\n",
       "      <th>eeg_feature</th>\n",
       "      <th>model</th>\n",
       "      <th>hidden_channels</th>\n",
       "      <th>window_size</th>\n",
       "      <th>batch_size</th>\n",
       "      <th>learning_rate</th>\n",
       "      <th>dropout_rate</th>\n",
       "      <th>weight_decay</th>\n",
       "      <th>activation_funct</th>\n",
       "      <th>number_train_samples</th>\n",
       "      <th>...</th>\n",
       "      <th>number_test_samples</th>\n",
       "      <th>mean_test_loss</th>\n",
       "      <th>test_acc</th>\n",
       "      <th>test_f1</th>\n",
       "      <th>test_prec</th>\n",
       "      <th>test_reca</th>\n",
       "      <th>test_roc</th>\n",
       "      <th>pytorch_total_params</th>\n",
       "      <th>train_time</th>\n",
       "      <th>best_epoch</th>\n",
       "    </tr>\n",
       "  </thead>\n",
       "  <tbody>\n",
       "    <tr>\n",
       "      <th>306</th>\n",
       "      <td>'wav'</td>\n",
       "      <td>'MLP'</td>\n",
       "      <td>128</td>\n",
       "      <td>0.5</td>\n",
       "      <td>16</td>\n",
       "      <td>0.005</td>\n",
       "      <td>0.25</td>\n",
       "      <td>0.04</td>\n",
       "      <td>'relu'</td>\n",
       "      <td>4</td>\n",
       "      <td>...</td>\n",
       "      <td>4696</td>\n",
       "      <td>2.564684674600726</td>\n",
       "      <td>0.9544293015332198</td>\n",
       "      <td>0.9530805101383973</td>\n",
       "      <td>0.9552393327806339</td>\n",
       "      <td>0.9544293015332197</td>\n",
       "      <td>0.9987979324602084</td>\n",
       "      <td>27904</td>\n",
       "      <td>41.70087003707886</td>\n",
       "      <td>58</td>\n",
       "    </tr>\n",
       "    <tr>\n",
       "      <th>348</th>\n",
       "      <td>'psd'</td>\n",
       "      <td>'MLP'</td>\n",
       "      <td>128</td>\n",
       "      <td>0.5</td>\n",
       "      <td>16</td>\n",
       "      <td>0.005</td>\n",
       "      <td>0.25</td>\n",
       "      <td>0.01</td>\n",
       "      <td>'relu'</td>\n",
       "      <td>4</td>\n",
       "      <td>...</td>\n",
       "      <td>4696</td>\n",
       "      <td>2.5516246719193822</td>\n",
       "      <td>0.9670131494889267</td>\n",
       "      <td>0.9657218113577324</td>\n",
       "      <td>0.9678228991946616</td>\n",
       "      <td>0.9670131494889267</td>\n",
       "      <td>0.9991747286639923</td>\n",
       "      <td>27904</td>\n",
       "      <td>48.32375383377075</td>\n",
       "      <td>71</td>\n",
       "    </tr>\n",
       "    <tr>\n",
       "      <th>358</th>\n",
       "      <td>'psd'</td>\n",
       "      <td>'MLP'</td>\n",
       "      <td>128</td>\n",
       "      <td>0.5</td>\n",
       "      <td>16</td>\n",
       "      <td>0.005</td>\n",
       "      <td>0.5</td>\n",
       "      <td>0.64</td>\n",
       "      <td>'relu'</td>\n",
       "      <td>4</td>\n",
       "      <td>...</td>\n",
       "      <td>4696</td>\n",
       "      <td>2.5506084144521615</td>\n",
       "      <td>0.9678915566439523</td>\n",
       "      <td>0.9673875973623326</td>\n",
       "      <td>0.967933827326138</td>\n",
       "      <td>0.9678915566439523</td>\n",
       "      <td>0.9991080330056471</td>\n",
       "      <td>27904</td>\n",
       "      <td>72.08822059631348</td>\n",
       "      <td>127</td>\n",
       "    </tr>\n",
       "    <tr>\n",
       "      <th>314</th>\n",
       "      <td>'wav'</td>\n",
       "      <td>'CNN'</td>\n",
       "      <td>128</td>\n",
       "      <td>0.5</td>\n",
       "      <td>16</td>\n",
       "      <td>0.0005</td>\n",
       "      <td>0.5</td>\n",
       "      <td>0.64</td>\n",
       "      <td>'relu'</td>\n",
       "      <td>4</td>\n",
       "      <td>...</td>\n",
       "      <td>4696</td>\n",
       "      <td>2.5633625371898865</td>\n",
       "      <td>0.9580893313458262</td>\n",
       "      <td>0.95705533049592</td>\n",
       "      <td>0.9577550184191597</td>\n",
       "      <td>0.9580893313458263</td>\n",
       "      <td>0.9986059652295051</td>\n",
       "      <td>74277</td>\n",
       "      <td>140.06851291656494</td>\n",
       "      <td>261</td>\n",
       "    </tr>\n",
       "    <tr>\n",
       "      <th>334</th>\n",
       "      <td>'psd'</td>\n",
       "      <td>'CNN'</td>\n",
       "      <td>64</td>\n",
       "      <td>0.5</td>\n",
       "      <td>16</td>\n",
       "      <td>0.0005</td>\n",
       "      <td>0.25</td>\n",
       "      <td>0.01</td>\n",
       "      <td>'relu'</td>\n",
       "      <td>4</td>\n",
       "      <td>...</td>\n",
       "      <td>4696</td>\n",
       "      <td>2.5502032916580393</td>\n",
       "      <td>0.9714916950596252</td>\n",
       "      <td>0.9710501786605958</td>\n",
       "      <td>0.9714795236308125</td>\n",
       "      <td>0.9714916950596253</td>\n",
       "      <td>0.9991359078956071</td>\n",
       "      <td>20773</td>\n",
       "      <td>118.34072947502136</td>\n",
       "      <td>208</td>\n",
       "    </tr>\n",
       "    <tr>\n",
       "      <th>350</th>\n",
       "      <td>'psd'</td>\n",
       "      <td>'CNN'</td>\n",
       "      <td>128</td>\n",
       "      <td>0.5</td>\n",
       "      <td>16</td>\n",
       "      <td>0.0005</td>\n",
       "      <td>0.5</td>\n",
       "      <td>0.01</td>\n",
       "      <td>'relu'</td>\n",
       "      <td>4</td>\n",
       "      <td>...</td>\n",
       "      <td>4696</td>\n",
       "      <td>2.5661401410525255</td>\n",
       "      <td>0.958621699318569</td>\n",
       "      <td>0.957832174220672</td>\n",
       "      <td>0.958669014628408</td>\n",
       "      <td>0.958621699318569</td>\n",
       "      <td>0.9990725618903586</td>\n",
       "      <td>74277</td>\n",
       "      <td>211.6953628063202</td>\n",
       "      <td>401</td>\n",
       "    </tr>\n",
       "    <tr>\n",
       "      <th>337</th>\n",
       "      <td>'psd'</td>\n",
       "      <td>'GraphConv'</td>\n",
       "      <td>64</td>\n",
       "      <td>0.5</td>\n",
       "      <td>16</td>\n",
       "      <td>0.0005</td>\n",
       "      <td>0.25</td>\n",
       "      <td>0.04</td>\n",
       "      <td>'relu'</td>\n",
       "      <td>4</td>\n",
       "      <td>...</td>\n",
       "      <td>4696</td>\n",
       "      <td>2.5698598897690665</td>\n",
       "      <td>0.9522266290459966</td>\n",
       "      <td>0.9506271349047836</td>\n",
       "      <td>0.9519915620984531</td>\n",
       "      <td>0.9522266290459966</td>\n",
       "      <td>0.9987851718073255</td>\n",
       "      <td>142048</td>\n",
       "      <td>91.93662905693054</td>\n",
       "      <td>144</td>\n",
       "    </tr>\n",
       "    <tr>\n",
       "      <th>346</th>\n",
       "      <td>'psd'</td>\n",
       "      <td>'GraphConv'</td>\n",
       "      <td>128</td>\n",
       "      <td>0.5</td>\n",
       "      <td>16</td>\n",
       "      <td>0.0005</td>\n",
       "      <td>0.25</td>\n",
       "      <td>0.0</td>\n",
       "      <td>'relu'</td>\n",
       "      <td>4</td>\n",
       "      <td>...</td>\n",
       "      <td>4696</td>\n",
       "      <td>2.571492747589311</td>\n",
       "      <td>0.9519937180579217</td>\n",
       "      <td>0.9509937446180469</td>\n",
       "      <td>0.9553205599070742</td>\n",
       "      <td>0.9519937180579217</td>\n",
       "      <td>0.9986687449748393</td>\n",
       "      <td>562592</td>\n",
       "      <td>51.84383773803711</td>\n",
       "      <td>67</td>\n",
       "    </tr>\n",
       "  </tbody>\n",
       "</table>\n",
       "<p>8 rows × 21 columns</p>\n",
       "</div>"
      ],
      "text/plain": [
       "    eeg_feature        model hidden_channels window_size batch_size  \\\n",
       "306       'wav'        'MLP'             128         0.5         16   \n",
       "348       'psd'        'MLP'             128         0.5         16   \n",
       "358       'psd'        'MLP'             128         0.5         16   \n",
       "314       'wav'        'CNN'             128         0.5         16   \n",
       "334       'psd'        'CNN'              64         0.5         16   \n",
       "350       'psd'        'CNN'             128         0.5         16   \n",
       "337       'psd'  'GraphConv'              64         0.5         16   \n",
       "346       'psd'  'GraphConv'             128         0.5         16   \n",
       "\n",
       "    learning_rate dropout_rate weight_decay activation_funct  \\\n",
       "306         0.005         0.25         0.04           'relu'   \n",
       "348         0.005         0.25         0.01           'relu'   \n",
       "358         0.005          0.5         0.64           'relu'   \n",
       "314        0.0005          0.5         0.64           'relu'   \n",
       "334        0.0005         0.25         0.01           'relu'   \n",
       "350        0.0005          0.5         0.01           'relu'   \n",
       "337        0.0005         0.25         0.04           'relu'   \n",
       "346        0.0005         0.25          0.0           'relu'   \n",
       "\n",
       "    number_train_samples  ... number_test_samples      mean_test_loss  \\\n",
       "306                    4  ...                4696   2.564684674600726   \n",
       "348                    4  ...                4696  2.5516246719193822   \n",
       "358                    4  ...                4696  2.5506084144521615   \n",
       "314                    4  ...                4696  2.5633625371898865   \n",
       "334                    4  ...                4696  2.5502032916580393   \n",
       "350                    4  ...                4696  2.5661401410525255   \n",
       "337                    4  ...                4696  2.5698598897690665   \n",
       "346                    4  ...                4696   2.571492747589311   \n",
       "\n",
       "               test_acc             test_f1           test_prec  \\\n",
       "306  0.9544293015332198  0.9530805101383973  0.9552393327806339   \n",
       "348  0.9670131494889267  0.9657218113577324  0.9678228991946616   \n",
       "358  0.9678915566439523  0.9673875973623326   0.967933827326138   \n",
       "314  0.9580893313458262    0.95705533049592  0.9577550184191597   \n",
       "334  0.9714916950596252  0.9710501786605958  0.9714795236308125   \n",
       "350   0.958621699318569   0.957832174220672   0.958669014628408   \n",
       "337  0.9522266290459966  0.9506271349047836  0.9519915620984531   \n",
       "346  0.9519937180579217  0.9509937446180469  0.9553205599070742   \n",
       "\n",
       "              test_reca            test_roc pytorch_total_params  \\\n",
       "306  0.9544293015332197  0.9987979324602084                27904   \n",
       "348  0.9670131494889267  0.9991747286639923                27904   \n",
       "358  0.9678915566439523  0.9991080330056471                27904   \n",
       "314  0.9580893313458263  0.9986059652295051                74277   \n",
       "334  0.9714916950596253  0.9991359078956071                20773   \n",
       "350   0.958621699318569  0.9990725618903586                74277   \n",
       "337  0.9522266290459966  0.9987851718073255               142048   \n",
       "346  0.9519937180579217  0.9986687449748393               562592   \n",
       "\n",
       "             train_time best_epoch  \n",
       "306   41.70087003707886         58  \n",
       "348   48.32375383377075         71  \n",
       "358   72.08822059631348        127  \n",
       "314  140.06851291656494        261  \n",
       "334  118.34072947502136        208  \n",
       "350   211.6953628063202        401  \n",
       "337   91.93662905693054        144  \n",
       "346   51.84383773803711         67  \n",
       "\n",
       "[8 rows x 21 columns]"
      ]
     },
     "execution_count": 25,
     "metadata": {},
     "output_type": "execute_result"
    }
   ],
   "source": [
    "results[(results['test_acc'].astype(float) >.95) & (results['window_size'].astype(float) == .5 ) & (results['number_train_samples'].astype(float) == 4 ) ]"
   ]
  },
  {
   "cell_type": "code",
   "execution_count": 31,
   "metadata": {},
   "outputs": [
    {
     "data": {
      "text/html": [
       "<div>\n",
       "<style scoped>\n",
       "    .dataframe tbody tr th:only-of-type {\n",
       "        vertical-align: middle;\n",
       "    }\n",
       "\n",
       "    .dataframe tbody tr th {\n",
       "        vertical-align: top;\n",
       "    }\n",
       "\n",
       "    .dataframe thead th {\n",
       "        text-align: right;\n",
       "    }\n",
       "</style>\n",
       "<table border=\"1\" class=\"dataframe\">\n",
       "  <thead>\n",
       "    <tr style=\"text-align: right;\">\n",
       "      <th></th>\n",
       "      <th>eeg_feature</th>\n",
       "      <th>model</th>\n",
       "      <th>hidden_channels</th>\n",
       "      <th>window_size</th>\n",
       "      <th>batch_size</th>\n",
       "      <th>learning_rate</th>\n",
       "      <th>dropout_rate</th>\n",
       "      <th>weight_decay</th>\n",
       "      <th>activation_funct</th>\n",
       "      <th>number_train_samples</th>\n",
       "      <th>...</th>\n",
       "      <th>number_test_samples</th>\n",
       "      <th>mean_test_loss</th>\n",
       "      <th>test_acc</th>\n",
       "      <th>test_f1</th>\n",
       "      <th>test_prec</th>\n",
       "      <th>test_reca</th>\n",
       "      <th>test_roc</th>\n",
       "      <th>pytorch_total_params</th>\n",
       "      <th>train_time</th>\n",
       "      <th>best_epoch</th>\n",
       "    </tr>\n",
       "  </thead>\n",
       "  <tbody>\n",
       "    <tr>\n",
       "      <th>1680</th>\n",
       "      <td>'psd'</td>\n",
       "      <td>'MLP'</td>\n",
       "      <td>64</td>\n",
       "      <td>2.0</td>\n",
       "      <td>16</td>\n",
       "      <td>0.005</td>\n",
       "      <td>0.5</td>\n",
       "      <td>0.0</td>\n",
       "      <td>'relu'</td>\n",
       "      <td>1</td>\n",
       "      <td>...</td>\n",
       "      <td>1099</td>\n",
       "      <td>2.5562011631539563</td>\n",
       "      <td>0.9717925386715196</td>\n",
       "      <td>0.9709127213004964</td>\n",
       "      <td>0.9728370452605195</td>\n",
       "      <td>0.9717925386715196</td>\n",
       "      <td>0.9989849004045768</td>\n",
       "      <td>11408</td>\n",
       "      <td>144.58334827423096</td>\n",
       "      <td>274</td>\n",
       "    </tr>\n",
       "    <tr>\n",
       "      <th>32</th>\n",
       "      <td>'wav'</td>\n",
       "      <td>'CNN'</td>\n",
       "      <td>128</td>\n",
       "      <td>2.0</td>\n",
       "      <td>16</td>\n",
       "      <td>0.0005</td>\n",
       "      <td>0.5</td>\n",
       "      <td>0.0</td>\n",
       "      <td>'relu'</td>\n",
       "      <td>1</td>\n",
       "      <td>...</td>\n",
       "      <td>1099</td>\n",
       "      <td>2.5588072679387754</td>\n",
       "      <td>0.9659918107370337</td>\n",
       "      <td>0.9615605978009882</td>\n",
       "      <td>0.9679825765425947</td>\n",
       "      <td>0.9659918107370337</td>\n",
       "      <td>0.9993122081155701</td>\n",
       "      <td>74277</td>\n",
       "      <td>175.68271660804749</td>\n",
       "      <td>339</td>\n",
       "    </tr>\n",
       "    <tr>\n",
       "      <th>35</th>\n",
       "      <td>'wav'</td>\n",
       "      <td>'CNN'</td>\n",
       "      <td>128</td>\n",
       "      <td>2.0</td>\n",
       "      <td>16</td>\n",
       "      <td>0.0005</td>\n",
       "      <td>0.5</td>\n",
       "      <td>0.01</td>\n",
       "      <td>'relu'</td>\n",
       "      <td>1</td>\n",
       "      <td>...</td>\n",
       "      <td>1099</td>\n",
       "      <td>2.5646522018017825</td>\n",
       "      <td>0.9618118744313012</td>\n",
       "      <td>0.9620327477253587</td>\n",
       "      <td>0.9652742794992666</td>\n",
       "      <td>0.9618118744313011</td>\n",
       "      <td>0.9990478530550495</td>\n",
       "      <td>74277</td>\n",
       "      <td>156.27012610435486</td>\n",
       "      <td>301</td>\n",
       "    </tr>\n",
       "    <tr>\n",
       "      <th>80</th>\n",
       "      <td>'psd'</td>\n",
       "      <td>'CNN'</td>\n",
       "      <td>128</td>\n",
       "      <td>2.0</td>\n",
       "      <td>16</td>\n",
       "      <td>0.0005</td>\n",
       "      <td>0.5</td>\n",
       "      <td>0.01</td>\n",
       "      <td>'relu'</td>\n",
       "      <td>1</td>\n",
       "      <td>...</td>\n",
       "      <td>1099</td>\n",
       "      <td>2.5704313849621845</td>\n",
       "      <td>0.9648828480436761</td>\n",
       "      <td>0.9646084126594714</td>\n",
       "      <td>0.9665392409319031</td>\n",
       "      <td>0.964882848043676</td>\n",
       "      <td>0.999238241714194</td>\n",
       "      <td>74277</td>\n",
       "      <td>124.22370767593384</td>\n",
       "      <td>237</td>\n",
       "    </tr>\n",
       "  </tbody>\n",
       "</table>\n",
       "<p>4 rows × 21 columns</p>\n",
       "</div>"
      ],
      "text/plain": [
       "     eeg_feature  model hidden_channels window_size batch_size learning_rate  \\\n",
       "1680       'psd'  'MLP'              64         2.0         16         0.005   \n",
       "32         'wav'  'CNN'             128         2.0         16        0.0005   \n",
       "35         'wav'  'CNN'             128         2.0         16        0.0005   \n",
       "80         'psd'  'CNN'             128         2.0         16        0.0005   \n",
       "\n",
       "     dropout_rate weight_decay activation_funct number_train_samples  ...  \\\n",
       "1680          0.5          0.0           'relu'                    1  ...   \n",
       "32            0.5          0.0           'relu'                    1  ...   \n",
       "35            0.5         0.01           'relu'                    1  ...   \n",
       "80            0.5         0.01           'relu'                    1  ...   \n",
       "\n",
       "     number_test_samples      mean_test_loss            test_acc  \\\n",
       "1680                1099  2.5562011631539563  0.9717925386715196   \n",
       "32                  1099  2.5588072679387754  0.9659918107370337   \n",
       "35                  1099  2.5646522018017825  0.9618118744313012   \n",
       "80                  1099  2.5704313849621845  0.9648828480436761   \n",
       "\n",
       "                 test_f1           test_prec           test_reca  \\\n",
       "1680  0.9709127213004964  0.9728370452605195  0.9717925386715196   \n",
       "32    0.9615605978009882  0.9679825765425947  0.9659918107370337   \n",
       "35    0.9620327477253587  0.9652742794992666  0.9618118744313011   \n",
       "80    0.9646084126594714  0.9665392409319031   0.964882848043676   \n",
       "\n",
       "                test_roc pytorch_total_params          train_time best_epoch  \n",
       "1680  0.9989849004045768                11408  144.58334827423096        274  \n",
       "32    0.9993122081155701                74277  175.68271660804749        339  \n",
       "35    0.9990478530550495                74277  156.27012610435486        301  \n",
       "80     0.999238241714194                74277  124.22370767593384        237  \n",
       "\n",
       "[4 rows x 21 columns]"
      ]
     },
     "execution_count": 31,
     "metadata": {},
     "output_type": "execute_result"
    }
   ],
   "source": [
    "results[(results['test_acc'].astype(float) >.95) & (results['window_size'].astype(float) == 2 ) & (results['number_train_samples'].astype(float) == 1 ) ]"
   ]
  }
 ],
 "metadata": {
  "kernelspec": {
   "display_name": "torch",
   "language": "python",
   "name": "torch"
  },
  "language_info": {
   "codemirror_mode": {
    "name": "ipython",
    "version": 3
   },
   "file_extension": ".py",
   "mimetype": "text/x-python",
   "name": "python",
   "nbconvert_exporter": "python",
   "pygments_lexer": "ipython3",
   "version": "3.8.2"
  }
 },
 "nbformat": 4,
 "nbformat_minor": 5
}
