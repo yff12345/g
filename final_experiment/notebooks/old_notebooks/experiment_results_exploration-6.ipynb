{
 "cells": [
  {
   "cell_type": "markdown",
   "metadata": {},
   "source": [
    "## Includes"
   ]
  },
  {
   "cell_type": "code",
   "execution_count": 1,
   "metadata": {},
   "outputs": [],
   "source": [
    "import pandas as pd\n",
    "import numpy as np\n",
    "import matplotlib.pyplot as plt\n",
    "from scipy import stats\n",
    "import glob"
   ]
  },
  {
   "cell_type": "markdown",
   "metadata": {},
   "source": [
    "# Latex results"
   ]
  },
  {
   "cell_type": "code",
   "execution_count": 2,
   "metadata": {},
   "outputs": [
    {
     "data": {
      "text/html": [
       "<div>\n",
       "<style scoped>\n",
       "    .dataframe tbody tr th:only-of-type {\n",
       "        vertical-align: middle;\n",
       "    }\n",
       "\n",
       "    .dataframe tbody tr th {\n",
       "        vertical-align: top;\n",
       "    }\n",
       "\n",
       "    .dataframe thead th {\n",
       "        text-align: right;\n",
       "    }\n",
       "</style>\n",
       "<table border=\"1\" class=\"dataframe\">\n",
       "  <thead>\n",
       "    <tr style=\"text-align: right;\">\n",
       "      <th></th>\n",
       "      <th>eeg_feature</th>\n",
       "      <th>model</th>\n",
       "      <th>hidden_channels</th>\n",
       "      <th>window_size</th>\n",
       "      <th>batch_size</th>\n",
       "      <th>learning_rate</th>\n",
       "      <th>dropout_rate</th>\n",
       "      <th>weight_decay</th>\n",
       "      <th>activation_funct</th>\n",
       "      <th>number_train_samples</th>\n",
       "      <th>...</th>\n",
       "      <th>val_f1</th>\n",
       "      <th>val_prec</th>\n",
       "      <th>val_reca</th>\n",
       "      <th>val_roc</th>\n",
       "      <th>pytorch_total_params</th>\n",
       "      <th>train_time</th>\n",
       "      <th>best_epoch</th>\n",
       "      <th>experiment_id</th>\n",
       "      <th>train_samples</th>\n",
       "      <th>val_samples</th>\n",
       "    </tr>\n",
       "  </thead>\n",
       "  <tbody>\n",
       "    <tr>\n",
       "      <th>0</th>\n",
       "      <td>'wav'</td>\n",
       "      <td>'CNN'</td>\n",
       "      <td>256</td>\n",
       "      <td>0.25</td>\n",
       "      <td>32</td>\n",
       "      <td>0.0005</td>\n",
       "      <td>0.25</td>\n",
       "      <td>0.0</td>\n",
       "      <td>'relu'</td>\n",
       "      <td>2</td>\n",
       "      <td>...</td>\n",
       "      <td>0.8522854690426398</td>\n",
       "      <td>0.872042692918295</td>\n",
       "      <td>0.8603125</td>\n",
       "      <td>0.9867886088709676</td>\n",
       "      <td>16677</td>\n",
       "      <td>3358.1363031864166</td>\n",
       "      <td>1109</td>\n",
       "      <td>'28'</td>\n",
       "      <td>'349</td>\n",
       "      <td>'342</td>\n",
       "    </tr>\n",
       "    <tr>\n",
       "      <th>1</th>\n",
       "      <td>'wav'</td>\n",
       "      <td>'CNN'</td>\n",
       "      <td>256</td>\n",
       "      <td>0.25</td>\n",
       "      <td>32</td>\n",
       "      <td>0.0005</td>\n",
       "      <td>0.25</td>\n",
       "      <td>0.0</td>\n",
       "      <td>'relu'</td>\n",
       "      <td>2</td>\n",
       "      <td>...</td>\n",
       "      <td>0.8322322273253404</td>\n",
       "      <td>0.8401366979143605</td>\n",
       "      <td>0.84375</td>\n",
       "      <td>0.983835181451613</td>\n",
       "      <td>16677</td>\n",
       "      <td>1589.5292069911957</td>\n",
       "      <td>437</td>\n",
       "      <td>'1168'</td>\n",
       "      <td>'151</td>\n",
       "      <td>'271</td>\n",
       "    </tr>\n",
       "    <tr>\n",
       "      <th>2</th>\n",
       "      <td>'wav'</td>\n",
       "      <td>'CNN'</td>\n",
       "      <td>256</td>\n",
       "      <td>0.25</td>\n",
       "      <td>32</td>\n",
       "      <td>0.0005</td>\n",
       "      <td>0.25</td>\n",
       "      <td>0.0</td>\n",
       "      <td>'relu'</td>\n",
       "      <td>2</td>\n",
       "      <td>...</td>\n",
       "      <td>0.7709894893373543</td>\n",
       "      <td>0.7875152875678328</td>\n",
       "      <td>0.776875</td>\n",
       "      <td>0.982107258064516</td>\n",
       "      <td>16677</td>\n",
       "      <td>2573.179792165756</td>\n",
       "      <td>776</td>\n",
       "      <td>'2308'</td>\n",
       "      <td>'855</td>\n",
       "      <td>'858</td>\n",
       "    </tr>\n",
       "    <tr>\n",
       "      <th>3</th>\n",
       "      <td>'wav'</td>\n",
       "      <td>'CNN'</td>\n",
       "      <td>256</td>\n",
       "      <td>0.25</td>\n",
       "      <td>32</td>\n",
       "      <td>0.0005</td>\n",
       "      <td>0.25</td>\n",
       "      <td>0.0</td>\n",
       "      <td>'relu'</td>\n",
       "      <td>2</td>\n",
       "      <td>...</td>\n",
       "      <td>0.8682450705841627</td>\n",
       "      <td>0.8704146612839095</td>\n",
       "      <td>0.8771875</td>\n",
       "      <td>0.9934779233870967</td>\n",
       "      <td>16677</td>\n",
       "      <td>1182.5789799690247</td>\n",
       "      <td>363</td>\n",
       "      <td>'3448'</td>\n",
       "      <td>'416</td>\n",
       "      <td>'762</td>\n",
       "    </tr>\n",
       "    <tr>\n",
       "      <th>4</th>\n",
       "      <td>'wav'</td>\n",
       "      <td>'CNN'</td>\n",
       "      <td>256</td>\n",
       "      <td>0.25</td>\n",
       "      <td>32</td>\n",
       "      <td>0.0005</td>\n",
       "      <td>0.25</td>\n",
       "      <td>0.0</td>\n",
       "      <td>'relu'</td>\n",
       "      <td>2</td>\n",
       "      <td>...</td>\n",
       "      <td>0.8561750756522502</td>\n",
       "      <td>0.8602070431385651</td>\n",
       "      <td>0.8678125000000001</td>\n",
       "      <td>0.98903125</td>\n",
       "      <td>16677</td>\n",
       "      <td>3261.1691002845764</td>\n",
       "      <td>1057</td>\n",
       "      <td>'4588'</td>\n",
       "      <td>'88</td>\n",
       "      <td>'469</td>\n",
       "    </tr>\n",
       "    <tr>\n",
       "      <th>...</th>\n",
       "      <td>...</td>\n",
       "      <td>...</td>\n",
       "      <td>...</td>\n",
       "      <td>...</td>\n",
       "      <td>...</td>\n",
       "      <td>...</td>\n",
       "      <td>...</td>\n",
       "      <td>...</td>\n",
       "      <td>...</td>\n",
       "      <td>...</td>\n",
       "      <td>...</td>\n",
       "      <td>...</td>\n",
       "      <td>...</td>\n",
       "      <td>...</td>\n",
       "      <td>...</td>\n",
       "      <td>...</td>\n",
       "      <td>...</td>\n",
       "      <td>...</td>\n",
       "      <td>...</td>\n",
       "      <td>...</td>\n",
       "      <td>...</td>\n",
       "    </tr>\n",
       "    <tr>\n",
       "      <th>5</th>\n",
       "      <td>'raw'</td>\n",
       "      <td>'CNN'</td>\n",
       "      <td>128</td>\n",
       "      <td>0.5</td>\n",
       "      <td>32</td>\n",
       "      <td>0.0005</td>\n",
       "      <td>0.25</td>\n",
       "      <td>0.0</td>\n",
       "      <td>'relu'</td>\n",
       "      <td>2</td>\n",
       "      <td>...</td>\n",
       "      <td>0.27963438316453837</td>\n",
       "      <td>0.3813149285106948</td>\n",
       "      <td>0.251875</td>\n",
       "      <td>0.6156347782258065</td>\n",
       "      <td>8417</td>\n",
       "      <td>2006.3740091323853</td>\n",
       "      <td>572</td>\n",
       "      <td>'6563'</td>\n",
       "      <td>'156</td>\n",
       "      <td>'230</td>\n",
       "    </tr>\n",
       "    <tr>\n",
       "      <th>6</th>\n",
       "      <td>'raw'</td>\n",
       "      <td>'CNN'</td>\n",
       "      <td>128</td>\n",
       "      <td>0.5</td>\n",
       "      <td>32</td>\n",
       "      <td>0.0005</td>\n",
       "      <td>0.25</td>\n",
       "      <td>0.0</td>\n",
       "      <td>'relu'</td>\n",
       "      <td>2</td>\n",
       "      <td>...</td>\n",
       "      <td>0.27749503224576694</td>\n",
       "      <td>0.3898024719547163</td>\n",
       "      <td>0.2578125</td>\n",
       "      <td>0.6127298387096773</td>\n",
       "      <td>8417</td>\n",
       "      <td>1397.7262737751007</td>\n",
       "      <td>352</td>\n",
       "      <td>'8843'</td>\n",
       "      <td>'373</td>\n",
       "      <td>'281</td>\n",
       "    </tr>\n",
       "    <tr>\n",
       "      <th>7</th>\n",
       "      <td>'raw'</td>\n",
       "      <td>'CNN'</td>\n",
       "      <td>128</td>\n",
       "      <td>0.5</td>\n",
       "      <td>32</td>\n",
       "      <td>0.0005</td>\n",
       "      <td>0.25</td>\n",
       "      <td>0.0</td>\n",
       "      <td>'relu'</td>\n",
       "      <td>2</td>\n",
       "      <td>...</td>\n",
       "      <td>0.307950082333493</td>\n",
       "      <td>0.4474532603764968</td>\n",
       "      <td>0.29500000000000004</td>\n",
       "      <td>0.6686327620967742</td>\n",
       "      <td>8417</td>\n",
       "      <td>1193.5467810630798</td>\n",
       "      <td>290</td>\n",
       "      <td>'9983'</td>\n",
       "      <td>'252</td>\n",
       "      <td>'364</td>\n",
       "    </tr>\n",
       "    <tr>\n",
       "      <th>8</th>\n",
       "      <td>'raw'</td>\n",
       "      <td>'CNN'</td>\n",
       "      <td>128</td>\n",
       "      <td>0.5</td>\n",
       "      <td>32</td>\n",
       "      <td>0.0005</td>\n",
       "      <td>0.25</td>\n",
       "      <td>0.0</td>\n",
       "      <td>'relu'</td>\n",
       "      <td>2</td>\n",
       "      <td>...</td>\n",
       "      <td>0.23761364063347176</td>\n",
       "      <td>0.3403170651814279</td>\n",
       "      <td>0.22093749999999998</td>\n",
       "      <td>0.6038013104838711</td>\n",
       "      <td>8417</td>\n",
       "      <td>1500.0500242710114</td>\n",
       "      <td>396</td>\n",
       "      <td>'11123'</td>\n",
       "      <td>'27</td>\n",
       "      <td>'298</td>\n",
       "    </tr>\n",
       "    <tr>\n",
       "      <th>9</th>\n",
       "      <td>'raw'</td>\n",
       "      <td>'CNN'</td>\n",
       "      <td>128</td>\n",
       "      <td>0.5</td>\n",
       "      <td>32</td>\n",
       "      <td>0.0005</td>\n",
       "      <td>0.25</td>\n",
       "      <td>0.0</td>\n",
       "      <td>'relu'</td>\n",
       "      <td>2</td>\n",
       "      <td>...</td>\n",
       "      <td>0.27612131945840446</td>\n",
       "      <td>0.4002008391795171</td>\n",
       "      <td>0.26375</td>\n",
       "      <td>0.6230778225806453</td>\n",
       "      <td>8417</td>\n",
       "      <td>726.4961822032928</td>\n",
       "      <td>273</td>\n",
       "      <td>'7703'</td>\n",
       "      <td>'366</td>\n",
       "      <td>'201</td>\n",
       "    </tr>\n",
       "  </tbody>\n",
       "</table>\n",
       "<p>12614 rows × 36 columns</p>\n",
       "</div>"
      ],
      "text/plain": [
       "   eeg_feature  model hidden_channels window_size batch_size learning_rate  \\\n",
       "0        'wav'  'CNN'             256        0.25         32        0.0005   \n",
       "1        'wav'  'CNN'             256        0.25         32        0.0005   \n",
       "2        'wav'  'CNN'             256        0.25         32        0.0005   \n",
       "3        'wav'  'CNN'             256        0.25         32        0.0005   \n",
       "4        'wav'  'CNN'             256        0.25         32        0.0005   \n",
       "..         ...    ...             ...         ...        ...           ...   \n",
       "5        'raw'  'CNN'             128         0.5         32        0.0005   \n",
       "6        'raw'  'CNN'             128         0.5         32        0.0005   \n",
       "7        'raw'  'CNN'             128         0.5         32        0.0005   \n",
       "8        'raw'  'CNN'             128         0.5         32        0.0005   \n",
       "9        'raw'  'CNN'             128         0.5         32        0.0005   \n",
       "\n",
       "   dropout_rate weight_decay activation_funct number_train_samples  ...  \\\n",
       "0          0.25          0.0           'relu'                    2  ...   \n",
       "1          0.25          0.0           'relu'                    2  ...   \n",
       "2          0.25          0.0           'relu'                    2  ...   \n",
       "3          0.25          0.0           'relu'                    2  ...   \n",
       "4          0.25          0.0           'relu'                    2  ...   \n",
       "..          ...          ...              ...                  ...  ...   \n",
       "5          0.25          0.0           'relu'                    2  ...   \n",
       "6          0.25          0.0           'relu'                    2  ...   \n",
       "7          0.25          0.0           'relu'                    2  ...   \n",
       "8          0.25          0.0           'relu'                    2  ...   \n",
       "9          0.25          0.0           'relu'                    2  ...   \n",
       "\n",
       "                 val_f1            val_prec             val_reca  \\\n",
       "0    0.8522854690426398   0.872042692918295            0.8603125   \n",
       "1    0.8322322273253404  0.8401366979143605              0.84375   \n",
       "2    0.7709894893373543  0.7875152875678328             0.776875   \n",
       "3    0.8682450705841627  0.8704146612839095            0.8771875   \n",
       "4    0.8561750756522502  0.8602070431385651   0.8678125000000001   \n",
       "..                  ...                 ...                  ...   \n",
       "5   0.27963438316453837  0.3813149285106948             0.251875   \n",
       "6   0.27749503224576694  0.3898024719547163            0.2578125   \n",
       "7     0.307950082333493  0.4474532603764968  0.29500000000000004   \n",
       "8   0.23761364063347176  0.3403170651814279  0.22093749999999998   \n",
       "9   0.27612131945840446  0.4002008391795171              0.26375   \n",
       "\n",
       "               val_roc pytorch_total_params          train_time best_epoch  \\\n",
       "0   0.9867886088709676                16677  3358.1363031864166       1109   \n",
       "1    0.983835181451613                16677  1589.5292069911957        437   \n",
       "2    0.982107258064516                16677   2573.179792165756        776   \n",
       "3   0.9934779233870967                16677  1182.5789799690247        363   \n",
       "4           0.98903125                16677  3261.1691002845764       1057   \n",
       "..                 ...                  ...                 ...        ...   \n",
       "5   0.6156347782258065                 8417  2006.3740091323853        572   \n",
       "6   0.6127298387096773                 8417  1397.7262737751007        352   \n",
       "7   0.6686327620967742                 8417  1193.5467810630798        290   \n",
       "8   0.6038013104838711                 8417  1500.0500242710114        396   \n",
       "9   0.6230778225806453                 8417   726.4961822032928        273   \n",
       "\n",
       "   experiment_id train_samples val_samples  \n",
       "0           '28'          '349        '342  \n",
       "1         '1168'          '151        '271  \n",
       "2         '2308'          '855        '858  \n",
       "3         '3448'          '416        '762  \n",
       "4         '4588'           '88        '469  \n",
       "..           ...           ...         ...  \n",
       "5         '6563'          '156        '230  \n",
       "6         '8843'          '373        '281  \n",
       "7         '9983'          '252        '364  \n",
       "8        '11123'           '27        '298  \n",
       "9         '7703'          '366        '201  \n",
       "\n",
       "[12614 rows x 36 columns]"
      ]
     },
     "execution_count": 2,
     "metadata": {},
     "output_type": "execute_result"
    }
   ],
   "source": [
    "results = [pd.read_csv(path) for path in glob.glob(\"../logs/*csv\")]\n",
    "results = pd.concat(results)\n",
    "# Clean dataframe\n",
    "results = results.apply(lambda x: x.apply(lambda y: y.split(' ')[1][:-1]))\n",
    "results"
   ]
  },
  {
   "cell_type": "code",
   "execution_count": 3,
   "metadata": {},
   "outputs": [],
   "source": [
    "model_names = ['GraphConv','MLP','LR','CNN']\n",
    "hidden_channels = [512, 1024]\n",
    "models = list(filter(None, [f'{name}_{hc}' if not name == 'LR' else None if hc != 64 else 'LR' for name in model_names for hc in hidden_channels ]))\n",
    "features = ['raw']\n",
    "window_sizes = [0.5, 1]\n",
    "number_train_samples = [16, 32, 64, 128, 256, 512]"
   ]
  },
  {
   "cell_type": "code",
   "execution_count": 4,
   "metadata": {},
   "outputs": [],
   "source": [
    "sorted_by_time_nts_ws = np.array([ws*nts for ws in window_sizes for nts in number_train_samples])\n",
    "b = np.array([ws for ws in window_sizes for nts in number_train_samples])\n",
    "c = np.array([nts for ws in window_sizes for nts in number_train_samples])\n",
    "idx = np.argsort(sorted_by_time_nts_ws)\n",
    "sorted_by_time_nts_ws.sort()\n",
    "sorted_ws = b[idx]\n",
    "sorted_nts = c[idx]"
   ]
  },
  {
   "cell_type": "code",
   "execution_count": 5,
   "metadata": {},
   "outputs": [
    {
     "name": "stdout",
     "output_type": "stream",
     "text": [
      "raw\n"
     ]
    }
   ],
   "source": [
    "dfs = []\n",
    "\n",
    "for ef in features:\n",
    "    print(ef)\n",
    "    df = pd.DataFrame(index=models)\n",
    "    for (ws,nts) in zip(sorted_ws, sorted_nts):\n",
    "        res_col = []\n",
    "        for model in models:\n",
    "            if model == 'LR':\n",
    "                hc = 0\n",
    "            else:\n",
    "                model, hc = model.split('_')\n",
    "                hc = int(hc)\n",
    "            res = results[(results['model'] == f'\\'{model}\\'') & (results['hidden_channels'].astype(int)==hc) & (results['window_size'].astype(float) == ws) & (results['number_train_samples'].astype(int)==nts) & (results['eeg_feature'] == f'\\'{ef}\\'')]\n",
    "            mean_acc = res['test_acc'].astype(float).mean()\n",
    "            std_acc = res['test_acc'].astype(float).std()\n",
    "\n",
    "            res_col.append(f'{mean_acc:.2f}±{std_acc:.2f}')\n",
    "        df[f'{ef} {ws}s x{nts}'] = res_col  \n",
    "    dfs.append(df)"
   ]
  },
  {
   "cell_type": "code",
   "execution_count": 6,
   "metadata": {},
   "outputs": [],
   "source": [
    "raw_df = dfs[0]"
   ]
  },
  {
   "cell_type": "markdown",
   "metadata": {},
   "source": [
    "# Inflection points"
   ]
  },
  {
   "cell_type": "code",
   "execution_count": 7,
   "metadata": {},
   "outputs": [
    {
     "data": {
      "text/plain": [
       "raw 0.5s x16     0.68±0.01\n",
       "raw 0.5s x32     0.85±0.01\n",
       "raw 1.0s x16     0.67±0.01\n",
       "raw 0.5s x64     0.95±0.00\n",
       "raw 1.0s x32     0.86±0.01\n",
       "raw 0.5s x128    0.98±0.00\n",
       "raw 1.0s x64     0.95±0.01\n",
       "raw 0.5s x256    0.99±0.00\n",
       "raw 1.0s x128    0.98±0.01\n",
       "raw 0.5s x512    1.00±0.00\n",
       "raw 1.0s x256    0.99±0.01\n",
       "raw 1.0s x512    0.99±0.01\n",
       "Name: GraphConv_512, dtype: object"
      ]
     },
     "execution_count": 7,
     "metadata": {},
     "output_type": "execute_result"
    }
   ],
   "source": [
    "lr_res = raw_df.iloc[0]\n",
    "lr_res"
   ]
  },
  {
   "cell_type": "markdown",
   "metadata": {},
   "source": [
    "## Option 1) Show all values"
   ]
  },
  {
   "cell_type": "code",
   "execution_count": 8,
   "metadata": {
    "scrolled": true
   },
   "outputs": [
    {
     "data": {
      "image/png": "[encoded data removed]",
      "text/plain": [
       "<Figure size 432x288 with 1 Axes>"
      ]
     },
     "metadata": {
      "needs_background": "light"
     },
     "output_type": "display_data"
    }
   ],
   "source": [
    "lr_means = np.array([float(x.split('±')[0]) for x in lr_res.to_numpy()])\n",
    "lr_stds = np.array([float(x.split('±')[1]) for x in lr_res.to_numpy()])\n",
    "plt.plot(sorted_by_time_nts_ws,lr_means)\n",
    "plt.title('Graphconv')\n",
    "plt.xlabel('available train data (s)')\n",
    "plt.ylabel('test accuracy')\n",
    "plt.show()"
   ]
  },
  {
   "cell_type": "markdown",
   "metadata": {},
   "source": [
    "## Option 2) Merge values for x\n",
    "https://www.researchgate.net/post/How_do_I_combine_mean_and_standard_deviation_of_two_groups"
   ]
  },
  {
   "cell_type": "code",
   "execution_count": 9,
   "metadata": {},
   "outputs": [
    {
     "data": {
      "text/plain": [
       "array([  8.,  16.,  32.,  64., 128., 256., 512.])"
      ]
     },
     "execution_count": 9,
     "metadata": {},
     "output_type": "execute_result"
    }
   ],
   "source": [
    "u_sorted_by_time_nts_ws = np.unique(sorted_by_time_nts_ws)\n",
    "u_sorted_by_time_nts_ws"
   ]
  },
  {
   "cell_type": "code",
   "execution_count": 10,
   "metadata": {},
   "outputs": [
    {
     "data": {
      "text/plain": [
       "8.0      0.68±0.01\n",
       "16.0     0.76±0.01\n",
       "32.0     0.91±0.01\n",
       "64.0     0.96±0.01\n",
       "128.0    0.98±0.01\n",
       "256.0    0.99±0.01\n",
       "512.0    0.99±0.01\n",
       "dtype: object"
      ]
     },
     "execution_count": 10,
     "metadata": {},
     "output_type": "execute_result"
    }
   ],
   "source": [
    "merged_lr_res = []\n",
    "for t in u_sorted_by_time_nts_ws:\n",
    "    lr_res_time = lr_res[sorted_by_time_nts_ws==t]\n",
    "    means = np.array([float(x.split('±')[0]) for x in lr_res_time.to_numpy()])\n",
    "    stds = np.array([float(x.split('±')[1]) for x in lr_res_time.to_numpy()])\n",
    "    merged_lr_res.append(f'{means.mean():.2f}±{stds.mean():.2f}')\n",
    "merged_lr_res = pd.Series(data=merged_lr_res, index=u_sorted_by_time_nts_ws)\n",
    "merged_lr_res"
   ]
  },
  {
   "cell_type": "code",
   "execution_count": 11,
   "metadata": {},
   "outputs": [
    {
     "data": {
      "image/png": "[encoded data removed]",
      "text/plain": [
       "<Figure size 432x288 with 1 Axes>"
      ]
     },
     "metadata": {
      "needs_background": "light"
     },
     "output_type": "display_data"
    }
   ],
   "source": [
    "lr_means = np.array([float(x.split('±')[0]) for x in merged_lr_res.to_numpy()])\n",
    "lr_stds = np.array([float(x.split('±')[1]) for x in merged_lr_res.to_numpy()])\n",
    "plt.plot(u_sorted_by_time_nts_ws,lr_means)\n",
    "plt.fill_between(u_sorted_by_time_nts_ws,lr_means-lr_stds,lr_means+lr_stds,alpha=.1)\n",
    "plt.title('Graphconv')\n",
    "plt.xlabel('available train data (s)')\n",
    "plt.ylabel('test accuracy')\n",
    "plt.show()"
   ]
  },
  {
   "cell_type": "markdown",
   "metadata": {},
   "source": [
    "# Create merged dfs"
   ]
  },
  {
   "cell_type": "code",
   "execution_count": 12,
   "metadata": {},
   "outputs": [],
   "source": [
    "merged_dfs = []\n",
    "for i,df in enumerate(dfs):\n",
    "    merged_df_rows = []\n",
    "    for row_id in range(len(df)):\n",
    "        row_res = df.iloc[row_id]\n",
    "        merged_row_res = []\n",
    "        for t in u_sorted_by_time_nts_ws:\n",
    "            raw_res_time = row_res[sorted_by_time_nts_ws==t]\n",
    "            means = np.array([float(x.split('±')[0]) for x in raw_res_time.to_numpy()])\n",
    "            stds = np.array([float(x.split('±')[1]) for x in raw_res_time.to_numpy()])\n",
    "            merged_row_res.append(f'{means.mean():.2f}±{stds.mean():.2f}')\n",
    "        # merged_row_res = pd.Series(data=merged_row_res, index=u_sorted_by_time_nts_ws)\n",
    "        merged_df_rows.append(merged_row_res)\n",
    "    merged_dfs.append(pd.DataFrame(merged_df_rows,index=models,columns=[f'{features[i]} {t} s.' for t in u_sorted_by_time_nts_ws]))"
   ]
  },
  {
   "cell_type": "code",
   "execution_count": 13,
   "metadata": {},
   "outputs": [],
   "source": [
    "merged_raw_df= merged_dfs[0]"
   ]
  },
  {
   "cell_type": "code",
   "execution_count": 14,
   "metadata": {},
   "outputs": [
    {
     "data": {
      "text/html": [
       "<div>\n",
       "<style scoped>\n",
       "    .dataframe tbody tr th:only-of-type {\n",
       "        vertical-align: middle;\n",
       "    }\n",
       "\n",
       "    .dataframe tbody tr th {\n",
       "        vertical-align: top;\n",
       "    }\n",
       "\n",
       "    .dataframe thead th {\n",
       "        text-align: right;\n",
       "    }\n",
       "</style>\n",
       "<table border=\"1\" class=\"dataframe\">\n",
       "  <thead>\n",
       "    <tr style=\"text-align: right;\">\n",
       "      <th></th>\n",
       "      <th>raw 8.0 s.</th>\n",
       "      <th>raw 16.0 s.</th>\n",
       "      <th>raw 32.0 s.</th>\n",
       "      <th>raw 64.0 s.</th>\n",
       "      <th>raw 128.0 s.</th>\n",
       "      <th>raw 256.0 s.</th>\n",
       "      <th>raw 512.0 s.</th>\n",
       "    </tr>\n",
       "  </thead>\n",
       "  <tbody>\n",
       "    <tr>\n",
       "      <th>GraphConv_512</th>\n",
       "      <td>0.68±0.01</td>\n",
       "      <td>0.76±0.01</td>\n",
       "      <td>0.91±0.01</td>\n",
       "      <td>0.96±0.01</td>\n",
       "      <td>0.98±0.01</td>\n",
       "      <td>0.99±0.01</td>\n",
       "      <td>0.99±0.01</td>\n",
       "    </tr>\n",
       "    <tr>\n",
       "      <th>GraphConv_1024</th>\n",
       "      <td>0.67±0.02</td>\n",
       "      <td>0.76±0.01</td>\n",
       "      <td>0.90±0.01</td>\n",
       "      <td>0.96±0.01</td>\n",
       "      <td>0.98±0.01</td>\n",
       "      <td>0.98±0.02</td>\n",
       "      <td>0.98±0.02</td>\n",
       "    </tr>\n",
       "    <tr>\n",
       "      <th>MLP_512</th>\n",
       "      <td>0.40±0.02</td>\n",
       "      <td>0.42±0.01</td>\n",
       "      <td>0.51±0.01</td>\n",
       "      <td>0.62±0.01</td>\n",
       "      <td>0.75±0.01</td>\n",
       "      <td>0.86±0.01</td>\n",
       "      <td>0.89±0.01</td>\n",
       "    </tr>\n",
       "    <tr>\n",
       "      <th>MLP_1024</th>\n",
       "      <td>0.42±0.01</td>\n",
       "      <td>0.44±0.01</td>\n",
       "      <td>0.51±0.03</td>\n",
       "      <td>0.61±0.01</td>\n",
       "      <td>0.74±0.00</td>\n",
       "      <td>0.85±0.01</td>\n",
       "      <td>0.87±0.01</td>\n",
       "    </tr>\n",
       "    <tr>\n",
       "      <th>CNN_512</th>\n",
       "      <td>0.46±0.03</td>\n",
       "      <td>0.58±0.03</td>\n",
       "      <td>0.72±0.03</td>\n",
       "      <td>0.84±0.03</td>\n",
       "      <td>0.90±0.01</td>\n",
       "      <td>0.93±0.01</td>\n",
       "      <td>0.94±0.01</td>\n",
       "    </tr>\n",
       "    <tr>\n",
       "      <th>CNN_1024</th>\n",
       "      <td>0.48±0.03</td>\n",
       "      <td>0.58±0.04</td>\n",
       "      <td>0.74±0.04</td>\n",
       "      <td>0.84±0.03</td>\n",
       "      <td>0.91±0.01</td>\n",
       "      <td>0.93±0.01</td>\n",
       "      <td>0.94±0.02</td>\n",
       "    </tr>\n",
       "  </tbody>\n",
       "</table>\n",
       "</div>"
      ],
      "text/plain": [
       "               raw 8.0 s. raw 16.0 s. raw 32.0 s. raw 64.0 s. raw 128.0 s.  \\\n",
       "GraphConv_512   0.68±0.01   0.76±0.01   0.91±0.01   0.96±0.01    0.98±0.01   \n",
       "GraphConv_1024  0.67±0.02   0.76±0.01   0.90±0.01   0.96±0.01    0.98±0.01   \n",
       "MLP_512         0.40±0.02   0.42±0.01   0.51±0.01   0.62±0.01    0.75±0.01   \n",
       "MLP_1024        0.42±0.01   0.44±0.01   0.51±0.03   0.61±0.01    0.74±0.00   \n",
       "CNN_512         0.46±0.03   0.58±0.03   0.72±0.03   0.84±0.03    0.90±0.01   \n",
       "CNN_1024        0.48±0.03   0.58±0.04   0.74±0.04   0.84±0.03    0.91±0.01   \n",
       "\n",
       "               raw 256.0 s. raw 512.0 s.  \n",
       "GraphConv_512     0.99±0.01    0.99±0.01  \n",
       "GraphConv_1024    0.98±0.02    0.98±0.02  \n",
       "MLP_512           0.86±0.01    0.89±0.01  \n",
       "MLP_1024          0.85±0.01    0.87±0.01  \n",
       "CNN_512           0.93±0.01    0.94±0.01  \n",
       "CNN_1024          0.93±0.01    0.94±0.02  "
      ]
     },
     "execution_count": 14,
     "metadata": {},
     "output_type": "execute_result"
    }
   ],
   "source": [
    "merged_raw_df"
   ]
  },
  {
   "cell_type": "markdown",
   "metadata": {},
   "source": [
    "# Create latex tables for merged results"
   ]
  },
  {
   "cell_type": "code",
   "execution_count": 15,
   "metadata": {},
   "outputs": [],
   "source": [
    "for i,f in enumerate(features):\n",
    "    text_file = open(f'tables/{f}_table_res_merged.tex', \"w\")\n",
    "    n = text_file.write(merged_dfs[i].to_latex(bold_rows=True))\n",
    "    text_file.close()"
   ]
  },
  {
   "cell_type": "code",
   "execution_count": 16,
   "metadata": {},
   "outputs": [
    {
     "data": {
      "text/plain": [
       "'GraphConv_512'"
      ]
     },
     "execution_count": 16,
     "metadata": {},
     "output_type": "execute_result"
    }
   ],
   "source": [
    "models[0]"
   ]
  },
  {
   "cell_type": "code",
   "execution_count": 17,
   "metadata": {
    "scrolled": true
   },
   "outputs": [
    {
     "data": {
      "text/plain": [
       "(array([  8.,  16.,  32.,  64., 128., 256., 512.]),\n",
       " array([  8.,  16.,  16.,  32.,  32.,  64.,  64., 128., 128., 256., 256.,\n",
       "        512.]))"
      ]
     },
     "execution_count": 17,
     "metadata": {},
     "output_type": "execute_result"
    }
   ],
   "source": [
    "u_sorted_by_time_nts_ws,sorted_by_time_nts_ws"
   ]
  },
  {
   "cell_type": "code",
   "execution_count": 18,
   "metadata": {},
   "outputs": [
    {
     "data": {
      "text/plain": [
       "(12, 12)"
      ]
     },
     "execution_count": 18,
     "metadata": {},
     "output_type": "execute_result"
    }
   ],
   "source": [
    "df.shape[1], len(sorted_by_time_nts_ws)"
   ]
  },
  {
   "cell_type": "code",
   "execution_count": null,
   "metadata": {},
   "outputs": [],
   "source": []
  },
  {
   "cell_type": "markdown",
   "metadata": {},
   "source": [
    "# Plot both options side by side"
   ]
  },
  {
   "cell_type": "code",
   "execution_count": 19,
   "metadata": {},
   "outputs": [
    {
     "name": "stdout",
     "output_type": "stream",
     "text": [
      "[  8.  16.  32.  64. 128. 256. 512.]\n"
     ]
    },
    {
     "data": {
      "image/png": "[encoded data removed]",
      "text/plain": [
       "<Figure size 432x288 with 1 Axes>"
      ]
     },
     "metadata": {
      "needs_background": "light"
     },
     "output_type": "display_data"
    },
    {
     "name": "stdout",
     "output_type": "stream",
     "text": [
      "[  8.  16.  32.  64. 128. 256. 512.]\n"
     ]
    },
    {
     "data": {
      "image/png": "[encoded data removed]",
      "text/plain": [
       "<Figure size 432x288 with 1 Axes>"
      ]
     },
     "metadata": {
      "needs_background": "light"
     },
     "output_type": "display_data"
    }
   ],
   "source": [
    "def show_inflection_point_graph(model_name, df, title):\n",
    "    model_idx = np.where(df.index.to_numpy()==model_name)[0][0]\n",
    "    res = df.iloc[model_idx]\n",
    "    means = np.array([float(x.split('±')[0]) for x in res.to_numpy()])\n",
    "    stds = np.array([float(x.split('±')[1]) for x in res.to_numpy()])\n",
    "    x_axis = u_sorted_by_time_nts_ws if df.shape[1] == len(u_sorted_by_time_nts_ws) else sorted_by_time_nts_ws\n",
    "    print(x_axis)\n",
    "   \n",
    "    plt.errorbar(x_axis, means, stds, linestyle='--', marker='^',ecolor='red',elinewidth=1,capsize=3)\n",
    "    plt.axhline(1, color='red',alpha=0.2,linestyle=':')\n",
    "    plt.axhline(.95, color='red',alpha=0.2,linestyle=':')\n",
    "#     plt.xticks(list(range(n_secs)))\n",
    "    n_secs = int(x_axis.max()+1)\n",
    "    for i in np.arange(0,n_secs,0.25):\n",
    "#         if int(i) == i:\n",
    "#             plt.axvline(i, color='gray',alpha=0.25,linestyle=':')\n",
    "        if i in x_axis:\n",
    "            plt.axvline(i, color='gray',alpha=0.55,linestyle=':',linewidth=1)\n",
    "    \n",
    "    plt.title(f'{title}')\n",
    "    plt.xlabel('available train data (s)')\n",
    "    plt.ylabel('test accuracy')\n",
    "\n",
    "show_inflection_point_graph(models[0], merged_raw_df, f'{models[0]} raw')\n",
    "plt.show()\n",
    "show_inflection_point_graph(models[1], merged_raw_df, f'{models[1]} raw')\n",
    "plt.show()"
   ]
  },
  {
   "cell_type": "code",
   "execution_count": 20,
   "metadata": {
    "scrolled": true
   },
   "outputs": [],
   "source": [
    "%%capture\n",
    "from matplotlib.pyplot import figure\n",
    "for i, (df,merged_df) in enumerate(zip(dfs,merged_dfs)):\n",
    "    for model in models:\n",
    "        figure(figsize=(20, 6), dpi=80)\n",
    "        plt.subplot(1, 2, 1)\n",
    "        show_inflection_point_graph(model, df, f'{model}({features[i]})')\n",
    "        plt.subplot(1, 2, 2)\n",
    "        show_inflection_point_graph(model, merged_df, f'{model} ({features[i]}) merged')\n",
    "        plt.savefig(f'figures/{features[i]}_{model}.png')"
   ]
  }
 ],
 "metadata": {
  "kernelspec": {
   "display_name": "torch",
   "language": "python",
   "name": "torch"
  },
  "language_info": {
   "codemirror_mode": {
    "name": "ipython",
    "version": 3
   },
   "file_extension": ".py",
   "mimetype": "text/x-python",
   "name": "python",
   "nbconvert_exporter": "python",
   "pygments_lexer": "ipython3",
   "version": "3.8.2"
  }
 },
 "nbformat": 4,
 "nbformat_minor": 5
}
