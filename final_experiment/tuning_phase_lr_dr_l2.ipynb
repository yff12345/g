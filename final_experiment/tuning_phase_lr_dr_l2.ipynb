{
 "cells": [
  {
   "cell_type": "code",
   "execution_count": 1,
   "id": "adaptive-accident",
   "metadata": {},
   "outputs": [],
   "source": [
    "import pandas as pd\n",
    "import numpy as np\n",
    "import matplotlib.pyplot as plt\n",
    "from scipy import stats"
   ]
  },
  {
   "cell_type": "code",
   "execution_count": 2,
   "id": "polished-format",
   "metadata": {},
   "outputs": [],
   "source": [
    "results1 = pd.read_csv('./logs/MLP_experiments.csv')\n",
    "results2 = pd.read_csv('./logs/CNN_experiments0.5.csv')\n",
    "results3 = pd.read_csv('./logs/CNN_experiments1.csv')\n",
    "results4 = pd.read_csv('./logs/CNN_experiments1.5.csv')\n",
    "results5 = pd.read_csv('./logs/CNN_experiments2.csv')\n",
    "results6 = pd.read_csv('./logs/GraphConv_experiments.csv')\n",
    "results7 = pd.read_csv('./logs/GIN_experiments.csv')"
   ]
  },
  {
   "cell_type": "code",
   "execution_count": 3,
   "id": "checked-petite",
   "metadata": {},
   "outputs": [
    {
     "data": {
      "text/html": [
       "<div>\n",
       "<style scoped>\n",
       "    .dataframe tbody tr th:only-of-type {\n",
       "        vertical-align: middle;\n",
       "    }\n",
       "\n",
       "    .dataframe tbody tr th {\n",
       "        vertical-align: top;\n",
       "    }\n",
       "\n",
       "    .dataframe thead th {\n",
       "        text-align: right;\n",
       "    }\n",
       "</style>\n",
       "<table border=\"1\" class=\"dataframe\">\n",
       "  <thead>\n",
       "    <tr style=\"text-align: right;\">\n",
       "      <th></th>\n",
       "      <th>eeg_feature</th>\n",
       "      <th>model</th>\n",
       "      <th>hidden_channels</th>\n",
       "      <th>window_size</th>\n",
       "      <th>batch_size</th>\n",
       "      <th>learning_rate</th>\n",
       "      <th>dropout_rate</th>\n",
       "      <th>weight_decay</th>\n",
       "      <th>activation_funct</th>\n",
       "      <th>number_train_samples</th>\n",
       "      <th>...</th>\n",
       "      <th>number_test_samples</th>\n",
       "      <th>mean_test_loss</th>\n",
       "      <th>test_acc</th>\n",
       "      <th>test_f1</th>\n",
       "      <th>test_prec</th>\n",
       "      <th>test_reca</th>\n",
       "      <th>test_roc</th>\n",
       "      <th>pytorch_total_params</th>\n",
       "      <th>train_time</th>\n",
       "      <th>best_epoch</th>\n",
       "    </tr>\n",
       "  </thead>\n",
       "  <tbody>\n",
       "    <tr>\n",
       "      <th>0</th>\n",
       "      <td>'wav'</td>\n",
       "      <td>'MLP'</td>\n",
       "      <td>32</td>\n",
       "      <td>0.5</td>\n",
       "      <td>16</td>\n",
       "      <td>0.005</td>\n",
       "      <td>0.0</td>\n",
       "      <td>0.0</td>\n",
       "      <td>'relu'</td>\n",
       "      <td>1</td>\n",
       "      <td>...</td>\n",
       "      <td>4699</td>\n",
       "      <td>2.8651637700193104</td>\n",
       "      <td>0.6607788891253458</td>\n",
       "      <td>0.6007125018252852</td>\n",
       "      <td>0.632375804584892</td>\n",
       "      <td>0.6607788891253459</td>\n",
       "      <td>0.9381311058549802</td>\n",
       "      <td>5080</td>\n",
       "      <td>198.0771677494049</td>\n",
       "      <td>413</td>\n",
       "    </tr>\n",
       "    <tr>\n",
       "      <th>1</th>\n",
       "      <td>'wav'</td>\n",
       "      <td>'MLP'</td>\n",
       "      <td>32</td>\n",
       "      <td>0.5</td>\n",
       "      <td>16</td>\n",
       "      <td>0.005</td>\n",
       "      <td>0.25</td>\n",
       "      <td>0.0</td>\n",
       "      <td>'relu'</td>\n",
       "      <td>1</td>\n",
       "      <td>...</td>\n",
       "      <td>4699</td>\n",
       "      <td>2.9101687502064433</td>\n",
       "      <td>0.6408876888699724</td>\n",
       "      <td>0.6082729531294633</td>\n",
       "      <td>0.6644685365918824</td>\n",
       "      <td>0.6408876888699723</td>\n",
       "      <td>0.9303050192340341</td>\n",
       "      <td>5080</td>\n",
       "      <td>84.6742832660675</td>\n",
       "      <td>160</td>\n",
       "    </tr>\n",
       "    <tr>\n",
       "      <th>2</th>\n",
       "      <td>'wav'</td>\n",
       "      <td>'MLP'</td>\n",
       "      <td>32</td>\n",
       "      <td>0.5</td>\n",
       "      <td>16</td>\n",
       "      <td>0.005</td>\n",
       "      <td>0.5</td>\n",
       "      <td>0.0</td>\n",
       "      <td>'relu'</td>\n",
       "      <td>1</td>\n",
       "      <td>...</td>\n",
       "      <td>4699</td>\n",
       "      <td>3.0067263185331026</td>\n",
       "      <td>0.6749441370504362</td>\n",
       "      <td>0.639937319990606</td>\n",
       "      <td>0.676486825459856</td>\n",
       "      <td>0.6749441370504363</td>\n",
       "      <td>0.9571488166442367</td>\n",
       "      <td>5080</td>\n",
       "      <td>102.47405171394348</td>\n",
       "      <td>198</td>\n",
       "    </tr>\n",
       "    <tr>\n",
       "      <th>3</th>\n",
       "      <td>'wav'</td>\n",
       "      <td>'MLP'</td>\n",
       "      <td>32</td>\n",
       "      <td>0.5</td>\n",
       "      <td>16</td>\n",
       "      <td>0.005</td>\n",
       "      <td>0.0</td>\n",
       "      <td>0.01</td>\n",
       "      <td>'relu'</td>\n",
       "      <td>1</td>\n",
       "      <td>...</td>\n",
       "      <td>4699</td>\n",
       "      <td>2.841984506185117</td>\n",
       "      <td>0.6835164396680145</td>\n",
       "      <td>0.6338473893444219</td>\n",
       "      <td>0.6655748051077557</td>\n",
       "      <td>0.6835164396680145</td>\n",
       "      <td>0.9434488059763191</td>\n",
       "      <td>5080</td>\n",
       "      <td>225.229642868042</td>\n",
       "      <td>487</td>\n",
       "    </tr>\n",
       "    <tr>\n",
       "      <th>4</th>\n",
       "      <td>'wav'</td>\n",
       "      <td>'MLP'</td>\n",
       "      <td>32</td>\n",
       "      <td>0.5</td>\n",
       "      <td>16</td>\n",
       "      <td>0.005</td>\n",
       "      <td>0.25</td>\n",
       "      <td>0.01</td>\n",
       "      <td>'relu'</td>\n",
       "      <td>1</td>\n",
       "      <td>...</td>\n",
       "      <td>4699</td>\n",
       "      <td>2.883945169385937</td>\n",
       "      <td>0.6688723664609492</td>\n",
       "      <td>0.6255555536677241</td>\n",
       "      <td>0.6627863447732932</td>\n",
       "      <td>0.668872366460949</td>\n",
       "      <td>0.9314804634676837</td>\n",
       "      <td>5080</td>\n",
       "      <td>78.11803817749023</td>\n",
       "      <td>150</td>\n",
       "    </tr>\n",
       "    <tr>\n",
       "      <th>...</th>\n",
       "      <td>...</td>\n",
       "      <td>...</td>\n",
       "      <td>...</td>\n",
       "      <td>...</td>\n",
       "      <td>...</td>\n",
       "      <td>...</td>\n",
       "      <td>...</td>\n",
       "      <td>...</td>\n",
       "      <td>...</td>\n",
       "      <td>...</td>\n",
       "      <td>...</td>\n",
       "      <td>...</td>\n",
       "      <td>...</td>\n",
       "      <td>...</td>\n",
       "      <td>...</td>\n",
       "      <td>...</td>\n",
       "      <td>...</td>\n",
       "      <td>...</td>\n",
       "      <td>...</td>\n",
       "      <td>...</td>\n",
       "      <td>...</td>\n",
       "    </tr>\n",
       "    <tr>\n",
       "      <th>2155</th>\n",
       "      <td>'raw'</td>\n",
       "      <td>'GIN'</td>\n",
       "      <td>128</td>\n",
       "      <td>2.0</td>\n",
       "      <td>16</td>\n",
       "      <td>0.0005</td>\n",
       "      <td>0.25</td>\n",
       "      <td>0.16</td>\n",
       "      <td>'relu'</td>\n",
       "      <td>8</td>\n",
       "      <td>...</td>\n",
       "      <td>1092</td>\n",
       "      <td>3.2113291157252624</td>\n",
       "      <td>0.3405448717948718</td>\n",
       "      <td>0.33752536458076143</td>\n",
       "      <td>0.36595328854112674</td>\n",
       "      <td>0.3405448717948718</td>\n",
       "      <td>0.7903947593981602</td>\n",
       "      <td>561440</td>\n",
       "      <td>46.03723740577698</td>\n",
       "      <td>77</td>\n",
       "    </tr>\n",
       "    <tr>\n",
       "      <th>2156</th>\n",
       "      <td>'raw'</td>\n",
       "      <td>'GIN'</td>\n",
       "      <td>128</td>\n",
       "      <td>2.0</td>\n",
       "      <td>16</td>\n",
       "      <td>0.0005</td>\n",
       "      <td>0.5</td>\n",
       "      <td>0.16</td>\n",
       "      <td>'relu'</td>\n",
       "      <td>8</td>\n",
       "      <td>...</td>\n",
       "      <td>1092</td>\n",
       "      <td>3.2105132040086684</td>\n",
       "      <td>0.32698031135531136</td>\n",
       "      <td>0.33083790562449933</td>\n",
       "      <td>0.3720507661167958</td>\n",
       "      <td>0.32698031135531136</td>\n",
       "      <td>0.8061806458571927</td>\n",
       "      <td>561440</td>\n",
       "      <td>44.111835956573486</td>\n",
       "      <td>74</td>\n",
       "    </tr>\n",
       "    <tr>\n",
       "      <th>2157</th>\n",
       "      <td>'raw'</td>\n",
       "      <td>'GIN'</td>\n",
       "      <td>128</td>\n",
       "      <td>2.0</td>\n",
       "      <td>16</td>\n",
       "      <td>0.0005</td>\n",
       "      <td>0.0</td>\n",
       "      <td>0.64</td>\n",
       "      <td>'relu'</td>\n",
       "      <td>8</td>\n",
       "      <td>...</td>\n",
       "      <td>1092</td>\n",
       "      <td>3.212876096968249</td>\n",
       "      <td>0.3401442307692308</td>\n",
       "      <td>0.33869476121716313</td>\n",
       "      <td>0.3483475370944249</td>\n",
       "      <td>0.3401442307692307</td>\n",
       "      <td>0.8006281873722083</td>\n",
       "      <td>561440</td>\n",
       "      <td>312.9175019264221</td>\n",
       "      <td>715</td>\n",
       "    </tr>\n",
       "    <tr>\n",
       "      <th>2158</th>\n",
       "      <td>'raw'</td>\n",
       "      <td>'GIN'</td>\n",
       "      <td>128</td>\n",
       "      <td>2.0</td>\n",
       "      <td>16</td>\n",
       "      <td>0.0005</td>\n",
       "      <td>0.25</td>\n",
       "      <td>0.64</td>\n",
       "      <td>'relu'</td>\n",
       "      <td>8</td>\n",
       "      <td>...</td>\n",
       "      <td>1092</td>\n",
       "      <td>3.216526810066167</td>\n",
       "      <td>0.35001717032967034</td>\n",
       "      <td>0.35109879644096725</td>\n",
       "      <td>0.37005199390889015</td>\n",
       "      <td>0.35001717032967034</td>\n",
       "      <td>0.8012117031618511</td>\n",
       "      <td>561440</td>\n",
       "      <td>35.07494783401489</td>\n",
       "      <td>53</td>\n",
       "    </tr>\n",
       "    <tr>\n",
       "      <th>2159</th>\n",
       "      <td>'raw'</td>\n",
       "      <td>'GIN'</td>\n",
       "      <td>128</td>\n",
       "      <td>2.0</td>\n",
       "      <td>16</td>\n",
       "      <td>0.0005</td>\n",
       "      <td>0.5</td>\n",
       "      <td>0.64</td>\n",
       "      <td>'relu'</td>\n",
       "      <td>8</td>\n",
       "      <td>...</td>\n",
       "      <td>1092</td>\n",
       "      <td>3.211528036838923</td>\n",
       "      <td>0.3298706501831502</td>\n",
       "      <td>0.3149963816781953</td>\n",
       "      <td>0.3496729097929615</td>\n",
       "      <td>0.3298706501831502</td>\n",
       "      <td>0.7900796200407376</td>\n",
       "      <td>561440</td>\n",
       "      <td>46.232924699783325</td>\n",
       "      <td>79</td>\n",
       "    </tr>\n",
       "  </tbody>\n",
       "</table>\n",
       "<p>8638 rows × 21 columns</p>\n",
       "</div>"
      ],
      "text/plain": [
       "     eeg_feature  model hidden_channels window_size batch_size learning_rate  \\\n",
       "0          'wav'  'MLP'              32         0.5         16         0.005   \n",
       "1          'wav'  'MLP'              32         0.5         16         0.005   \n",
       "2          'wav'  'MLP'              32         0.5         16         0.005   \n",
       "3          'wav'  'MLP'              32         0.5         16         0.005   \n",
       "4          'wav'  'MLP'              32         0.5         16         0.005   \n",
       "...          ...    ...             ...         ...        ...           ...   \n",
       "2155       'raw'  'GIN'             128         2.0         16        0.0005   \n",
       "2156       'raw'  'GIN'             128         2.0         16        0.0005   \n",
       "2157       'raw'  'GIN'             128         2.0         16        0.0005   \n",
       "2158       'raw'  'GIN'             128         2.0         16        0.0005   \n",
       "2159       'raw'  'GIN'             128         2.0         16        0.0005   \n",
       "\n",
       "     dropout_rate weight_decay activation_funct number_train_samples  ...  \\\n",
       "0             0.0          0.0           'relu'                    1  ...   \n",
       "1            0.25          0.0           'relu'                    1  ...   \n",
       "2             0.5          0.0           'relu'                    1  ...   \n",
       "3             0.0         0.01           'relu'                    1  ...   \n",
       "4            0.25         0.01           'relu'                    1  ...   \n",
       "...           ...          ...              ...                  ...  ...   \n",
       "2155         0.25         0.16           'relu'                    8  ...   \n",
       "2156          0.5         0.16           'relu'                    8  ...   \n",
       "2157          0.0         0.64           'relu'                    8  ...   \n",
       "2158         0.25         0.64           'relu'                    8  ...   \n",
       "2159          0.5         0.64           'relu'                    8  ...   \n",
       "\n",
       "     number_test_samples      mean_test_loss             test_acc  \\\n",
       "0                   4699  2.8651637700193104   0.6607788891253458   \n",
       "1                   4699  2.9101687502064433   0.6408876888699724   \n",
       "2                   4699  3.0067263185331026   0.6749441370504362   \n",
       "3                   4699   2.841984506185117   0.6835164396680145   \n",
       "4                   4699   2.883945169385937   0.6688723664609492   \n",
       "...                  ...                 ...                  ...   \n",
       "2155                1092  3.2113291157252624   0.3405448717948718   \n",
       "2156                1092  3.2105132040086684  0.32698031135531136   \n",
       "2157                1092   3.212876096968249   0.3401442307692308   \n",
       "2158                1092   3.216526810066167  0.35001717032967034   \n",
       "2159                1092   3.211528036838923   0.3298706501831502   \n",
       "\n",
       "                  test_f1            test_prec            test_reca  \\\n",
       "0      0.6007125018252852    0.632375804584892   0.6607788891253459   \n",
       "1      0.6082729531294633   0.6644685365918824   0.6408876888699723   \n",
       "2       0.639937319990606    0.676486825459856   0.6749441370504363   \n",
       "3      0.6338473893444219   0.6655748051077557   0.6835164396680145   \n",
       "4      0.6255555536677241   0.6627863447732932    0.668872366460949   \n",
       "...                   ...                  ...                  ...   \n",
       "2155  0.33752536458076143  0.36595328854112674   0.3405448717948718   \n",
       "2156  0.33083790562449933   0.3720507661167958  0.32698031135531136   \n",
       "2157  0.33869476121716313   0.3483475370944249   0.3401442307692307   \n",
       "2158  0.35109879644096725  0.37005199390889015  0.35001717032967034   \n",
       "2159   0.3149963816781953   0.3496729097929615   0.3298706501831502   \n",
       "\n",
       "                test_roc pytorch_total_params          train_time best_epoch  \n",
       "0     0.9381311058549802                 5080   198.0771677494049        413  \n",
       "1     0.9303050192340341                 5080    84.6742832660675        160  \n",
       "2     0.9571488166442367                 5080  102.47405171394348        198  \n",
       "3     0.9434488059763191                 5080    225.229642868042        487  \n",
       "4     0.9314804634676837                 5080   78.11803817749023        150  \n",
       "...                  ...                  ...                 ...        ...  \n",
       "2155  0.7903947593981602               561440   46.03723740577698         77  \n",
       "2156  0.8061806458571927               561440  44.111835956573486         74  \n",
       "2157  0.8006281873722083               561440   312.9175019264221        715  \n",
       "2158  0.8012117031618511               561440   35.07494783401489         53  \n",
       "2159  0.7900796200407376               561440  46.232924699783325         79  \n",
       "\n",
       "[8638 rows x 21 columns]"
      ]
     },
     "execution_count": 3,
     "metadata": {},
     "output_type": "execute_result"
    }
   ],
   "source": [
    "results = pd.concat([results1,results2,results3,results4,results5,results6,results7])\n",
    "# Clean dataframe\n",
    "results = results.apply(lambda x: x.apply(lambda y: y.split(' ')[1][:-1]))\n",
    "results"
   ]
  },
  {
   "cell_type": "markdown",
   "id": "sexual-lender",
   "metadata": {},
   "source": [
    "# Dropout rate = 0.25"
   ]
  },
  {
   "cell_type": "code",
   "execution_count": 29,
   "id": "varied-doctrine",
   "metadata": {},
   "outputs": [
    {
     "data": {
      "image/png": "[encoded data removed]",
      "text/plain": [
       "<Figure size 432x288 with 1 Axes>"
      ]
     },
     "metadata": {
      "needs_background": "light"
     },
     "output_type": "display_data"
    },
    {
     "name": "stdout",
     "output_type": "stream",
     "text": [
      "0.6116375244019225\n"
     ]
    },
    {
     "data": {
      "image/png": "[encoded data removed]",
      "text/plain": [
       "<Figure size 432x288 with 1 Axes>"
      ]
     },
     "metadata": {
      "needs_background": "light"
     },
     "output_type": "display_data"
    },
    {
     "name": "stdout",
     "output_type": "stream",
     "text": [
      "0.5658707085852342\n"
     ]
    },
    {
     "data": {
      "image/png": "[encoded data removed]",
      "text/plain": [
       "<Figure size 432x288 with 1 Axes>"
      ]
     },
     "metadata": {
      "needs_background": "light"
     },
     "output_type": "display_data"
    },
    {
     "name": "stdout",
     "output_type": "stream",
     "text": [
      "0.6196796179972793\n"
     ]
    },
    {
     "data": {
      "image/png": "[encoded data removed]",
      "text/plain": [
       "<Figure size 432x288 with 1 Axes>"
      ]
     },
     "metadata": {
      "needs_background": "light"
     },
     "output_type": "display_data"
    },
    {
     "name": "stdout",
     "output_type": "stream",
     "text": [
      "0.6327894053891525\n"
     ]
    }
   ],
   "source": [
    "for model in ['MLP','CNN','GraphConv','GIN']:\n",
    "    dr_0 = results[(results['model'] == f'\\'{model}\\'') & (results['dropout_rate'] == '0.0')]['test_acc'].astype(float).to_numpy()\n",
    "    plt.hist(np.round(dr_0,2),bins=100,range=(0,1),align='mid')\n",
    "    plt.show()\n",
    "    print(dr_0.mean())"
   ]
  },
  {
   "cell_type": "code",
   "execution_count": 30,
   "id": "ecological-relevance",
   "metadata": {},
   "outputs": [
    {
     "data": {
      "image/png": "[encoded data removed]",
      "text/plain": [
       "<Figure size 432x288 with 1 Axes>"
      ]
     },
     "metadata": {
      "needs_background": "light"
     },
     "output_type": "display_data"
    },
    {
     "name": "stdout",
     "output_type": "stream",
     "text": [
      "0.6308069158826326\n"
     ]
    },
    {
     "data": {
      "image/png": "[encoded data removed]",
      "text/plain": [
       "<Figure size 432x288 with 1 Axes>"
      ]
     },
     "metadata": {
      "needs_background": "light"
     },
     "output_type": "display_data"
    },
    {
     "name": "stdout",
     "output_type": "stream",
     "text": [
      "0.6058154900913121\n"
     ]
    },
    {
     "data": {
      "image/png": "[encoded data removed]",
      "text/plain": [
       "<Figure size 432x288 with 1 Axes>"
      ]
     },
     "metadata": {
      "needs_background": "light"
     },
     "output_type": "display_data"
    },
    {
     "name": "stdout",
     "output_type": "stream",
     "text": [
      "0.6400766127040366\n"
     ]
    },
    {
     "data": {
      "image/png": "[encoded data removed]",
      "text/plain": [
       "<Figure size 432x288 with 1 Axes>"
      ]
     },
     "metadata": {
      "needs_background": "light"
     },
     "output_type": "display_data"
    },
    {
     "name": "stdout",
     "output_type": "stream",
     "text": [
      "0.6313807541869203\n"
     ]
    }
   ],
   "source": [
    "for model in ['MLP','CNN','GraphConv','GIN']:\n",
    "    dr_025 = results[(results['model'] == f'\\'{model}\\'') & (results['dropout_rate'] == '0.25')]['test_acc'].astype(float).to_numpy()\n",
    "    plt.hist(np.round(dr_025,2),bins=100,range=(0,1),align='mid')\n",
    "    plt.show()\n",
    "    print(dr_025.mean())"
   ]
  },
  {
   "cell_type": "code",
   "execution_count": 31,
   "id": "utility-gregory",
   "metadata": {
    "scrolled": true
   },
   "outputs": [
    {
     "data": {
      "image/png": "[encoded data removed]",
      "text/plain": [
       "<Figure size 432x288 with 1 Axes>"
      ]
     },
     "metadata": {
      "needs_background": "light"
     },
     "output_type": "display_data"
    },
    {
     "name": "stdout",
     "output_type": "stream",
     "text": [
      "0.6108195424747713\n"
     ]
    },
    {
     "data": {
      "image/png": "[encoded data removed]",
      "text/plain": [
       "<Figure size 432x288 with 1 Axes>"
      ]
     },
     "metadata": {
      "needs_background": "light"
     },
     "output_type": "display_data"
    },
    {
     "name": "stdout",
     "output_type": "stream",
     "text": [
      "0.5869096726274188\n"
     ]
    },
    {
     "data": {
      "image/png": "[encoded data removed]",
      "text/plain": [
       "<Figure size 432x288 with 1 Axes>"
      ]
     },
     "metadata": {
      "needs_background": "light"
     },
     "output_type": "display_data"
    },
    {
     "name": "stdout",
     "output_type": "stream",
     "text": [
      "0.6336929262059134\n"
     ]
    },
    {
     "data": {
      "image/png": "[encoded data removed]",
      "text/plain": [
       "<Figure size 432x288 with 1 Axes>"
      ]
     },
     "metadata": {
      "needs_background": "light"
     },
     "output_type": "display_data"
    },
    {
     "name": "stdout",
     "output_type": "stream",
     "text": [
      "0.6276670478654416\n"
     ]
    }
   ],
   "source": [
    "for model in ['MLP','CNN','GraphConv','GIN']:\n",
    "    dr_05 = results[(results['model'] == f'\\'{model}\\'') & (results['dropout_rate'] == '0.5')]['test_acc'].astype(float).to_numpy()\n",
    "    plt.hist(np.round(dr_05,2),bins=100,range=(0,1),align='mid')\n",
    "    plt.show()\n",
    "    print(dr_05.mean())"
   ]
  },
  {
   "cell_type": "markdown",
   "id": "stretch-stage",
   "metadata": {},
   "source": [
    "# L2 rate = 0"
   ]
  },
  {
   "cell_type": "code",
   "execution_count": 35,
   "id": "olympic-youth",
   "metadata": {
    "scrolled": false
   },
   "outputs": [
    {
     "data": {
      "image/png": "[encoded data removed]",
      "text/plain": [
       "<Figure size 432x288 with 1 Axes>"
      ]
     },
     "metadata": {
      "needs_background": "light"
     },
     "output_type": "display_data"
    },
    {
     "name": "stdout",
     "output_type": "stream",
     "text": [
      "MLP 0.0\n",
      "0.6173310347373873\n"
     ]
    },
    {
     "data": {
      "image/png": "[encoded data removed]",
      "text/plain": [
       "<Figure size 432x288 with 1 Axes>"
      ]
     },
     "metadata": {
      "needs_background": "light"
     },
     "output_type": "display_data"
    },
    {
     "name": "stdout",
     "output_type": "stream",
     "text": [
      "MLP 0.01\n",
      "0.6176974750957612\n"
     ]
    },
    {
     "data": {
      "image/png": "[encoded data removed]",
      "text/plain": [
       "<Figure size 432x288 with 1 Axes>"
      ]
     },
     "metadata": {
      "needs_background": "light"
     },
     "output_type": "display_data"
    },
    {
     "name": "stdout",
     "output_type": "stream",
     "text": [
      "MLP 0.04\n",
      "0.6180371132711108\n"
     ]
    },
    {
     "data": {
      "image/png": "[encoded data removed]",
      "text/plain": [
       "<Figure size 432x288 with 1 Axes>"
      ]
     },
     "metadata": {
      "needs_background": "light"
     },
     "output_type": "display_data"
    },
    {
     "name": "stdout",
     "output_type": "stream",
     "text": [
      "MLP 0.16\n",
      "0.6157544244667603\n"
     ]
    },
    {
     "data": {
      "image/png": "[encoded data removed]",
      "text/plain": [
       "<Figure size 432x288 with 1 Axes>"
      ]
     },
     "metadata": {
      "needs_background": "light"
     },
     "output_type": "display_data"
    },
    {
     "name": "stdout",
     "output_type": "stream",
     "text": [
      "MLP 0.64\n",
      "0.6199440326050417\n"
     ]
    },
    {
     "data": {
      "image/png": "[encoded data removed]",
      "text/plain": [
       "<Figure size 432x288 with 1 Axes>"
      ]
     },
     "metadata": {
      "needs_background": "light"
     },
     "output_type": "display_data"
    },
    {
     "name": "stdout",
     "output_type": "stream",
     "text": [
      "CNN 0.0\n",
      "0.5856942625714883\n"
     ]
    },
    {
     "data": {
      "image/png": "[encoded data removed]",
      "text/plain": [
       "<Figure size 432x288 with 1 Axes>"
      ]
     },
     "metadata": {
      "needs_background": "light"
     },
     "output_type": "display_data"
    },
    {
     "name": "stdout",
     "output_type": "stream",
     "text": [
      "CNN 0.01\n",
      "0.5831214538464243\n"
     ]
    },
    {
     "data": {
      "image/png": "[encoded data removed]",
      "text/plain": [
       "<Figure size 432x288 with 1 Axes>"
      ]
     },
     "metadata": {
      "needs_background": "light"
     },
     "output_type": "display_data"
    },
    {
     "name": "stdout",
     "output_type": "stream",
     "text": [
      "CNN 0.04\n",
      "0.5834965127858449\n"
     ]
    },
    {
     "data": {
      "image/png": "[encoded data removed]",
      "text/plain": [
       "<Figure size 432x288 with 1 Axes>"
      ]
     },
     "metadata": {
      "needs_background": "light"
     },
     "output_type": "display_data"
    },
    {
     "name": "stdout",
     "output_type": "stream",
     "text": [
      "CNN 0.16\n",
      "0.5940450489370809\n"
     ]
    },
    {
     "data": {
      "image/png": "[encoded data removed]",
      "text/plain": [
       "<Figure size 432x288 with 1 Axes>"
      ]
     },
     "metadata": {
      "needs_background": "light"
     },
     "output_type": "display_data"
    },
    {
     "name": "stdout",
     "output_type": "stream",
     "text": [
      "CNN 0.64\n",
      "0.5846358406991035\n"
     ]
    },
    {
     "data": {
      "image/png": "[encoded data removed]",
      "text/plain": [
       "<Figure size 432x288 with 1 Axes>"
      ]
     },
     "metadata": {
      "needs_background": "light"
     },
     "output_type": "display_data"
    },
    {
     "name": "stdout",
     "output_type": "stream",
     "text": [
      "GraphConv 0.0\n",
      "0.6297267754637809\n"
     ]
    },
    {
     "data": {
      "image/png": "[encoded data removed]",
      "text/plain": [
       "<Figure size 432x288 with 1 Axes>"
      ]
     },
     "metadata": {
      "needs_background": "light"
     },
     "output_type": "display_data"
    },
    {
     "name": "stdout",
     "output_type": "stream",
     "text": [
      "GraphConv 0.01\n",
      "0.6346491822605026\n"
     ]
    },
    {
     "data": {
      "image/png": "[encoded data removed]",
      "text/plain": [
       "<Figure size 432x288 with 1 Axes>"
      ]
     },
     "metadata": {
      "needs_background": "light"
     },
     "output_type": "display_data"
    },
    {
     "name": "stdout",
     "output_type": "stream",
     "text": [
      "GraphConv 0.04\n",
      "0.631222578475512\n"
     ]
    },
    {
     "data": {
      "image/png": "[encoded data removed]",
      "text/plain": [
       "<Figure size 432x288 with 1 Axes>"
      ]
     },
     "metadata": {
      "needs_background": "light"
     },
     "output_type": "display_data"
    },
    {
     "name": "stdout",
     "output_type": "stream",
     "text": [
      "GraphConv 0.16\n",
      "0.6287701766171091\n"
     ]
    },
    {
     "data": {
      "image/png": "[encoded data removed]",
      "text/plain": [
       "<Figure size 432x288 with 1 Axes>"
      ]
     },
     "metadata": {
      "needs_background": "light"
     },
     "output_type": "display_data"
    },
    {
     "name": "stdout",
     "output_type": "stream",
     "text": [
      "GraphConv 0.64\n",
      "0.6313798820284778\n"
     ]
    },
    {
     "data": {
      "image/png": "[encoded data removed]",
      "text/plain": [
       "<Figure size 432x288 with 1 Axes>"
      ]
     },
     "metadata": {
      "needs_background": "light"
     },
     "output_type": "display_data"
    },
    {
     "name": "stdout",
     "output_type": "stream",
     "text": [
      "GIN 0.0\n",
      "0.6326182009574534\n"
     ]
    },
    {
     "data": {
      "image/png": "[encoded data removed]",
      "text/plain": [
       "<Figure size 432x288 with 1 Axes>"
      ]
     },
     "metadata": {
      "needs_background": "light"
     },
     "output_type": "display_data"
    },
    {
     "name": "stdout",
     "output_type": "stream",
     "text": [
      "GIN 0.01\n",
      "0.6319032150004888\n"
     ]
    },
    {
     "data": {
      "image/png": "[encoded data removed]",
      "text/plain": [
       "<Figure size 432x288 with 1 Axes>"
      ]
     },
     "metadata": {
      "needs_background": "light"
     },
     "output_type": "display_data"
    },
    {
     "name": "stdout",
     "output_type": "stream",
     "text": [
      "GIN 0.04\n",
      "0.6280426985249322\n"
     ]
    },
    {
     "data": {
      "image/png": "[encoded data removed]",
      "text/plain": [
       "<Figure size 432x288 with 1 Axes>"
      ]
     },
     "metadata": {
      "needs_background": "light"
     },
     "output_type": "display_data"
    },
    {
     "name": "stdout",
     "output_type": "stream",
     "text": [
      "GIN 0.16\n",
      "0.6310219254203628\n"
     ]
    },
    {
     "data": {
      "image/png": "[encoded data removed]",
      "text/plain": [
       "<Figure size 432x288 with 1 Axes>"
      ]
     },
     "metadata": {
      "needs_background": "light"
     },
     "output_type": "display_data"
    },
    {
     "name": "stdout",
     "output_type": "stream",
     "text": [
      "GIN 0.64\n",
      "0.6294759724992866\n"
     ]
    }
   ],
   "source": [
    "for model, l2 in [(model,l2) for model in ['MLP','CNN','GraphConv','GIN'] for l2 in [0.0,0.01,0.04,0.16, 0.64] ]:\n",
    "    res = results[(results['model'] == f'\\'{model}\\'') & (results['weight_decay'] == str(l2))]['test_acc'].astype(float).to_numpy()\n",
    "    plt.hist(np.round(res,2),bins=100,range=(0,1),align='mid')\n",
    "    plt.show()\n",
    "    print(model,l2)\n",
    "    print(res.mean())"
   ]
  }
 ],
 "metadata": {
  "kernelspec": {
   "display_name": "torch",
   "language": "python",
   "name": "torch"
  },
  "language_info": {
   "codemirror_mode": {
    "name": "ipython",
    "version": 3
   },
   "file_extension": ".py",
   "mimetype": "text/x-python",
   "name": "python",
   "nbconvert_exporter": "python",
   "pygments_lexer": "ipython3",
   "version": "3.8.2"
  }
 },
 "nbformat": 4,
 "nbformat_minor": 5
}
