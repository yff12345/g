{
 "cells": [
  {
   "cell_type": "code",
   "execution_count": 1,
   "metadata": {},
   "outputs": [],
   "source": [
    "import pandas as pd\n",
    "import numpy as np\n",
    "import matplotlib.pyplot as plt\n",
    "from scipy import stats"
   ]
  },
  {
   "cell_type": "code",
   "execution_count": 2,
   "metadata": {},
   "outputs": [],
   "source": [
    "results1 = pd.read_csv('participant_id_test_1.csv')\n",
    "results2 = pd.read_csv('participant_id_test_2.csv')\n",
    "results3 = pd.read_csv('participant_id_test_3.csv')"
   ]
  },
  {
   "cell_type": "code",
   "execution_count": 4,
   "metadata": {},
   "outputs": [
    {
     "data": {
      "text/html": [
       "<div>\n",
       "<style scoped>\n",
       "    .dataframe tbody tr th:only-of-type {\n",
       "        vertical-align: middle;\n",
       "    }\n",
       "\n",
       "    .dataframe tbody tr th {\n",
       "        vertical-align: top;\n",
       "    }\n",
       "\n",
       "    .dataframe thead th {\n",
       "        text-align: right;\n",
       "    }\n",
       "</style>\n",
       "<table border=\"1\" class=\"dataframe\">\n",
       "  <thead>\n",
       "    <tr style=\"text-align: right;\">\n",
       "      <th></th>\n",
       "      <th>model</th>\n",
       "      <th>eeg_feature</th>\n",
       "      <th>remove_global_connections</th>\n",
       "      <th>remove_baseline_signal_noise_removal</th>\n",
       "      <th>number_test_targets</th>\n",
       "      <th>batch_size</th>\n",
       "      <th>hidden_channels</th>\n",
       "      <th>learning_rate</th>\n",
       "      <th>dropout_rate</th>\n",
       "      <th>mean_test_loss</th>\n",
       "      <th>test_acc</th>\n",
       "      <th>test_f1</th>\n",
       "      <th>test_prec</th>\n",
       "      <th>test_reca</th>\n",
       "      <th>test_roc</th>\n",
       "      <th>pytorch_total_params</th>\n",
       "    </tr>\n",
       "  </thead>\n",
       "  <tbody>\n",
       "    <tr>\n",
       "      <th>0</th>\n",
       "      <td>MLP</td>\n",
       "      <td>wav</td>\n",
       "      <td>False</td>\n",
       "      <td>False</td>\n",
       "      <td>10</td>\n",
       "      <td>4</td>\n",
       "      <td>16</td>\n",
       "      <td>0.0001</td>\n",
       "      <td>0.0</td>\n",
       "      <td>2.720322</td>\n",
       "      <td>0.796875</td>\n",
       "      <td>0.796875</td>\n",
       "      <td>0.796875</td>\n",
       "      <td>0.796875</td>\n",
       "      <td>-1</td>\n",
       "      <td>121180</td>\n",
       "    </tr>\n",
       "    <tr>\n",
       "      <th>1</th>\n",
       "      <td>MLP</td>\n",
       "      <td>wav</td>\n",
       "      <td>False</td>\n",
       "      <td>False</td>\n",
       "      <td>10</td>\n",
       "      <td>16</td>\n",
       "      <td>16</td>\n",
       "      <td>0.0001</td>\n",
       "      <td>0.0</td>\n",
       "      <td>2.703681</td>\n",
       "      <td>0.815625</td>\n",
       "      <td>0.815625</td>\n",
       "      <td>0.815625</td>\n",
       "      <td>0.815625</td>\n",
       "      <td>-1</td>\n",
       "      <td>121180</td>\n",
       "    </tr>\n",
       "    <tr>\n",
       "      <th>2</th>\n",
       "      <td>MLP</td>\n",
       "      <td>wav</td>\n",
       "      <td>False</td>\n",
       "      <td>False</td>\n",
       "      <td>10</td>\n",
       "      <td>4</td>\n",
       "      <td>16</td>\n",
       "      <td>0.0001</td>\n",
       "      <td>0.4</td>\n",
       "      <td>2.815027</td>\n",
       "      <td>0.790625</td>\n",
       "      <td>0.790625</td>\n",
       "      <td>0.790625</td>\n",
       "      <td>0.790625</td>\n",
       "      <td>-1</td>\n",
       "      <td>121180</td>\n",
       "    </tr>\n",
       "    <tr>\n",
       "      <th>3</th>\n",
       "      <td>MLP</td>\n",
       "      <td>wav</td>\n",
       "      <td>False</td>\n",
       "      <td>False</td>\n",
       "      <td>10</td>\n",
       "      <td>16</td>\n",
       "      <td>16</td>\n",
       "      <td>0.0001</td>\n",
       "      <td>0.4</td>\n",
       "      <td>2.728878</td>\n",
       "      <td>0.931250</td>\n",
       "      <td>0.931250</td>\n",
       "      <td>0.931250</td>\n",
       "      <td>0.931250</td>\n",
       "      <td>-1</td>\n",
       "      <td>121180</td>\n",
       "    </tr>\n",
       "    <tr>\n",
       "      <th>4</th>\n",
       "      <td>MLP</td>\n",
       "      <td>wav</td>\n",
       "      <td>False</td>\n",
       "      <td>False</td>\n",
       "      <td>10</td>\n",
       "      <td>4</td>\n",
       "      <td>16</td>\n",
       "      <td>0.0045</td>\n",
       "      <td>0.0</td>\n",
       "      <td>3.300697</td>\n",
       "      <td>0.184375</td>\n",
       "      <td>0.184375</td>\n",
       "      <td>0.184375</td>\n",
       "      <td>0.184375</td>\n",
       "      <td>-1</td>\n",
       "      <td>121180</td>\n",
       "    </tr>\n",
       "    <tr>\n",
       "      <th>...</th>\n",
       "      <td>...</td>\n",
       "      <td>...</td>\n",
       "      <td>...</td>\n",
       "      <td>...</td>\n",
       "      <td>...</td>\n",
       "      <td>...</td>\n",
       "      <td>...</td>\n",
       "      <td>...</td>\n",
       "      <td>...</td>\n",
       "      <td>...</td>\n",
       "      <td>...</td>\n",
       "      <td>...</td>\n",
       "      <td>...</td>\n",
       "      <td>...</td>\n",
       "      <td>...</td>\n",
       "      <td>...</td>\n",
       "    </tr>\n",
       "    <tr>\n",
       "      <th>643</th>\n",
       "      <td>GatedGraphConvGRU</td>\n",
       "      <td>psd</td>\n",
       "      <td>False</td>\n",
       "      <td>False</td>\n",
       "      <td>34</td>\n",
       "      <td>16</td>\n",
       "      <td>128</td>\n",
       "      <td>0.0045</td>\n",
       "      <td>0.4</td>\n",
       "      <td>3.375624</td>\n",
       "      <td>0.169118</td>\n",
       "      <td>0.169118</td>\n",
       "      <td>0.169118</td>\n",
       "      <td>0.169118</td>\n",
       "      <td>-1</td>\n",
       "      <td>846752</td>\n",
       "    </tr>\n",
       "    <tr>\n",
       "      <th>644</th>\n",
       "      <td>GatedGraphConvGRU</td>\n",
       "      <td>psd</td>\n",
       "      <td>False</td>\n",
       "      <td>False</td>\n",
       "      <td>34</td>\n",
       "      <td>4</td>\n",
       "      <td>128</td>\n",
       "      <td>0.0090</td>\n",
       "      <td>0.0</td>\n",
       "      <td>3.465442</td>\n",
       "      <td>0.029412</td>\n",
       "      <td>0.029412</td>\n",
       "      <td>0.029412</td>\n",
       "      <td>0.029412</td>\n",
       "      <td>-1</td>\n",
       "      <td>846752</td>\n",
       "    </tr>\n",
       "    <tr>\n",
       "      <th>645</th>\n",
       "      <td>GatedGraphConvGRU</td>\n",
       "      <td>psd</td>\n",
       "      <td>False</td>\n",
       "      <td>False</td>\n",
       "      <td>34</td>\n",
       "      <td>16</td>\n",
       "      <td>128</td>\n",
       "      <td>0.0090</td>\n",
       "      <td>0.0</td>\n",
       "      <td>3.430411</td>\n",
       "      <td>0.122243</td>\n",
       "      <td>0.122243</td>\n",
       "      <td>0.122243</td>\n",
       "      <td>0.122243</td>\n",
       "      <td>-1</td>\n",
       "      <td>846752</td>\n",
       "    </tr>\n",
       "    <tr>\n",
       "      <th>646</th>\n",
       "      <td>GatedGraphConvGRU</td>\n",
       "      <td>psd</td>\n",
       "      <td>False</td>\n",
       "      <td>False</td>\n",
       "      <td>34</td>\n",
       "      <td>4</td>\n",
       "      <td>128</td>\n",
       "      <td>0.0090</td>\n",
       "      <td>0.4</td>\n",
       "      <td>3.465370</td>\n",
       "      <td>0.033088</td>\n",
       "      <td>0.033088</td>\n",
       "      <td>0.033088</td>\n",
       "      <td>0.033088</td>\n",
       "      <td>-1</td>\n",
       "      <td>846752</td>\n",
       "    </tr>\n",
       "    <tr>\n",
       "      <th>647</th>\n",
       "      <td>GatedGraphConvGRU</td>\n",
       "      <td>psd</td>\n",
       "      <td>False</td>\n",
       "      <td>False</td>\n",
       "      <td>34</td>\n",
       "      <td>16</td>\n",
       "      <td>128</td>\n",
       "      <td>0.0090</td>\n",
       "      <td>0.4</td>\n",
       "      <td>3.456807</td>\n",
       "      <td>0.043199</td>\n",
       "      <td>0.043199</td>\n",
       "      <td>0.043199</td>\n",
       "      <td>0.043199</td>\n",
       "      <td>-1</td>\n",
       "      <td>846752</td>\n",
       "    </tr>\n",
       "  </tbody>\n",
       "</table>\n",
       "<p>1944 rows × 16 columns</p>\n",
       "</div>"
      ],
      "text/plain": [
       "                 model eeg_feature  remove_global_connections  \\\n",
       "0                  MLP         wav                      False   \n",
       "1                  MLP         wav                      False   \n",
       "2                  MLP         wav                      False   \n",
       "3                  MLP         wav                      False   \n",
       "4                  MLP         wav                      False   \n",
       "..                 ...         ...                        ...   \n",
       "643  GatedGraphConvGRU         psd                      False   \n",
       "644  GatedGraphConvGRU         psd                      False   \n",
       "645  GatedGraphConvGRU         psd                      False   \n",
       "646  GatedGraphConvGRU         psd                      False   \n",
       "647  GatedGraphConvGRU         psd                      False   \n",
       "\n",
       "     remove_baseline_signal_noise_removal  number_test_targets  batch_size  \\\n",
       "0                                   False                   10           4   \n",
       "1                                   False                   10          16   \n",
       "2                                   False                   10           4   \n",
       "3                                   False                   10          16   \n",
       "4                                   False                   10           4   \n",
       "..                                    ...                  ...         ...   \n",
       "643                                 False                   34          16   \n",
       "644                                 False                   34           4   \n",
       "645                                 False                   34          16   \n",
       "646                                 False                   34           4   \n",
       "647                                 False                   34          16   \n",
       "\n",
       "     hidden_channels  learning_rate  dropout_rate  mean_test_loss  test_acc  \\\n",
       "0                 16         0.0001           0.0        2.720322  0.796875   \n",
       "1                 16         0.0001           0.0        2.703681  0.815625   \n",
       "2                 16         0.0001           0.4        2.815027  0.790625   \n",
       "3                 16         0.0001           0.4        2.728878  0.931250   \n",
       "4                 16         0.0045           0.0        3.300697  0.184375   \n",
       "..               ...            ...           ...             ...       ...   \n",
       "643              128         0.0045           0.4        3.375624  0.169118   \n",
       "644              128         0.0090           0.0        3.465442  0.029412   \n",
       "645              128         0.0090           0.0        3.430411  0.122243   \n",
       "646              128         0.0090           0.4        3.465370  0.033088   \n",
       "647              128         0.0090           0.4        3.456807  0.043199   \n",
       "\n",
       "      test_f1  test_prec  test_reca  test_roc  pytorch_total_params  \n",
       "0    0.796875   0.796875   0.796875        -1                121180  \n",
       "1    0.815625   0.815625   0.815625        -1                121180  \n",
       "2    0.790625   0.790625   0.790625        -1                121180  \n",
       "3    0.931250   0.931250   0.931250        -1                121180  \n",
       "4    0.184375   0.184375   0.184375        -1                121180  \n",
       "..        ...        ...        ...       ...                   ...  \n",
       "643  0.169118   0.169118   0.169118        -1                846752  \n",
       "644  0.029412   0.029412   0.029412        -1                846752  \n",
       "645  0.122243   0.122243   0.122243        -1                846752  \n",
       "646  0.033088   0.033088   0.033088        -1                846752  \n",
       "647  0.043199   0.043199   0.043199        -1                846752  \n",
       "\n",
       "[1944 rows x 16 columns]"
      ]
     },
     "execution_count": 4,
     "metadata": {},
     "output_type": "execute_result"
    }
   ],
   "source": [
    "results = pd.concat([results1,results2,results3])\n",
    "results"
   ]
  },
  {
   "cell_type": "code",
   "execution_count": 36,
   "metadata": {},
   "outputs": [],
   "source": [
    "del results[\"remove_global_connections\"]\n",
    "del results[\"remove_baseline_signal_noise_removal\"]"
   ]
  },
  {
   "cell_type": "code",
   "execution_count": 5,
   "metadata": {},
   "outputs": [],
   "source": [
    "models = ['MLP','GCNMLP','GatedGraphConvMLP','CNN','GCNCNN','GatedGraphConvCNN','GRU','GCNGRU', 'GatedGraphConvGRU']"
   ]
  },
  {
   "cell_type": "code",
   "execution_count": 7,
   "metadata": {},
   "outputs": [
    {
     "data": {
      "image/png": "[encoded data removed]",
      "text/plain": [
       "<Figure size 432x288 with 1 Axes>"
      ]
     },
     "metadata": {
      "needs_background": "light"
     },
     "output_type": "display_data"
    },
    {
     "name": "stdout",
     "output_type": "stream",
     "text": [
      "MLP\n",
      "Ttest_indResult(statistic=13.887290987781235, pvalue=1.0968435567853897e-31)\n"
     ]
    },
    {
     "data": {
      "image/png": "[encoded data removed]",
      "text/plain": [
       "<Figure size 432x288 with 1 Axes>"
      ]
     },
     "metadata": {
      "needs_background": "light"
     },
     "output_type": "display_data"
    },
    {
     "name": "stdout",
     "output_type": "stream",
     "text": [
      "GCNMLP\n",
      "Ttest_indResult(statistic=7.8536116154174405, pvalue=1.9305597459532204e-13)\n"
     ]
    },
    {
     "data": {
      "image/png": "[encoded data removed]",
      "text/plain": [
       "<Figure size 432x288 with 1 Axes>"
      ]
     },
     "metadata": {
      "needs_background": "light"
     },
     "output_type": "display_data"
    },
    {
     "name": "stdout",
     "output_type": "stream",
     "text": [
      "GatedGraphConvMLP\n",
      "Ttest_indResult(statistic=9.223544565883145, pvalue=2.8202641514714036e-17)\n"
     ]
    },
    {
     "data": {
      "image/png": "[encoded data removed]",
      "text/plain": [
       "<Figure size 432x288 with 1 Axes>"
      ]
     },
     "metadata": {
      "needs_background": "light"
     },
     "output_type": "display_data"
    },
    {
     "name": "stdout",
     "output_type": "stream",
     "text": [
      "CNN\n",
      "Ttest_indResult(statistic=26.798825434563383, pvalue=2.5716194177364375e-70)\n"
     ]
    },
    {
     "data": {
      "image/png": "[encoded data removed]",
      "text/plain": [
       "<Figure size 432x288 with 1 Axes>"
      ]
     },
     "metadata": {
      "needs_background": "light"
     },
     "output_type": "display_data"
    },
    {
     "name": "stdout",
     "output_type": "stream",
     "text": [
      "GCNCNN\n",
      "Ttest_indResult(statistic=8.651770874554044, pvalue=1.2181846368010453e-15)\n"
     ]
    },
    {
     "data": {
      "image/png": "[encoded data removed]",
      "text/plain": [
       "<Figure size 432x288 with 1 Axes>"
      ]
     },
     "metadata": {
      "needs_background": "light"
     },
     "output_type": "display_data"
    },
    {
     "name": "stdout",
     "output_type": "stream",
     "text": [
      "GatedGraphConvCNN\n",
      "Ttest_indResult(statistic=27.440246457537945, pvalue=5.072183032364256e-72)\n"
     ]
    },
    {
     "data": {
      "image/png": "[encoded data removed]",
      "text/plain": [
       "<Figure size 432x288 with 1 Axes>"
      ]
     },
     "metadata": {
      "needs_background": "light"
     },
     "output_type": "display_data"
    },
    {
     "name": "stdout",
     "output_type": "stream",
     "text": [
      "GRU\n",
      "Ttest_indResult(statistic=1.4985391874665694, pvalue=0.13546687060608614)\n"
     ]
    },
    {
     "data": {
      "image/png": "[encoded data removed]",
      "text/plain": [
       "<Figure size 432x288 with 1 Axes>"
      ]
     },
     "metadata": {
      "needs_background": "light"
     },
     "output_type": "display_data"
    },
    {
     "name": "stdout",
     "output_type": "stream",
     "text": [
      "GCNGRU\n",
      "Ttest_indResult(statistic=2.591899884587411, pvalue=0.010202124887842846)\n"
     ]
    },
    {
     "data": {
      "image/png": "[encoded data removed]",
      "text/plain": [
       "<Figure size 432x288 with 1 Axes>"
      ]
     },
     "metadata": {
      "needs_background": "light"
     },
     "output_type": "display_data"
    },
    {
     "name": "stdout",
     "output_type": "stream",
     "text": [
      "GatedGraphConvGRU\n",
      "Ttest_indResult(statistic=1.5877046332891962, pvalue=0.11382953165754175)\n"
     ]
    }
   ],
   "source": [
    "for model_name in models:\n",
    "    wav_results = results[(results[\"model\"] == model_name) & (results[\"eeg_feature\"] == 'wav')]\n",
    "    wav_results_acc = wav_results.test_acc.to_numpy()\n",
    "\n",
    "    psd_results = results[(results[\"model\"] == model_name) & (results[\"eeg_feature\"] == 'psd')]\n",
    "    psd_results_acc = psd_results.test_acc.to_numpy()\n",
    "    \n",
    "    plt.bar(np.arange(0,len(wav_results_acc)), wav_results_acc)\n",
    "    plt.bar(np.arange(len(psd_results_acc), 2* len(psd_results_acc)), psd_results_acc)\n",
    "    plt.show()\n",
    "    \n",
    "    print(model_name)\n",
    "    print(stats.ttest_ind(wav_results_acc,psd_results_acc))"
   ]
  },
  {
   "cell_type": "code",
   "execution_count": 15,
   "metadata": {},
   "outputs": [
    {
     "data": {
      "image/png": "[encoded data removed]",
      "text/plain": [
       "<Figure size 432x288 with 1 Axes>"
      ]
     },
     "metadata": {
      "needs_background": "light"
     },
     "output_type": "display_data"
    },
    {
     "name": "stdout",
     "output_type": "stream",
     "text": [
      "Ttest_indResult(statistic=25.28747072915297, pvalue=2.757205732641998e-121)\n"
     ]
    }
   ],
   "source": [
    "wav_results = results[results[\"eeg_feature\"] == 'wav']\n",
    "wav_results_acc = wav_results.test_acc.to_numpy()\n",
    "\n",
    "psd_results = results[results[\"eeg_feature\"] == 'psd']\n",
    "psd_results_acc = psd_results.test_acc.to_numpy()\n",
    "\n",
    "plt.bar(np.arange(0,len(wav_results_acc)), wav_results_acc)\n",
    "plt.bar(np.arange(len(psd_results_acc), 2* len(psd_results_acc)), psd_results_acc)\n",
    "plt.show()\n",
    "\n",
    "print(stats.ttest_ind(wav_results_acc,psd_results_acc))"
   ]
  },
  {
   "cell_type": "code",
   "execution_count": 25,
   "metadata": {
    "scrolled": false
   },
   "outputs": [
    {
     "name": "stdout",
     "output_type": "stream",
     "text": [
      "GraphConv\n",
      "Mean test accuracy (Overall): 0.45470924866860324\n",
      "Mean test accuracy (WE): 0.6103239984265311\n",
      "Mean test accuracy (PSD): 0.29909449891067535\n",
      "Max test accuracy (Overall): 0.9989583333333332\n",
      "Max test accuracy (WE): 0.9989583333333332\n",
      "Max test accuracy (PSD): 0.996875\n"
     ]
    },
    {
     "data": {
      "image/png": "[encoded data removed]",
      "text/plain": [
       "<Figure size 432x288 with 1 Axes>"
      ]
     },
     "metadata": {
      "needs_background": "light"
     },
     "output_type": "display_data"
    },
    {
     "name": "stdout",
     "output_type": "stream",
     "text": [
      "Ttest_indResult(statistic=9.006421131920511, pvalue=1.911149233487646e-17)\n",
      "GatedGraphConv\n",
      "Mean test accuracy (Overall): 0.5178836465141612\n",
      "Mean test accuracy (WE): 0.9104705655410312\n",
      "Mean test accuracy (PSD): 0.1252967274872912\n",
      "Max test accuracy (Overall): 0.9989583333333332\n",
      "Max test accuracy (WE): 0.9989583333333332\n",
      "Max test accuracy (PSD): 0.709375\n"
     ]
    },
    {
     "data": {
      "image/png": "[encoded data removed]",
      "text/plain": [
       "<Figure size 432x288 with 1 Axes>"
      ]
     },
     "metadata": {
      "needs_background": "light"
     },
     "output_type": "display_data"
    },
    {
     "name": "stdout",
     "output_type": "stream",
     "text": [
      "Ttest_indResult(statistic=39.01899084840211, pvalue=2.9789645906960228e-99)\n",
      "GCN\n",
      "Mean test accuracy (Overall): 0.4622581169813603\n",
      "Mean test accuracy (WE): 0.6245620007262164\n",
      "Mean test accuracy (PSD): 0.29995423323650444\n",
      "Max test accuracy (Overall): 0.996875\n",
      "Max test accuracy (WE): 0.996875\n",
      "Max test accuracy (PSD): 0.9125\n"
     ]
    },
    {
     "data": {
      "image/png": "[encoded data removed]",
      "text/plain": [
       "<Figure size 432x288 with 1 Axes>"
      ]
     },
     "metadata": {
      "needs_background": "light"
     },
     "output_type": "display_data"
    },
    {
     "name": "stdout",
     "output_type": "stream",
     "text": [
      "Ttest_indResult(statistic=10.492162301595839, pvalue=2.3924232662745333e-22)\n",
      "MLP\n",
      "Mean test accuracy (Overall): 0.22780690208182033\n",
      "Mean test accuracy (WE): 0.41001800411522626\n",
      "Mean test accuracy (PSD): 0.045595800048414424\n",
      "Max test accuracy (Overall): 1.0\n",
      "Max test accuracy (WE): 1.0\n",
      "Max test accuracy (PSD): 0.278125\n"
     ]
    },
    {
     "data": {
      "image/png": "[encoded data removed]",
      "text/plain": [
       "<Figure size 432x288 with 1 Axes>"
      ]
     },
     "metadata": {
      "needs_background": "light"
     },
     "output_type": "display_data"
    },
    {
     "name": "stdout",
     "output_type": "stream",
     "text": [
      "Ttest_indResult(statistic=11.405446376189014, pvalue=1.5466688153988552e-25)\n",
      "CNN\n",
      "Mean test accuracy (Overall): 0.5429659132171387\n",
      "Mean test accuracy (WE): 0.9182480785524085\n",
      "Mean test accuracy (PSD): 0.16768374788186877\n",
      "Max test accuracy (Overall): 1.0\n",
      "Max test accuracy (WE): 1.0\n",
      "Max test accuracy (PSD): 0.909375\n"
     ]
    },
    {
     "data": {
      "image/png": "[encoded data removed]",
      "text/plain": [
       "<Figure size 432x288 with 1 Axes>"
      ]
     },
     "metadata": {
      "needs_background": "light"
     },
     "output_type": "display_data"
    },
    {
     "name": "stdout",
     "output_type": "stream",
     "text": [
      "Ttest_indResult(statistic=39.8617137406567, pvalue=1.4821755788511467e-126)\n",
      "GRU\n",
      "Mean test accuracy (Overall): 0.7604819126724763\n",
      "Mean test accuracy (WE): 0.7513056765916243\n",
      "Mean test accuracy (PSD): 0.7696581487533285\n",
      "Max test accuracy (Overall): 1.0\n",
      "Max test accuracy (WE): 1.0\n",
      "Max test accuracy (PSD): 1.0\n"
     ]
    },
    {
     "data": {
      "image/png": "[encoded data removed]",
      "text/plain": [
       "<Figure size 432x288 with 1 Axes>"
      ]
     },
     "metadata": {
      "needs_background": "light"
     },
     "output_type": "display_data"
    },
    {
     "name": "stdout",
     "output_type": "stream",
     "text": [
      "Ttest_indResult(statistic=-0.5328430251443925, pvalue=0.5945097782797021)\n"
     ]
    }
   ],
   "source": [
    "for model_name in models:\n",
    "    print(model_name)\n",
    "    \n",
    "    model_results = results[results[\"model\"] == model_name]\n",
    "    model_results_acc = model_results.test_acc.to_numpy()\n",
    "    \n",
    "    wav_results = results[(results[\"model\"] == model_name) & (results[\"eeg_feature\"] == 'wav')]\n",
    "    wav_results_acc = wav_results.test_acc.to_numpy()\n",
    "\n",
    "    psd_results = results[(results[\"model\"] == model_name) & (results[\"eeg_feature\"] == 'psd')]\n",
    "    psd_results_acc = psd_results.test_acc.to_numpy()\n",
    "    \n",
    "    print(f'Mean test accuracy (Overall): {model_results_acc.mean()}')    \n",
    "    print(f'Mean test accuracy (WE): {wav_results_acc.mean()}')   \n",
    "    print(f'Mean test accuracy (PSD): {psd_results_acc.mean()}')   \n",
    "    print(f'Max test accuracy (Overall): {model_results_acc.max()}')    \n",
    "    print(f'Max test accuracy (WE): {wav_results_acc.max()}')   \n",
    "    print(f'Max test accuracy (PSD): {psd_results_acc.max()}')   \n",
    "    \n",
    "    \n",
    "    \n",
    "    plt.bar(np.arange(0,len(wav_results_acc)), wav_results_acc)\n",
    "    plt.bar(np.arange(len(psd_results_acc), 2* len(psd_results_acc)), psd_results_acc)\n",
    "    plt.show()\n",
    "    \n",
    "    print(stats.ttest_ind(wav_results_acc,psd_results_acc))\n",
    "    \n",
    "#     print(stats.ttest_ind(wav_results_acc,psd_results_acc))"
   ]
  },
  {
   "cell_type": "code",
   "execution_count": 28,
   "metadata": {},
   "outputs": [
    {
     "name": "stdout",
     "output_type": "stream",
     "text": [
      "GraphConv\n",
      "[  9005   9072  97325  97584 358445 358960]\n",
      "GatedGraphConv\n",
      "[ 98797  98800 394157 394160]\n",
      "GCN\n",
      "[  6605   6640  81581  81712 310573 310832]\n",
      "MLP\n",
      "[ 486544  617616 1976800 2501088 4035488 5084064]\n",
      "CNN\n",
      "[ 15421  15424  61549  61552 123053 123056]\n",
      "GRU\n",
      "[ 17712  22000 193632 241504 714912 892576]\n"
     ]
    }
   ],
   "source": [
    "for model_name in models:\n",
    "    print(model_name)\n",
    "    \n",
    "    model_results = results[results[\"model\"] == model_name]\n",
    "    model_results_params = model_results.pytorch_total_params.to_numpy()\n",
    "    \n",
    "    print(np.unique(model_results_params))\n",
    "    \n",
    "    \n",
    "#     print(stats.ttest_ind(wav_results_acc,psd_results_acc))"
   ]
  },
  {
   "cell_type": "code",
   "execution_count": 30,
   "metadata": {
    "scrolled": false
   },
   "outputs": [
    {
     "name": "stdout",
     "output_type": "stream",
     "text": [
      "GraphConv\n",
      "Mean test accuracy (Overall): 0.45470924866860324\n",
      "Mean test accuracy (WE): 0.572831563180828\n",
      "Mean test accuracy (PSD): 0.20353349673202606\n",
      "Max test accuracy (Overall): 0.9989583333333332\n",
      "Max test accuracy (WE): 0.96875\n",
      "Max test accuracy (PSD): 0.5625\n"
     ]
    },
    {
     "data": {
      "image/png": "[encoded data removed]",
      "text/plain": [
       "<Figure size 432x288 with 1 Axes>"
      ]
     },
     "metadata": {
      "needs_background": "light"
     },
     "output_type": "display_data"
    },
    {
     "name": "stdout",
     "output_type": "stream",
     "text": [
      "Ttest_indResult(statistic=9.013195087810914, pvalue=9.307829017006315e-15)\n",
      "GatedGraphConv\n",
      "Mean test accuracy (Overall): 0.5178836465141612\n",
      "Mean test accuracy (WE): 0.907858455882353\n",
      "Mean test accuracy (PSD): 0.07947814542483657\n",
      "Max test accuracy (Overall): 0.9989583333333332\n",
      "Max test accuracy (WE): 0.9944852941176472\n",
      "Max test accuracy (PSD): 0.3612132352941176\n"
     ]
    },
    {
     "data": {
      "image/png": "[encoded data removed]",
      "text/plain": [
       "<Figure size 432x288 with 1 Axes>"
      ]
     },
     "metadata": {
      "needs_background": "light"
     },
     "output_type": "display_data"
    },
    {
     "name": "stdout",
     "output_type": "stream",
     "text": [
      "Ttest_indResult(statistic=27.759684889500143, pvalue=1.6367221838037613e-39)\n",
      "GCN\n",
      "Mean test accuracy (Overall): 0.4622581169813603\n",
      "Mean test accuracy (WE): 0.6119961873638345\n",
      "Mean test accuracy (PSD): 0.19764433551198252\n",
      "Max test accuracy (Overall): 0.996875\n",
      "Max test accuracy (WE): 0.9053308823529412\n",
      "Max test accuracy (PSD): 0.4466911764705882\n"
     ]
    },
    {
     "data": {
      "image/png": "[encoded data removed]",
      "text/plain": [
       "<Figure size 432x288 with 1 Axes>"
      ]
     },
     "metadata": {
      "needs_background": "light"
     },
     "output_type": "display_data"
    },
    {
     "name": "stdout",
     "output_type": "stream",
     "text": [
      "Ttest_indResult(statistic=11.241155674846247, pvalue=8.943925774709193e-20)\n",
      "MLP\n",
      "Mean test accuracy (Overall): 0.22780690208182033\n",
      "Mean test accuracy (WE): 0.4386574074074074\n",
      "Mean test accuracy (PSD): 0.04440699891067537\n",
      "Max test accuracy (Overall): 1.0\n",
      "Max test accuracy (WE): 0.9954044117647058\n",
      "Max test accuracy (PSD): 0.1369485294117647\n"
     ]
    },
    {
     "data": {
      "image/png": "[encoded data removed]",
      "text/plain": [
       "<Figure size 432x288 with 1 Axes>"
      ]
     },
     "metadata": {
      "needs_background": "light"
     },
     "output_type": "display_data"
    },
    {
     "name": "stdout",
     "output_type": "stream",
     "text": [
      "Ttest_indResult(statistic=7.3246332936793, pvalue=4.905306896203641e-11)\n",
      "CNN\n",
      "Mean test accuracy (Overall): 0.5429659132171387\n",
      "Mean test accuracy (WE): 0.9367851307189542\n",
      "Mean test accuracy (PSD): 0.08055895969498905\n",
      "Max test accuracy (Overall): 1.0\n",
      "Max test accuracy (WE): 0.9990808823529412\n",
      "Max test accuracy (PSD): 0.2876838235294117\n"
     ]
    },
    {
     "data": {
      "image/png": "[encoded data removed]",
      "text/plain": [
       "<Figure size 432x288 with 1 Axes>"
      ]
     },
     "metadata": {
      "needs_background": "light"
     },
     "output_type": "display_data"
    },
    {
     "name": "stdout",
     "output_type": "stream",
     "text": [
      "Ttest_indResult(statistic=55.214809250181474, pvalue=6.19668635650586e-80)\n",
      "GRU\n",
      "Mean test accuracy (Overall): 0.7604819126724763\n",
      "Mean test accuracy (WE): 0.7405875544662308\n",
      "Mean test accuracy (PSD): 0.822882625272331\n",
      "Max test accuracy (Overall): 1.0\n",
      "Max test accuracy (WE): 0.9512867647058824\n",
      "Max test accuracy (PSD): 0.9990808823529412\n"
     ]
    },
    {
     "data": {
      "image/png": "[encoded data removed]",
      "text/plain": [
       "<Figure size 432x288 with 1 Axes>"
      ]
     },
     "metadata": {
      "needs_background": "light"
     },
     "output_type": "display_data"
    },
    {
     "name": "stdout",
     "output_type": "stream",
     "text": [
      "Ttest_indResult(statistic=-1.8427310406512039, pvalue=0.06816286248200001)\n"
     ]
    }
   ],
   "source": [
    "for model_name in models:\n",
    "    print(model_name)\n",
    "    \n",
    "    model_results = results[results[\"model\"] == model_name]\n",
    "    model_results_acc = model_results.test_acc.to_numpy()\n",
    "    \n",
    "    wav_results = results[(results[\"model\"] == model_name) & (results[\"eeg_feature\"] == 'wav') & (results[\"number_test_targets\"] == 34)]\n",
    "    wav_results_acc = wav_results.test_acc.to_numpy()\n",
    "\n",
    "    psd_results = results[(results[\"model\"] == model_name) & (results[\"eeg_feature\"] == 'psd') & (results[\"number_test_targets\"] == 34)]\n",
    "    psd_results_acc = psd_results.test_acc.to_numpy()\n",
    "    \n",
    "    print(f'Mean test accuracy (Overall): {model_results_acc.mean()}')    \n",
    "    print(f'Mean test accuracy (WE): {wav_results_acc.mean()}')   \n",
    "    print(f'Mean test accuracy (PSD): {psd_results_acc.mean()}')   \n",
    "    print(f'Max test accuracy (Overall): {model_results_acc.max()}')    \n",
    "    print(f'Max test accuracy (WE): {wav_results_acc.max()}')   \n",
    "    print(f'Max test accuracy (PSD): {psd_results_acc.max()}')   \n",
    "    \n",
    "    \n",
    "    \n",
    "    plt.bar(np.arange(0,len(wav_results_acc)), wav_results_acc)\n",
    "    plt.bar(np.arange(len(psd_results_acc), 2* len(psd_results_acc)), psd_results_acc)\n",
    "    plt.show()\n",
    "    \n",
    "    print(stats.ttest_ind(wav_results_acc,psd_results_acc))\n",
    "    \n",
    "#     print(stats.ttest_ind(wav_results_acc,psd_results_acc))"
   ]
  },
  {
   "cell_type": "code",
   "execution_count": 47,
   "metadata": {
    "scrolled": false
   },
   "outputs": [
    {
     "name": "stdout",
     "output_type": "stream",
     "text": [
      "GraphConv\n",
      "Mean test accuracy (16 hidden channels): 0.5416076615831519\n",
      "> 95% test accuracy (16 hidden channels): 10\n",
      "Mean test accuracy (64 hidden channels): 0.4751157407407406\n",
      "> 95% test accuracy (64 hidden channels): 17\n",
      "Mean test accuracy (128 hidden channels): 0.34740434368191725\n",
      "> 95% test accuracy (128 hidden channels): 18\n"
     ]
    },
    {
     "data": {
      "image/png": "[encoded data removed]",
      "text/plain": [
       "<Figure size 432x288 with 1 Axes>"
      ]
     },
     "metadata": {
      "needs_background": "light"
     },
     "output_type": "display_data"
    },
    {
     "name": "stdout",
     "output_type": "stream",
     "text": [
      "GatedGraphConv\n",
      "Mean test accuracy (64 hidden channels): 0.517771309912854\n",
      "> 95% test accuracy (64 hidden channels): 30\n",
      "Mean test accuracy (128 hidden channels): 0.5179959831154685\n",
      "> 95% test accuracy (128 hidden channels): 30\n"
     ]
    },
    {
     "data": {
      "image/png": "[encoded data removed]",
      "text/plain": [
       "<Figure size 432x288 with 1 Axes>"
      ]
     },
     "metadata": {
      "needs_background": "light"
     },
     "output_type": "display_data"
    },
    {
     "name": "stdout",
     "output_type": "stream",
     "text": [
      "GCN\n",
      "Mean test accuracy (16 hidden channels): 0.563719816630356\n",
      "> 95% test accuracy (16 hidden channels): 3\n",
      "Mean test accuracy (64 hidden channels): 0.4764115831517792\n",
      "> 95% test accuracy (64 hidden channels): 7\n",
      "Mean test accuracy (128 hidden channels): 0.3466429511619462\n",
      "> 95% test accuracy (128 hidden channels): 11\n"
     ]
    },
    {
     "data": {
      "image/png": "[encoded data removed]",
      "text/plain": [
       "<Figure size 432x288 with 1 Axes>"
      ]
     },
     "metadata": {
      "needs_background": "light"
     },
     "output_type": "display_data"
    },
    {
     "name": "stdout",
     "output_type": "stream",
     "text": [
      "MLP\n",
      "Mean test accuracy (16 hidden channels): 0.2707255355846042\n",
      "> 95% test accuracy (16 hidden channels): 2\n",
      "Mean test accuracy (64 hidden channels): 0.216757443718228\n",
      "> 95% test accuracy (64 hidden channels): 12\n",
      "Mean test accuracy (128 hidden channels): 0.1959377269426289\n",
      "> 95% test accuracy (128 hidden channels): 18\n"
     ]
    },
    {
     "data": {
      "image/png": "[encoded data removed]",
      "text/plain": [
       "<Figure size 432x288 with 1 Axes>"
      ]
     },
     "metadata": {
      "needs_background": "light"
     },
     "output_type": "display_data"
    },
    {
     "name": "stdout",
     "output_type": "stream",
     "text": [
      "CNN\n",
      "Mean test accuracy (16 hidden channels): 0.5488068491285402\n",
      "> 95% test accuracy (16 hidden channels): 24\n",
      "Mean test accuracy (64 hidden channels): 0.5502433959694989\n",
      "> 95% test accuracy (64 hidden channels): 36\n",
      "Mean test accuracy (128 hidden channels): 0.5298474945533769\n",
      "> 95% test accuracy (128 hidden channels): 36\n"
     ]
    },
    {
     "data": {
      "image/png": "[encoded data removed]",
      "text/plain": [
       "<Figure size 432x288 with 1 Axes>"
      ]
     },
     "metadata": {
      "needs_background": "light"
     },
     "output_type": "display_data"
    },
    {
     "name": "stdout",
     "output_type": "stream",
     "text": [
      "GRU\n",
      "Mean test accuracy (16 hidden channels): 0.8755560094408134\n",
      "> 95% test accuracy (16 hidden channels): 42\n",
      "Mean test accuracy (64 hidden channels): 0.7856050290486566\n",
      "> 95% test accuracy (64 hidden channels): 46\n",
      "Mean test accuracy (128 hidden channels): 0.6202846995279593\n",
      "> 95% test accuracy (128 hidden channels): 38\n"
     ]
    },
    {
     "data": {
      "image/png": "[encoded data removed]",
      "text/plain": [
       "<Figure size 432x288 with 1 Axes>"
      ]
     },
     "metadata": {
      "needs_background": "light"
     },
     "output_type": "display_data"
    }
   ],
   "source": [
    "hidden_channels = [16, 64 ,128]\n",
    "for model_name in models:\n",
    "    print(model_name)\n",
    "    idx = 0 \n",
    "    for hc in hidden_channels:\n",
    "    \n",
    "        hc_results = results[(results[\"model\"] == model_name) & (results[\"hidden_channels\"] == hc)]\n",
    "        hc_results_acc = hc_results.test_acc.to_numpy()\n",
    "        if len(hc_results_acc) != 0:\n",
    "            print(f'Mean test accuracy ({hc} hidden channels): {hc_results_acc.mean()}')  \n",
    "            print(f'> 95% test accuracy ({hc} hidden channels): {(hc_results_acc > 0.95).sum()}') \n",
    "            plt.bar(np.arange(idx,idx+len(hc_results_acc)), hc_results_acc)\n",
    "            idx += len(hc_results_acc)\n",
    "    plt.show()\n",
    "\n",
    "#     psd_results = results[(results[\"model\"] == model_name) & (results[\"eeg_feature\"] == 'psd') & (results[\"number_test_targets\"] == 34)]\n",
    "#     psd_results_acc = psd_results.test_acc.to_numpy()\n",
    "    \n",
    "      \n",
    "#     print(f'Mean test accuracy (WE): {wav_results_acc.mean()}')   \n",
    "#     print(f'Mean test accuracy (PSD): {psd_results_acc.mean()}')   \n",
    "#     print(f'Max test accuracy (Overall): {model_results_acc.max()}')    \n",
    "#     print(f'Max test accuracy (WE): {wav_results_acc.max()}')   \n",
    "#     print(f'Max test accuracy (PSD): {psd_results_acc.max()}')   \n",
    "    \n",
    "    \n",
    "    \n",
    "#     \n",
    "#     plt.bar(np.arange(len(psd_results_acc), 2* len(psd_results_acc)), psd_results_acc)\n",
    "#     plt.show()\n",
    "    \n",
    "#     print(stats.ttest_ind(wav_results_acc,psd_results_acc))"
   ]
  },
  {
   "cell_type": "code",
   "execution_count": 21,
   "metadata": {
    "scrolled": true
   },
   "outputs": [
    {
     "data": {
      "text/html": [
       "<div>\n",
       "<style scoped>\n",
       "    .dataframe tbody tr th:only-of-type {\n",
       "        vertical-align: middle;\n",
       "    }\n",
       "\n",
       "    .dataframe tbody tr th {\n",
       "        vertical-align: top;\n",
       "    }\n",
       "\n",
       "    .dataframe thead th {\n",
       "        text-align: right;\n",
       "    }\n",
       "</style>\n",
       "<table border=\"1\" class=\"dataframe\">\n",
       "  <thead>\n",
       "    <tr style=\"text-align: right;\">\n",
       "      <th></th>\n",
       "      <th>model</th>\n",
       "      <th>eeg_feature</th>\n",
       "      <th>number_test_targets</th>\n",
       "      <th>batch_size</th>\n",
       "      <th>hidden_channels</th>\n",
       "      <th>learning_rate</th>\n",
       "      <th>dropout_rate</th>\n",
       "      <th>mean_test_loss</th>\n",
       "      <th>test_acc</th>\n",
       "      <th>test_f1</th>\n",
       "      <th>test_prec</th>\n",
       "      <th>test_reca</th>\n",
       "      <th>test_roc</th>\n",
       "      <th>pytorch_total_params</th>\n",
       "    </tr>\n",
       "  </thead>\n",
       "  <tbody>\n",
       "    <tr>\n",
       "      <th>0</th>\n",
       "      <td>GraphConv</td>\n",
       "      <td>wav</td>\n",
       "      <td>10</td>\n",
       "      <td>4</td>\n",
       "      <td>16</td>\n",
       "      <td>0.0001</td>\n",
       "      <td>0.0</td>\n",
       "      <td>2.552126</td>\n",
       "      <td>0.965625</td>\n",
       "      <td>0.965625</td>\n",
       "      <td>0.965625</td>\n",
       "      <td>0.965625</td>\n",
       "      <td>0.998306</td>\n",
       "      <td>9005</td>\n",
       "    </tr>\n",
       "    <tr>\n",
       "      <th>1</th>\n",
       "      <td>GraphConv</td>\n",
       "      <td>wav</td>\n",
       "      <td>10</td>\n",
       "      <td>16</td>\n",
       "      <td>16</td>\n",
       "      <td>0.0001</td>\n",
       "      <td>0.0</td>\n",
       "      <td>2.522591</td>\n",
       "      <td>0.996875</td>\n",
       "      <td>0.996875</td>\n",
       "      <td>0.996875</td>\n",
       "      <td>0.996875</td>\n",
       "      <td>0.999990</td>\n",
       "      <td>9005</td>\n",
       "    </tr>\n",
       "    <tr>\n",
       "      <th>2</th>\n",
       "      <td>GraphConv</td>\n",
       "      <td>wav</td>\n",
       "      <td>10</td>\n",
       "      <td>4</td>\n",
       "      <td>16</td>\n",
       "      <td>0.0001</td>\n",
       "      <td>0.2</td>\n",
       "      <td>2.552032</td>\n",
       "      <td>0.965625</td>\n",
       "      <td>0.965625</td>\n",
       "      <td>0.965625</td>\n",
       "      <td>0.965625</td>\n",
       "      <td>0.999486</td>\n",
       "      <td>9005</td>\n",
       "    </tr>\n",
       "    <tr>\n",
       "      <th>3</th>\n",
       "      <td>GraphConv</td>\n",
       "      <td>wav</td>\n",
       "      <td>10</td>\n",
       "      <td>16</td>\n",
       "      <td>16</td>\n",
       "      <td>0.0001</td>\n",
       "      <td>0.2</td>\n",
       "      <td>2.551805</td>\n",
       "      <td>0.965625</td>\n",
       "      <td>0.965625</td>\n",
       "      <td>0.965625</td>\n",
       "      <td>0.965625</td>\n",
       "      <td>0.999980</td>\n",
       "      <td>9005</td>\n",
       "    </tr>\n",
       "    <tr>\n",
       "      <th>4</th>\n",
       "      <td>GraphConv</td>\n",
       "      <td>wav</td>\n",
       "      <td>10</td>\n",
       "      <td>4</td>\n",
       "      <td>16</td>\n",
       "      <td>0.0001</td>\n",
       "      <td>0.4</td>\n",
       "      <td>2.613653</td>\n",
       "      <td>0.903125</td>\n",
       "      <td>0.903125</td>\n",
       "      <td>0.903125</td>\n",
       "      <td>0.903125</td>\n",
       "      <td>0.987097</td>\n",
       "      <td>9005</td>\n",
       "    </tr>\n",
       "    <tr>\n",
       "      <th>...</th>\n",
       "      <td>...</td>\n",
       "      <td>...</td>\n",
       "      <td>...</td>\n",
       "      <td>...</td>\n",
       "      <td>...</td>\n",
       "      <td>...</td>\n",
       "      <td>...</td>\n",
       "      <td>...</td>\n",
       "      <td>...</td>\n",
       "      <td>...</td>\n",
       "      <td>...</td>\n",
       "      <td>...</td>\n",
       "      <td>...</td>\n",
       "      <td>...</td>\n",
       "    </tr>\n",
       "    <tr>\n",
       "      <th>967</th>\n",
       "      <td>GRU</td>\n",
       "      <td>psd</td>\n",
       "      <td>34</td>\n",
       "      <td>16</td>\n",
       "      <td>128</td>\n",
       "      <td>0.0090</td>\n",
       "      <td>0.0</td>\n",
       "      <td>2.726481</td>\n",
       "      <td>0.799632</td>\n",
       "      <td>0.799632</td>\n",
       "      <td>0.799632</td>\n",
       "      <td>0.799632</td>\n",
       "      <td>0.986741</td>\n",
       "      <td>892576</td>\n",
       "    </tr>\n",
       "    <tr>\n",
       "      <th>968</th>\n",
       "      <td>GRU</td>\n",
       "      <td>psd</td>\n",
       "      <td>34</td>\n",
       "      <td>4</td>\n",
       "      <td>128</td>\n",
       "      <td>0.0090</td>\n",
       "      <td>0.2</td>\n",
       "      <td>3.386927</td>\n",
       "      <td>0.111213</td>\n",
       "      <td>0.111213</td>\n",
       "      <td>0.111213</td>\n",
       "      <td>0.111213</td>\n",
       "      <td>0.695825</td>\n",
       "      <td>892576</td>\n",
       "    </tr>\n",
       "    <tr>\n",
       "      <th>969</th>\n",
       "      <td>GRU</td>\n",
       "      <td>psd</td>\n",
       "      <td>34</td>\n",
       "      <td>16</td>\n",
       "      <td>128</td>\n",
       "      <td>0.0090</td>\n",
       "      <td>0.2</td>\n",
       "      <td>2.664758</td>\n",
       "      <td>0.858456</td>\n",
       "      <td>0.858456</td>\n",
       "      <td>0.858456</td>\n",
       "      <td>0.858456</td>\n",
       "      <td>0.992802</td>\n",
       "      <td>892576</td>\n",
       "    </tr>\n",
       "    <tr>\n",
       "      <th>970</th>\n",
       "      <td>GRU</td>\n",
       "      <td>psd</td>\n",
       "      <td>34</td>\n",
       "      <td>4</td>\n",
       "      <td>128</td>\n",
       "      <td>0.0090</td>\n",
       "      <td>0.4</td>\n",
       "      <td>3.440629</td>\n",
       "      <td>0.097426</td>\n",
       "      <td>0.097426</td>\n",
       "      <td>0.097426</td>\n",
       "      <td>0.097426</td>\n",
       "      <td>0.607034</td>\n",
       "      <td>892576</td>\n",
       "    </tr>\n",
       "    <tr>\n",
       "      <th>971</th>\n",
       "      <td>GRU</td>\n",
       "      <td>psd</td>\n",
       "      <td>34</td>\n",
       "      <td>16</td>\n",
       "      <td>128</td>\n",
       "      <td>0.0090</td>\n",
       "      <td>0.4</td>\n",
       "      <td>2.647964</td>\n",
       "      <td>0.878676</td>\n",
       "      <td>0.878676</td>\n",
       "      <td>0.878676</td>\n",
       "      <td>0.878676</td>\n",
       "      <td>0.996261</td>\n",
       "      <td>892576</td>\n",
       "    </tr>\n",
       "  </tbody>\n",
       "</table>\n",
       "<p>1836 rows × 14 columns</p>\n",
       "</div>"
      ],
      "text/plain": [
       "         model eeg_feature  number_test_targets  batch_size  hidden_channels  \\\n",
       "0    GraphConv         wav                   10           4               16   \n",
       "1    GraphConv         wav                   10          16               16   \n",
       "2    GraphConv         wav                   10           4               16   \n",
       "3    GraphConv         wav                   10          16               16   \n",
       "4    GraphConv         wav                   10           4               16   \n",
       "..         ...         ...                  ...         ...              ...   \n",
       "967        GRU         psd                   34          16              128   \n",
       "968        GRU         psd                   34           4              128   \n",
       "969        GRU         psd                   34          16              128   \n",
       "970        GRU         psd                   34           4              128   \n",
       "971        GRU         psd                   34          16              128   \n",
       "\n",
       "     learning_rate  dropout_rate  mean_test_loss  test_acc   test_f1  \\\n",
       "0           0.0001           0.0        2.552126  0.965625  0.965625   \n",
       "1           0.0001           0.0        2.522591  0.996875  0.996875   \n",
       "2           0.0001           0.2        2.552032  0.965625  0.965625   \n",
       "3           0.0001           0.2        2.551805  0.965625  0.965625   \n",
       "4           0.0001           0.4        2.613653  0.903125  0.903125   \n",
       "..             ...           ...             ...       ...       ...   \n",
       "967         0.0090           0.0        2.726481  0.799632  0.799632   \n",
       "968         0.0090           0.2        3.386927  0.111213  0.111213   \n",
       "969         0.0090           0.2        2.664758  0.858456  0.858456   \n",
       "970         0.0090           0.4        3.440629  0.097426  0.097426   \n",
       "971         0.0090           0.4        2.647964  0.878676  0.878676   \n",
       "\n",
       "     test_prec  test_reca  test_roc  pytorch_total_params  \n",
       "0     0.965625   0.965625  0.998306                  9005  \n",
       "1     0.996875   0.996875  0.999990                  9005  \n",
       "2     0.965625   0.965625  0.999486                  9005  \n",
       "3     0.965625   0.965625  0.999980                  9005  \n",
       "4     0.903125   0.903125  0.987097                  9005  \n",
       "..         ...        ...       ...                   ...  \n",
       "967   0.799632   0.799632  0.986741                892576  \n",
       "968   0.111213   0.111213  0.695825                892576  \n",
       "969   0.858456   0.858456  0.992802                892576  \n",
       "970   0.097426   0.097426  0.607034                892576  \n",
       "971   0.878676   0.878676  0.996261                892576  \n",
       "\n",
       "[1836 rows x 14 columns]"
      ]
     },
     "execution_count": 21,
     "metadata": {},
     "output_type": "execute_result"
    }
   ],
   "source": [
    "results"
   ]
  },
  {
   "cell_type": "code",
   "execution_count": 109,
   "metadata": {},
   "outputs": [],
   "source": [
    "f1 = open(\"test1_log.txt\", \"r\")\n",
    "f2 = open(\"test2_log.txt\", \"r\")\n",
    "\n",
    "lines = f1.readlines()\n",
    "lines2 = f2.readlines()\n",
    "\n",
    "lines.extend(lines2)\n",
    "\n",
    "next_is_log = False\n",
    "times = {}\n",
    "for line in lines:\n",
    "#     print(line)\n",
    "    if next_is_log:\n",
    "        next_is_log = False\n",
    "        time = float(line.split('Training time (s): ')[1].split('n')[0][:-1])\n",
    "#         print(time)\n",
    "        if model in times.keys():\n",
    "            times[model].append(time)\n",
    "        else:\n",
    "            times[model] = [time]\n",
    "    elif \"-hc 64\" in line or \"-hc 128\" in line:\n",
    "        model = line.split('-m ')[1].split(' ')[0]\n",
    "#         print(model)\n",
    "        next_is_log = True"
   ]
  },
  {
   "cell_type": "code",
   "execution_count": 116,
   "metadata": {
    "scrolled": true
   },
   "outputs": [
    {
     "name": "stdout",
     "output_type": "stream",
     "text": [
      "GraphConv 33.42\n",
      "GatedGraphConv 29.56\n",
      "GCN 59.15\n",
      "MLP 11.40\n",
      "CNN 26.34\n",
      "GRU 85.15\n"
     ]
    }
   ],
   "source": [
    "for key in times.keys():\n",
    "    a = times[key]\n",
    "    a = np.array(a)\n",
    "    print(key, f'{a.mean():.2f}')"
   ]
  },
  {
   "cell_type": "code",
   "execution_count": 114,
   "metadata": {},
   "outputs": [
    {
     "name": "stdout",
     "output_type": "stream",
     "text": [
      "161\n",
      "426\n",
      "92\n",
      "186\n",
      "98\n",
      "183\n",
      "38\n",
      "54\n",
      "32\n",
      "45\n",
      "53\n",
      "49\n",
      "31\n",
      "35\n",
      "35\n",
      "31\n",
      "31\n",
      "34\n",
      "67\n",
      "174\n",
      "65\n",
      "112\n",
      "99\n",
      "102\n",
      "31\n",
      "31\n",
      "31\n",
      "31\n",
      "31\n",
      "37\n",
      "31\n",
      "31\n",
      "31\n",
      "31\n",
      "31\n",
      "31\n",
      "217\n",
      "470\n",
      "214\n",
      "381\n",
      "264\n",
      "666\n",
      "69\n",
      "167\n",
      "71\n",
      "72\n",
      "117\n",
      "62\n",
      "36\n",
      "41\n",
      "31\n",
      "45\n",
      "42\n",
      "45\n",
      "155\n",
      "257\n",
      "168\n",
      "237\n",
      "134\n",
      "167\n",
      "31\n",
      "48\n",
      "39\n",
      "59\n",
      "31\n",
      "53\n",
      "31\n",
      "32\n",
      "31\n",
      "31\n",
      "31\n",
      "32\n",
      "1719\n",
      "2869\n",
      "1629\n",
      "872\n",
      "736\n",
      "966\n",
      "63\n",
      "194\n",
      "80\n",
      "79\n",
      "105\n",
      "153\n",
      "42\n",
      "99\n",
      "48\n",
      "82\n",
      "42\n",
      "105\n",
      "1433\n",
      "1851\n",
      "160\n",
      "1424\n",
      "622\n",
      "221\n",
      "31\n",
      "98\n",
      "40\n",
      "93\n",
      "59\n",
      "117\n",
      "31\n",
      "31\n",
      "35\n",
      "33\n",
      "31\n",
      "82\n",
      "222\n",
      "329\n",
      "220\n",
      "265\n",
      "158\n",
      "255\n",
      "31\n",
      "101\n",
      "35\n",
      "69\n",
      "31\n",
      "77\n",
      "31\n",
      "36\n",
      "31\n",
      "32\n",
      "31\n",
      "34\n",
      "125\n",
      "234\n",
      "113\n",
      "371\n",
      "239\n",
      "277\n",
      "31\n",
      "31\n",
      "31\n",
      "31\n",
      "31\n",
      "31\n",
      "31\n",
      "31\n",
      "31\n",
      "31\n",
      "31\n",
      "31\n",
      "86\n",
      "196\n",
      "123\n",
      "455\n",
      "397\n",
      "283\n",
      "32\n",
      "118\n",
      "32\n",
      "110\n",
      "35\n",
      "35\n",
      "32\n",
      "31\n",
      "32\n",
      "79\n",
      "33\n",
      "39\n",
      "511\n",
      "220\n",
      "230\n",
      "169\n",
      "235\n",
      "244\n",
      "31\n",
      "35\n",
      "31\n",
      "34\n",
      "33\n",
      "51\n",
      "31\n",
      "33\n",
      "31\n",
      "41\n",
      "31\n",
      "34\n",
      "258\n",
      "237\n",
      "261\n",
      "237\n",
      "222\n",
      "272\n",
      "170\n",
      "222\n",
      "161\n",
      "81\n",
      "47\n",
      "162\n",
      "32\n",
      "49\n",
      "38\n",
      "88\n",
      "37\n",
      "62\n",
      "1954\n",
      "4468\n",
      "73\n",
      "157\n",
      "152\n",
      "234\n",
      "39\n",
      "83\n",
      "36\n",
      "31\n",
      "31\n",
      "71\n",
      "31\n",
      "37\n",
      "31\n",
      "42\n",
      "31\n",
      "46\n",
      "95\n",
      "153\n",
      "103\n",
      "107\n",
      "119\n",
      "134\n",
      "34\n",
      "57\n",
      "33\n",
      "64\n",
      "36\n",
      "77\n",
      "33\n",
      "33\n",
      "65\n",
      "56\n",
      "33\n",
      "41\n",
      "71\n",
      "127\n",
      "60\n",
      "109\n",
      "64\n",
      "99\n",
      "54\n",
      "59\n",
      "64\n",
      "50\n",
      "32\n",
      "59\n",
      "32\n",
      "42\n",
      "37\n",
      "37\n",
      "31\n",
      "51\n",
      "312\n",
      "364\n",
      "223\n",
      "268\n",
      "141\n",
      "289\n",
      "360\n",
      "75\n",
      "64\n",
      "101\n",
      "66\n",
      "123\n",
      "114\n",
      "36\n",
      "47\n",
      "80\n",
      "81\n",
      "49\n",
      "146\n",
      "284\n",
      "149\n",
      "247\n",
      "126\n",
      "324\n",
      "51\n",
      "71\n",
      "56\n",
      "76\n",
      "36\n",
      "43\n",
      "38\n",
      "64\n",
      "48\n",
      "38\n",
      "31\n",
      "53\n",
      "461\n",
      "2882\n",
      "670\n",
      "1586\n",
      "394\n",
      "1003\n",
      "158\n",
      "1116\n",
      "101\n",
      "73\n",
      "69\n",
      "58\n",
      "77\n",
      "71\n",
      "60\n",
      "72\n",
      "52\n",
      "73\n",
      "1825\n",
      "758\n",
      "497\n",
      "1195\n",
      "379\n",
      "792\n",
      "183\n",
      "838\n",
      "81\n",
      "48\n",
      "116\n",
      "215\n",
      "31\n",
      "1052\n",
      "41\n",
      "87\n",
      "84\n",
      "59\n",
      "96\n",
      "56\n",
      "146\n",
      "102\n",
      "113\n",
      "100\n",
      "31\n",
      "31\n",
      "31\n",
      "31\n",
      "31\n",
      "39\n",
      "31\n",
      "44\n",
      "31\n",
      "31\n",
      "31\n",
      "31\n",
      "68\n",
      "131\n",
      "97\n",
      "172\n",
      "67\n",
      "50\n",
      "31\n",
      "32\n",
      "31\n",
      "35\n",
      "60\n",
      "85\n",
      "31\n",
      "31\n",
      "32\n",
      "31\n",
      "31\n",
      "31\n",
      "96\n",
      "181\n",
      "120\n",
      "152\n",
      "108\n",
      "179\n",
      "31\n",
      "31\n",
      "34\n",
      "89\n",
      "31\n",
      "31\n",
      "31\n",
      "31\n",
      "31\n",
      "31\n",
      "31\n",
      "31\n",
      "45\n",
      "138\n",
      "114\n",
      "222\n",
      "125\n",
      "279\n",
      "31\n",
      "31\n",
      "31\n",
      "32\n",
      "32\n",
      "31\n",
      "45\n",
      "31\n",
      "31\n",
      "31\n",
      "31\n",
      "31\n",
      "62\n",
      "102\n",
      "89\n",
      "101\n",
      "96\n",
      "138\n",
      "31\n",
      "40\n",
      "31\n",
      "38\n",
      "75\n",
      "38\n",
      "32\n",
      "39\n",
      "31\n",
      "40\n",
      "31\n",
      "31\n",
      "209\n",
      "45\n",
      "79\n",
      "52\n",
      "187\n",
      "128\n",
      "31\n",
      "41\n",
      "32\n",
      "31\n",
      "31\n",
      "31\n",
      "31\n",
      "31\n",
      "34\n",
      "31\n",
      "31\n",
      "32\n",
      "230\n",
      "155\n",
      "210\n",
      "197\n",
      "167\n",
      "132\n",
      "51\n",
      "40\n",
      "51\n",
      "78\n",
      "44\n",
      "68\n",
      "31\n",
      "32\n",
      "31\n",
      "40\n",
      "34\n",
      "37\n",
      "66\n",
      "258\n",
      "97\n",
      "125\n",
      "134\n",
      "168\n",
      "35\n",
      "34\n",
      "31\n",
      "31\n",
      "32\n",
      "34\n",
      "31\n",
      "31\n",
      "31\n",
      "32\n",
      "31\n",
      "31\n",
      "171\n",
      "597\n",
      "332\n",
      "512\n",
      "218\n",
      "367\n",
      "65\n",
      "97\n",
      "50\n",
      "69\n",
      "73\n",
      "94\n",
      "32\n",
      "37\n",
      "31\n",
      "57\n",
      "31\n",
      "68\n",
      "263\n",
      "497\n",
      "254\n",
      "510\n",
      "304\n",
      "423\n",
      "31\n",
      "41\n",
      "32\n",
      "72\n",
      "36\n",
      "112\n",
      "31\n",
      "31\n",
      "31\n",
      "42\n",
      "31\n",
      "31\n",
      "1953\n",
      "1801\n",
      "1035\n",
      "1372\n",
      "510\n",
      "1240\n",
      "84\n",
      "78\n",
      "63\n",
      "133\n",
      "57\n",
      "81\n",
      "50\n",
      "73\n",
      "44\n",
      "46\n",
      "45\n",
      "66\n",
      "770\n",
      "1094\n",
      "446\n",
      "725\n",
      "319\n",
      "672\n",
      "40\n",
      "94\n",
      "49\n",
      "56\n",
      "46\n",
      "150\n",
      "31\n",
      "53\n",
      "32\n",
      "32\n",
      "33\n",
      "64\n",
      "286\n",
      "259\n",
      "157\n",
      "172\n",
      "195\n",
      "332\n",
      "31\n",
      "124\n",
      "31\n",
      "58\n",
      "40\n",
      "55\n",
      "31\n",
      "31\n",
      "34\n",
      "31\n",
      "31\n",
      "40\n",
      "252\n",
      "376\n",
      "87\n",
      "243\n",
      "185\n",
      "299\n",
      "31\n",
      "34\n",
      "34\n",
      "32\n",
      "31\n",
      "31\n",
      "31\n",
      "31\n",
      "31\n",
      "31\n",
      "31\n",
      "31\n",
      "231\n",
      "427\n",
      "244\n",
      "242\n",
      "174\n",
      "148\n",
      "40\n",
      "111\n",
      "50\n",
      "117\n",
      "41\n",
      "113\n",
      "31\n",
      "33\n",
      "31\n",
      "37\n",
      "31\n",
      "57\n",
      "138\n",
      "501\n",
      "281\n",
      "139\n",
      "142\n",
      "238\n",
      "31\n",
      "83\n",
      "31\n",
      "35\n",
      "51\n",
      "31\n",
      "31\n",
      "32\n",
      "31\n",
      "31\n",
      "31\n",
      "31\n",
      "165\n",
      "308\n",
      "380\n",
      "269\n",
      "189\n",
      "338\n",
      "59\n",
      "219\n",
      "100\n",
      "123\n",
      "50\n",
      "87\n",
      "33\n",
      "65\n",
      "36\n",
      "51\n",
      "48\n",
      "58\n",
      "1592\n",
      "3567\n",
      "155\n",
      "199\n",
      "229\n",
      "184\n",
      "44\n",
      "134\n",
      "34\n",
      "99\n",
      "38\n",
      "51\n",
      "31\n",
      "35\n",
      "34\n",
      "31\n",
      "32\n",
      "45\n",
      "62\n",
      "74\n",
      "85\n",
      "62\n",
      "56\n",
      "119\n",
      "31\n",
      "31\n",
      "31\n",
      "31\n",
      "45\n",
      "31\n",
      "31\n",
      "31\n",
      "31\n",
      "31\n",
      "31\n",
      "31\n",
      "43\n",
      "68\n",
      "45\n",
      "48\n",
      "42\n",
      "50\n",
      "31\n",
      "31\n",
      "31\n",
      "31\n",
      "31\n",
      "31\n",
      "31\n",
      "31\n",
      "31\n",
      "31\n",
      "31\n",
      "31\n",
      "143\n",
      "156\n",
      "98\n",
      "154\n",
      "82\n",
      "129\n",
      "32\n",
      "36\n",
      "31\n",
      "42\n",
      "32\n",
      "38\n",
      "31\n",
      "31\n",
      "31\n",
      "31\n",
      "31\n",
      "31\n",
      "94\n",
      "173\n",
      "94\n",
      "105\n",
      "86\n",
      "125\n",
      "31\n",
      "31\n",
      "31\n",
      "31\n",
      "31\n",
      "31\n",
      "31\n",
      "31\n",
      "31\n",
      "31\n",
      "31\n",
      "31\n",
      "550\n",
      "2099\n",
      "154\n",
      "199\n",
      "167\n",
      "200\n",
      "41\n",
      "112\n",
      "32\n",
      "73\n",
      "36\n",
      "61\n",
      "31\n",
      "31\n",
      "31\n",
      "36\n",
      "31\n",
      "34\n",
      "825\n",
      "1846\n",
      "126\n",
      "190\n",
      "127\n",
      "253\n",
      "31\n",
      "31\n",
      "31\n",
      "32\n",
      "31\n",
      "38\n",
      "31\n",
      "31\n",
      "31\n",
      "31\n",
      "31\n",
      "31\n",
      "31\n",
      "32\n",
      "52\n",
      "61\n",
      "38\n",
      "63\n",
      "31\n",
      "31\n",
      "31\n",
      "31\n",
      "31\n",
      "31\n",
      "31\n",
      "31\n",
      "31\n",
      "31\n",
      "31\n",
      "31\n",
      "31\n",
      "31\n",
      "31\n",
      "31\n",
      "31\n",
      "34\n",
      "31\n",
      "31\n",
      "31\n",
      "31\n",
      "31\n",
      "31\n",
      "31\n",
      "31\n",
      "31\n",
      "31\n",
      "31\n",
      "31\n",
      "31\n",
      "39\n",
      "60\n",
      "31\n",
      "42\n",
      "89\n",
      "31\n",
      "31\n",
      "31\n",
      "31\n",
      "31\n",
      "31\n",
      "31\n",
      "31\n",
      "31\n",
      "31\n",
      "31\n",
      "31\n",
      "31\n",
      "34\n",
      "31\n",
      "31\n",
      "31\n",
      "81\n",
      "31\n",
      "31\n",
      "31\n",
      "31\n",
      "31\n",
      "31\n",
      "31\n",
      "31\n",
      "31\n",
      "31\n",
      "31\n",
      "31\n",
      "37\n",
      "42\n",
      "31\n",
      "48\n",
      "84\n",
      "43\n",
      "31\n",
      "31\n",
      "31\n",
      "31\n",
      "31\n",
      "58\n",
      "31\n",
      "35\n",
      "31\n",
      "31\n",
      "31\n",
      "31\n",
      "31\n",
      "41\n",
      "31\n",
      "33\n",
      "65\n",
      "62\n",
      "31\n",
      "31\n",
      "31\n",
      "31\n",
      "31\n",
      "31\n",
      "31\n",
      "31\n",
      "31\n",
      "31\n",
      "31\n",
      "31\n",
      "94\n",
      "159\n",
      "72\n",
      "145\n",
      "73\n",
      "144\n",
      "49\n",
      "54\n",
      "33\n",
      "48\n",
      "47\n",
      "36\n",
      "34\n",
      "47\n",
      "34\n",
      "35\n",
      "35\n",
      "37\n",
      "71\n",
      "148\n",
      "102\n",
      "127\n",
      "86\n",
      "139\n",
      "34\n",
      "66\n",
      "32\n",
      "50\n",
      "36\n",
      "37\n",
      "32\n",
      "45\n",
      "35\n",
      "33\n",
      "36\n",
      "32\n",
      "210\n",
      "471\n",
      "206\n",
      "406\n",
      "185\n",
      "399\n",
      "40\n",
      "41\n",
      "49\n",
      "41\n",
      "66\n",
      "40\n",
      "38\n",
      "36\n",
      "36\n",
      "36\n",
      "34\n",
      "37\n",
      "185\n",
      "337\n",
      "180\n",
      "392\n",
      "171\n",
      "254\n",
      "36\n",
      "70\n",
      "35\n",
      "58\n",
      "61\n",
      "64\n",
      "37\n",
      "34\n",
      "33\n",
      "34\n",
      "32\n",
      "50\n",
      "1238\n",
      "1756\n",
      "530\n",
      "1346\n",
      "556\n",
      "888\n",
      "527\n",
      "706\n",
      "61\n",
      "152\n",
      "54\n",
      "94\n",
      "377\n",
      "53\n",
      "56\n",
      "68\n",
      "66\n",
      "69\n",
      "1409\n",
      "2660\n",
      "579\n",
      "996\n",
      "487\n",
      "892\n",
      "2301\n",
      "135\n",
      "43\n",
      "51\n",
      "88\n",
      "47\n",
      "56\n",
      "36\n",
      "35\n",
      "55\n",
      "64\n",
      "54\n",
      "173\n",
      "362\n",
      "264\n",
      "426\n",
      "576\n",
      "663\n",
      "31\n",
      "31\n",
      "40\n",
      "64\n",
      "64\n",
      "107\n",
      "31\n",
      "31\n",
      "31\n",
      "31\n",
      "31\n",
      "31\n",
      "247\n",
      "356\n",
      "475\n",
      "399\n",
      "31\n",
      "385\n",
      "31\n",
      "32\n",
      "44\n",
      "54\n",
      "31\n",
      "114\n",
      "31\n",
      "31\n",
      "31\n",
      "31\n",
      "31\n",
      "31\n",
      "262\n",
      "33\n",
      "346\n",
      "664\n",
      "31\n",
      "272\n",
      "55\n",
      "33\n",
      "87\n",
      "66\n",
      "44\n",
      "112\n",
      "31\n",
      "31\n",
      "31\n",
      "31\n",
      "31\n",
      "47\n",
      "213\n",
      "379\n",
      "274\n",
      "464\n",
      "638\n",
      "31\n",
      "31\n",
      "60\n",
      "40\n",
      "60\n",
      "41\n",
      "63\n",
      "31\n",
      "37\n",
      "31\n",
      "31\n",
      "31\n",
      "44\n",
      "218\n",
      "264\n",
      "34\n",
      "435\n",
      "220\n",
      "31\n",
      "56\n",
      "69\n",
      "63\n",
      "76\n",
      "75\n",
      "161\n",
      "32\n",
      "99\n",
      "52\n",
      "54\n",
      "35\n",
      "68\n",
      "2236\n",
      "264\n",
      "31\n",
      "145\n",
      "518\n",
      "123\n",
      "48\n",
      "84\n",
      "79\n",
      "31\n",
      "34\n",
      "32\n",
      "31\n",
      "32\n",
      "32\n",
      "63\n",
      "54\n",
      "73\n",
      "108\n",
      "166\n",
      "76\n",
      "115\n",
      "98\n",
      "170\n",
      "54\n",
      "52\n",
      "48\n",
      "70\n",
      "140\n",
      "46\n",
      "32\n",
      "39\n",
      "33\n",
      "38\n",
      "45\n",
      "92\n",
      "116\n",
      "200\n",
      "67\n",
      "86\n",
      "99\n",
      "110\n",
      "31\n",
      "35\n",
      "31\n",
      "48\n",
      "31\n",
      "48\n",
      "31\n",
      "31\n",
      "31\n",
      "32\n",
      "31\n",
      "45\n",
      "278\n",
      "508\n",
      "253\n",
      "301\n",
      "276\n",
      "577\n",
      "44\n",
      "61\n",
      "93\n",
      "99\n",
      "55\n",
      "75\n",
      "39\n",
      "86\n",
      "35\n",
      "60\n",
      "46\n",
      "61\n",
      "168\n",
      "328\n",
      "184\n",
      "202\n",
      "171\n",
      "315\n",
      "31\n",
      "50\n",
      "31\n",
      "68\n",
      "32\n",
      "57\n",
      "31\n",
      "38\n",
      "31\n",
      "34\n",
      "33\n",
      "38\n",
      "823\n",
      "1808\n",
      "438\n",
      "734\n",
      "493\n",
      "1005\n",
      "46\n",
      "318\n",
      "89\n",
      "155\n",
      "137\n",
      "184\n",
      "41\n",
      "554\n",
      "66\n",
      "84\n",
      "53\n",
      "73\n",
      "380\n",
      "1000\n",
      "359\n",
      "585\n",
      "255\n",
      "662\n",
      "53\n",
      "53\n",
      "47\n",
      "74\n",
      "58\n",
      "92\n",
      "35\n",
      "73\n",
      "35\n",
      "101\n",
      "33\n",
      "64\n",
      "86\n",
      "141\n",
      "80\n",
      "139\n",
      "82\n",
      "152\n",
      "42\n",
      "46\n",
      "41\n",
      "78\n",
      "39\n",
      "66\n",
      "36\n",
      "55\n",
      "31\n",
      "44\n",
      "31\n",
      "33\n",
      "90\n",
      "112\n",
      "57\n",
      "120\n",
      "90\n",
      "86\n",
      "31\n",
      "57\n",
      "32\n",
      "58\n",
      "31\n",
      "38\n",
      "31\n",
      "31\n",
      "31\n",
      "31\n",
      "31\n",
      "31\n",
      "265\n",
      "508\n",
      "182\n",
      "338\n",
      "176\n",
      "342\n",
      "88\n",
      "55\n",
      "116\n",
      "83\n",
      "86\n",
      "76\n",
      "31\n",
      "41\n",
      "32\n",
      "64\n",
      "31\n",
      "50\n",
      "166\n",
      "286\n",
      "136\n",
      "271\n",
      "137\n",
      "239\n",
      "31\n",
      "46\n",
      "31\n",
      "75\n",
      "36\n",
      "54\n",
      "31\n",
      "34\n",
      "31\n",
      "35\n",
      "31\n",
      "34\n",
      "823\n",
      "3231\n",
      "604\n",
      "992\n",
      "395\n",
      "991\n",
      "599\n",
      "942\n",
      "93\n",
      "117\n",
      "142\n",
      "73\n",
      "44\n",
      "175\n",
      "37\n",
      "83\n",
      "38\n",
      "64\n",
      "1326\n",
      "2365\n",
      "1021\n",
      "1122\n",
      "359\n",
      "661\n",
      "52\n",
      "87\n",
      "64\n",
      "55\n",
      "40\n",
      "85\n",
      "40\n",
      "47\n",
      "75\n",
      "70\n",
      "36\n",
      "61\n"
     ]
    }
   ],
   "source": [
    "f1 = open(\"test1_log.txt\", \"r\")\n",
    "f2 = open(\"test2_log.txt\", \"r\")\n",
    "\n",
    "lines = f1.readlines()\n",
    "lines2 = f2.readlines()\n",
    "\n",
    "lines.extend(lines2)\n",
    "\n",
    "next_is_log = False\n",
    "epochs = {}\n",
    "for line in lines:\n",
    "#     print(line)\n",
    "    if next_is_log:\n",
    "        next_is_log = False\n",
    "        time = int(line.split('Total epochs: ')[1].split(' ')[0])\n",
    "#         time = 1\n",
    "        print(time)\n",
    "        if model in epochs.keys():\n",
    "            epochs[model].append(time)\n",
    "        else:\n",
    "            epochs[model] = [time]\n",
    "    elif \"-hc 64\" in line or \"-hc 128\" in line:\n",
    "        model = line.split('-m ')[1].split(' ')[0]\n",
    "#         print(model)\n",
    "        next_is_log = True"
   ]
  },
  {
   "cell_type": "code",
   "execution_count": 115,
   "metadata": {},
   "outputs": [
    {
     "name": "stdout",
     "output_type": "stream",
     "text": [
      "GraphConv 192.3\n",
      "GatedGraphConv 143.7\n",
      "GCN 180.0\n",
      "MLP 70.3\n",
      "CNN 191.5\n",
      "GRU 193.8\n"
     ]
    }
   ],
   "source": [
    "for key in epochs.keys():\n",
    "    a = epochs[key]\n",
    "    a = np.array(a)\n",
    "    print(key, f'{a.mean():.1f}')"
   ]
  },
  {
   "cell_type": "code",
   "execution_count": 118,
   "metadata": {
    "scrolled": true
   },
   "outputs": [
    {
     "name": "stdout",
     "output_type": "stream",
     "text": [
      "GraphConv\n",
      "Mean test accuracy (0.0001 learning rate): 0.7009412445533769\n",
      "> 95% test accuracy (0.0001 learning rate): 42\n",
      "Mean test accuracy (0.0045 learning rate): 0.43006819625998544\n",
      "> 95% test accuracy (0.0045 learning rate): 2\n",
      "Mean test accuracy (0.009 learning rate): 0.2331183051924473\n",
      "> 95% test accuracy (0.009 learning rate): 1\n"
     ]
    },
    {
     "data": {
      "image/png": "[encoded data removed]",
      "text/plain": [
       "<Figure size 432x288 with 1 Axes>"
      ]
     },
     "metadata": {
      "needs_background": "light"
     },
     "output_type": "display_data"
    },
    {
     "name": "stdout",
     "output_type": "stream",
     "text": [
      "GatedGraphConv\n",
      "Mean test accuracy (0.0001 learning rate): 0.6303274782135077\n",
      "> 95% test accuracy (0.0001 learning rate): 34\n",
      "Mean test accuracy (0.0045 learning rate): 0.5005701933551197\n",
      "> 95% test accuracy (0.0045 learning rate): 22\n",
      "Mean test accuracy (0.009 learning rate): 0.4227532679738562\n",
      "> 95% test accuracy (0.009 learning rate): 4\n"
     ]
    },
    {
     "data": {
      "image/png": "[encoded data removed]",
      "text/plain": [
       "<Figure size 432x288 with 1 Axes>"
      ]
     },
     "metadata": {
      "needs_background": "light"
     },
     "output_type": "display_data"
    },
    {
     "name": "stdout",
     "output_type": "stream",
     "text": [
      "GCN\n",
      "Mean test accuracy (0.0001 learning rate): 0.6655007489106756\n",
      "> 95% test accuracy (0.0001 learning rate): 20\n",
      "Mean test accuracy (0.0045 learning rate): 0.4538115014524329\n",
      "> 95% test accuracy (0.0045 learning rate): 1\n",
      "Mean test accuracy (0.009 learning rate): 0.2674621005809731\n",
      "> 95% test accuracy (0.009 learning rate): 0\n"
     ]
    },
    {
     "data": {
      "image/png": "[encoded data removed]",
      "text/plain": [
       "<Figure size 432x288 with 1 Axes>"
      ]
     },
     "metadata": {
      "needs_background": "light"
     },
     "output_type": "display_data"
    },
    {
     "name": "stdout",
     "output_type": "stream",
     "text": [
      "MLP\n",
      "Mean test accuracy (0.0001 learning rate): 0.50526279956427\n",
      "> 95% test accuracy (0.0001 learning rate): 32\n",
      "Mean test accuracy (0.0045 learning rate): 0.12181826434277415\n",
      "> 95% test accuracy (0.0045 learning rate): 0\n",
      "Mean test accuracy (0.009 learning rate): 0.056339642338416845\n",
      "> 95% test accuracy (0.009 learning rate): 0\n"
     ]
    },
    {
     "data": {
      "image/png": "[encoded data removed]",
      "text/plain": [
       "<Figure size 432x288 with 1 Axes>"
      ]
     },
     "metadata": {
      "needs_background": "light"
     },
     "output_type": "display_data"
    },
    {
     "name": "stdout",
     "output_type": "stream",
     "text": [
      "CNN\n",
      "Mean test accuracy (0.0001 learning rate): 0.6254550199709512\n",
      "> 95% test accuracy (0.0001 learning rate): 42\n",
      "Mean test accuracy (0.0045 learning rate): 0.5464301924473494\n",
      "> 95% test accuracy (0.0045 learning rate): 33\n",
      "Mean test accuracy (0.009 learning rate): 0.4570125272331154\n",
      "> 95% test accuracy (0.009 learning rate): 21\n"
     ]
    },
    {
     "data": {
      "image/png": "[encoded data removed]",
      "text/plain": [
       "<Figure size 432x288 with 1 Axes>"
      ]
     },
     "metadata": {
      "needs_background": "light"
     },
     "output_type": "display_data"
    },
    {
     "name": "stdout",
     "output_type": "stream",
     "text": [
      "GRU\n",
      "Mean test accuracy (0.0001 learning rate): 0.9580723493100946\n",
      "> 95% test accuracy (0.0001 learning rate): 81\n",
      "Mean test accuracy (0.0045 learning rate): 0.7983297022512709\n",
      "> 95% test accuracy (0.0045 learning rate): 37\n",
      "Mean test accuracy (0.009 learning rate): 0.5250436864560638\n",
      "> 95% test accuracy (0.009 learning rate): 8\n"
     ]
    },
    {
     "data": {
      "image/png": "[encoded data removed]",
      "text/plain": [
       "<Figure size 432x288 with 1 Axes>"
      ]
     },
     "metadata": {
      "needs_background": "light"
     },
     "output_type": "display_data"
    }
   ],
   "source": [
    "learning_rates = [0.0001, 0.0045, 0.0090]\n",
    "for model_name in models:\n",
    "    print(model_name)\n",
    "    idx = 0 \n",
    "    for lr in learning_rates:\n",
    "    \n",
    "        hc_results = results[(results[\"model\"] == model_name) & (results[\"learning_rate\"] == lr)]\n",
    "        hc_results_acc = hc_results.test_acc.to_numpy()\n",
    "        if len(hc_results_acc) != 0:\n",
    "            print(f'Mean test accuracy ({lr} learning rate): {hc_results_acc.mean()}')  \n",
    "            print(f'> 95% test accuracy ({lr} learning rate): {(hc_results_acc > 0.95).sum()}') \n",
    "            plt.bar(np.arange(idx,idx+len(hc_results_acc)), hc_results_acc)\n",
    "            idx += len(hc_results_acc)\n",
    "    plt.show()"
   ]
  },
  {
   "cell_type": "code",
   "execution_count": 119,
   "metadata": {
    "scrolled": false
   },
   "outputs": [
    {
     "name": "stdout",
     "output_type": "stream",
     "text": [
      "GraphConv\n",
      "Mean test accuracy (4 batch size): 0.4131112321471799\n",
      "> 95% test accuracy (4 batch size): 24\n",
      "Mean test accuracy (16 batch size): 0.49630726519002655\n",
      "> 95% test accuracy (16 batch size): 21\n"
     ]
    },
    {
     "data": {
      "image/png": "[encoded data removed]",
      "text/plain": [
       "<Figure size 432x288 with 1 Axes>"
      ]
     },
     "metadata": {
      "needs_background": "light"
     },
     "output_type": "display_data"
    },
    {
     "name": "stdout",
     "output_type": "stream",
     "text": [
      "GatedGraphConv\n",
      "Mean test accuracy (4 batch size): 0.4914981617647059\n",
      "> 95% test accuracy (4 batch size): 27\n",
      "Mean test accuracy (16 batch size): 0.5442691312636165\n",
      "> 95% test accuracy (16 batch size): 33\n"
     ]
    },
    {
     "data": {
      "image/png": "[encoded data removed]",
      "text/plain": [
       "<Figure size 432x288 with 1 Axes>"
      ]
     },
     "metadata": {
      "needs_background": "light"
     },
     "output_type": "display_data"
    },
    {
     "name": "stdout",
     "output_type": "stream",
     "text": [
      "GCN\n",
      "Mean test accuracy (4 batch size): 0.4209131414911644\n",
      "> 95% test accuracy (4 batch size): 14\n",
      "Mean test accuracy (16 batch size): 0.5036030924715565\n",
      "> 95% test accuracy (16 batch size): 7\n"
     ]
    },
    {
     "data": {
      "image/png": "[encoded data removed]",
      "text/plain": [
       "<Figure size 432x288 with 1 Axes>"
      ]
     },
     "metadata": {
      "needs_background": "light"
     },
     "output_type": "display_data"
    },
    {
     "name": "stdout",
     "output_type": "stream",
     "text": [
      "MLP\n",
      "Mean test accuracy (4 batch size): 0.209795600338901\n",
      "> 95% test accuracy (4 batch size): 16\n",
      "Mean test accuracy (16 batch size): 0.24581820382473976\n",
      "> 95% test accuracy (16 batch size): 16\n"
     ]
    },
    {
     "data": {
      "image/png": "[encoded data removed]",
      "text/plain": [
       "<Figure size 432x288 with 1 Axes>"
      ]
     },
     "metadata": {
      "needs_background": "light"
     },
     "output_type": "display_data"
    },
    {
     "name": "stdout",
     "output_type": "stream",
     "text": [
      "CNN\n",
      "Mean test accuracy (4 batch size): 0.5183649540062939\n",
      "> 95% test accuracy (4 batch size): 40\n",
      "Mean test accuracy (16 batch size): 0.5675668724279835\n",
      "> 95% test accuracy (16 batch size): 56\n"
     ]
    },
    {
     "data": {
      "image/png": "[encoded data removed]",
      "text/plain": [
       "<Figure size 432x288 with 1 Axes>"
      ]
     },
     "metadata": {
      "needs_background": "light"
     },
     "output_type": "display_data"
    },
    {
     "name": "stdout",
     "output_type": "stream",
     "text": [
      "GRU\n",
      "Mean test accuracy (4 batch size): 0.6496187363834423\n",
      "> 95% test accuracy (4 batch size): 47\n",
      "Mean test accuracy (16 batch size): 0.8713450889615106\n",
      "> 95% test accuracy (16 batch size): 79\n"
     ]
    },
    {
     "data": {
      "image/png": "[encoded data removed]",
      "text/plain": [
       "<Figure size 432x288 with 1 Axes>"
      ]
     },
     "metadata": {
      "needs_background": "light"
     },
     "output_type": "display_data"
    }
   ],
   "source": [
    "batch_sizes = [4, 16]\n",
    "for model_name in models:\n",
    "    print(model_name)\n",
    "    idx = 0 \n",
    "    for bs in batch_sizes:\n",
    "    \n",
    "        hc_results = results[(results[\"model\"] == model_name) & (results[\"batch_size\"] == bs)]\n",
    "        hc_results_acc = hc_results.test_acc.to_numpy()\n",
    "        if len(hc_results_acc) != 0:\n",
    "            print(f'Mean test accuracy ({bs} batch size): {hc_results_acc.mean()}')  \n",
    "            print(f'> 95% test accuracy ({bs} batch size): {(hc_results_acc > 0.95).sum()}') \n",
    "            plt.bar(np.arange(idx,idx+len(hc_results_acc)), hc_results_acc)\n",
    "            idx += len(hc_results_acc)\n",
    "    plt.show()"
   ]
  },
  {
   "cell_type": "code",
   "execution_count": 122,
   "metadata": {
    "scrolled": false
   },
   "outputs": [
    {
     "name": "stdout",
     "output_type": "stream",
     "text": [
      "GraphConv\n",
      "Mean test accuracy (0 dropout rate): 0.4465016793754539\n",
      "> 95% test accuracy (0 dropout rate): 17\n",
      "Mean test accuracy (0.2 dropout rate): 0.45640829248366016\n",
      "> 95% test accuracy (0.2 dropout rate): 16\n",
      "Mean test accuracy (0.4 dropout rate): 0.46121777414669574\n",
      "> 95% test accuracy (0.4 dropout rate): 12\n"
     ]
    },
    {
     "data": {
      "image/png": "[encoded data removed]",
      "text/plain": [
       "<Figure size 432x288 with 1 Axes>"
      ]
     },
     "metadata": {
      "needs_background": "light"
     },
     "output_type": "display_data"
    },
    {
     "name": "stdout",
     "output_type": "stream",
     "text": [
      "GatedGraphConv\n",
      "Mean test accuracy (0 dropout rate): 0.5120395901416122\n",
      "> 95% test accuracy (0 dropout rate): 21\n",
      "Mean test accuracy (0.2 dropout rate): 0.5358336737472766\n",
      "> 95% test accuracy (0.2 dropout rate): 21\n",
      "Mean test accuracy (0.4 dropout rate): 0.5057776756535948\n",
      "> 95% test accuracy (0.4 dropout rate): 18\n"
     ]
    },
    {
     "data": {
      "image/png": "[encoded data removed]",
      "text/plain": [
       "<Figure size 432x288 with 1 Axes>"
      ]
     },
     "metadata": {
      "needs_background": "light"
     },
     "output_type": "display_data"
    },
    {
     "name": "stdout",
     "output_type": "stream",
     "text": [
      "GCN\n",
      "Mean test accuracy (0 dropout rate): 0.4514076116557734\n",
      "> 95% test accuracy (0 dropout rate): 6\n",
      "Mean test accuracy (0.2 dropout rate): 0.4773488562091503\n",
      "> 95% test accuracy (0.2 dropout rate): 8\n",
      "Mean test accuracy (0.4 dropout rate): 0.4580178830791577\n",
      "> 95% test accuracy (0.4 dropout rate): 7\n"
     ]
    },
    {
     "data": {
      "image/png": "[encoded data removed]",
      "text/plain": [
       "<Figure size 432x288 with 1 Axes>"
      ]
     },
     "metadata": {
      "needs_background": "light"
     },
     "output_type": "display_data"
    },
    {
     "name": "stdout",
     "output_type": "stream",
     "text": [
      "MLP\n",
      "Mean test accuracy (0 dropout rate): 0.23441074346405225\n",
      "> 95% test accuracy (0 dropout rate): 10\n",
      "Mean test accuracy (0.2 dropout rate): 0.2282129402687001\n",
      "> 95% test accuracy (0.2 dropout rate): 12\n",
      "Mean test accuracy (0.4 dropout rate): 0.22079702251270877\n",
      "> 95% test accuracy (0.4 dropout rate): 10\n"
     ]
    },
    {
     "data": {
      "image/png": "[encoded data removed]",
      "text/plain": [
       "<Figure size 432x288 with 1 Axes>"
      ]
     },
     "metadata": {
      "needs_background": "light"
     },
     "output_type": "display_data"
    },
    {
     "name": "stdout",
     "output_type": "stream",
     "text": [
      "CNN\n",
      "Mean test accuracy (0 dropout rate): 0.545235906862745\n",
      "> 95% test accuracy (0 dropout rate): 36\n",
      "Mean test accuracy (0.2 dropout rate): 0.5413852578068264\n",
      "> 95% test accuracy (0.2 dropout rate): 27\n",
      "Mean test accuracy (0.4 dropout rate): 0.5422765749818446\n",
      "> 95% test accuracy (0.4 dropout rate): 33\n"
     ]
    },
    {
     "data": {
      "image/png": "[encoded data removed]",
      "text/plain": [
       "<Figure size 432x288 with 1 Axes>"
      ]
     },
     "metadata": {
      "needs_background": "light"
     },
     "output_type": "display_data"
    },
    {
     "name": "stdout",
     "output_type": "stream",
     "text": [
      "GRU\n",
      "Mean test accuracy (0 dropout rate): 0.7711555918663761\n",
      "> 95% test accuracy (0 dropout rate): 45\n",
      "Mean test accuracy (0.2 dropout rate): 0.7667784359114016\n",
      "> 95% test accuracy (0.2 dropout rate): 43\n",
      "Mean test accuracy (0.4 dropout rate): 0.7435117102396513\n",
      "> 95% test accuracy (0.4 dropout rate): 38\n"
     ]
    },
    {
     "data": {
      "image/png": "[encoded data removed]",
      "text/plain": [
       "<Figure size 432x288 with 1 Axes>"
      ]
     },
     "metadata": {
      "needs_background": "light"
     },
     "output_type": "display_data"
    }
   ],
   "source": [
    "batch_sizes = [0, 0.2, 0.4]\n",
    "for model_name in models:\n",
    "    print(model_name)\n",
    "    idx = 0 \n",
    "    for bs in batch_sizes:\n",
    "    \n",
    "        hc_results = results[(results[\"model\"] == model_name) & (results[\"dropout_rate\"] == bs)]\n",
    "        hc_results_acc = hc_results.test_acc.to_numpy()\n",
    "        if len(hc_results_acc) != 0:\n",
    "            print(f'Mean test accuracy ({bs} dropout rate): {hc_results_acc.mean()}')  \n",
    "            print(f'> 95% test accuracy ({bs} dropout rate): {(hc_results_acc > 0.95).sum()}') \n",
    "            plt.bar(np.arange(idx,idx+len(hc_results_acc)), hc_results_acc)\n",
    "            idx += len(hc_results_acc)\n",
    "    plt.show()"
   ]
  }
 ],
 "metadata": {
  "kernelspec": {
   "display_name": "torch",
   "language": "python",
   "name": "torch"
  },
  "language_info": {
   "codemirror_mode": {
    "name": "ipython",
    "version": 3
   },
   "file_extension": ".py",
   "mimetype": "text/x-python",
   "name": "python",
   "nbconvert_exporter": "python",
   "pygments_lexer": "ipython3",
   "version": "3.8.2"
  }
 },
 "nbformat": 4,
 "nbformat_minor": 5
}
