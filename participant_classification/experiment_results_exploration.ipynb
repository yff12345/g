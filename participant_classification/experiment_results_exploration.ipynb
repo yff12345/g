{
 "cells": [
  {
   "cell_type": "code",
   "execution_count": 12,
   "id": "useful-nancy",
   "metadata": {},
   "outputs": [],
   "source": [
    "import pandas as pd\n",
    "import numpy as np\n",
    "import matplotlib.pyplot as plt\n",
    "from scipy import stats"
   ]
  },
  {
   "cell_type": "code",
   "execution_count": 2,
   "id": "endangered-labor",
   "metadata": {},
   "outputs": [],
   "source": [
    "results1 = pd.read_csv('participant_id_test1.csv')\n",
    "results2 = pd.read_csv('participant_id_test2.csv')"
   ]
  },
  {
   "cell_type": "code",
   "execution_count": 35,
   "id": "jewish-receiver",
   "metadata": {},
   "outputs": [
    {
     "data": {
      "text/html": [
       "<div>\n",
       "<style scoped>\n",
       "    .dataframe tbody tr th:only-of-type {\n",
       "        vertical-align: middle;\n",
       "    }\n",
       "\n",
       "    .dataframe tbody tr th {\n",
       "        vertical-align: top;\n",
       "    }\n",
       "\n",
       "    .dataframe thead th {\n",
       "        text-align: right;\n",
       "    }\n",
       "</style>\n",
       "<table border=\"1\" class=\"dataframe\">\n",
       "  <thead>\n",
       "    <tr style=\"text-align: right;\">\n",
       "      <th></th>\n",
       "      <th>model</th>\n",
       "      <th>eeg_feature</th>\n",
       "      <th>remove_global_connections</th>\n",
       "      <th>remove_baseline_signal_noise_removal</th>\n",
       "      <th>number_test_targets</th>\n",
       "      <th>batch_size</th>\n",
       "      <th>hidden_channels</th>\n",
       "      <th>learning_rate</th>\n",
       "      <th>dropout_rate</th>\n",
       "      <th>mean_test_loss</th>\n",
       "      <th>test_acc</th>\n",
       "      <th>test_f1</th>\n",
       "      <th>test_prec</th>\n",
       "      <th>test_reca</th>\n",
       "      <th>test_roc</th>\n",
       "      <th>pytorch_total_params</th>\n",
       "    </tr>\n",
       "  </thead>\n",
       "  <tbody>\n",
       "    <tr>\n",
       "      <th>0</th>\n",
       "      <td>GraphConv</td>\n",
       "      <td>wav</td>\n",
       "      <td>False</td>\n",
       "      <td>False</td>\n",
       "      <td>10</td>\n",
       "      <td>4</td>\n",
       "      <td>16</td>\n",
       "      <td>0.0001</td>\n",
       "      <td>0.0</td>\n",
       "      <td>2.552126</td>\n",
       "      <td>0.965625</td>\n",
       "      <td>0.965625</td>\n",
       "      <td>0.965625</td>\n",
       "      <td>0.965625</td>\n",
       "      <td>0.998306</td>\n",
       "      <td>9005</td>\n",
       "    </tr>\n",
       "    <tr>\n",
       "      <th>1</th>\n",
       "      <td>GraphConv</td>\n",
       "      <td>wav</td>\n",
       "      <td>False</td>\n",
       "      <td>False</td>\n",
       "      <td>10</td>\n",
       "      <td>16</td>\n",
       "      <td>16</td>\n",
       "      <td>0.0001</td>\n",
       "      <td>0.0</td>\n",
       "      <td>2.522591</td>\n",
       "      <td>0.996875</td>\n",
       "      <td>0.996875</td>\n",
       "      <td>0.996875</td>\n",
       "      <td>0.996875</td>\n",
       "      <td>0.999990</td>\n",
       "      <td>9005</td>\n",
       "    </tr>\n",
       "    <tr>\n",
       "      <th>2</th>\n",
       "      <td>GraphConv</td>\n",
       "      <td>wav</td>\n",
       "      <td>False</td>\n",
       "      <td>False</td>\n",
       "      <td>10</td>\n",
       "      <td>4</td>\n",
       "      <td>16</td>\n",
       "      <td>0.0001</td>\n",
       "      <td>0.2</td>\n",
       "      <td>2.552032</td>\n",
       "      <td>0.965625</td>\n",
       "      <td>0.965625</td>\n",
       "      <td>0.965625</td>\n",
       "      <td>0.965625</td>\n",
       "      <td>0.999486</td>\n",
       "      <td>9005</td>\n",
       "    </tr>\n",
       "    <tr>\n",
       "      <th>3</th>\n",
       "      <td>GraphConv</td>\n",
       "      <td>wav</td>\n",
       "      <td>False</td>\n",
       "      <td>False</td>\n",
       "      <td>10</td>\n",
       "      <td>16</td>\n",
       "      <td>16</td>\n",
       "      <td>0.0001</td>\n",
       "      <td>0.2</td>\n",
       "      <td>2.551805</td>\n",
       "      <td>0.965625</td>\n",
       "      <td>0.965625</td>\n",
       "      <td>0.965625</td>\n",
       "      <td>0.965625</td>\n",
       "      <td>0.999980</td>\n",
       "      <td>9005</td>\n",
       "    </tr>\n",
       "    <tr>\n",
       "      <th>4</th>\n",
       "      <td>GraphConv</td>\n",
       "      <td>wav</td>\n",
       "      <td>False</td>\n",
       "      <td>False</td>\n",
       "      <td>10</td>\n",
       "      <td>4</td>\n",
       "      <td>16</td>\n",
       "      <td>0.0001</td>\n",
       "      <td>0.4</td>\n",
       "      <td>2.613653</td>\n",
       "      <td>0.903125</td>\n",
       "      <td>0.903125</td>\n",
       "      <td>0.903125</td>\n",
       "      <td>0.903125</td>\n",
       "      <td>0.987097</td>\n",
       "      <td>9005</td>\n",
       "    </tr>\n",
       "    <tr>\n",
       "      <th>...</th>\n",
       "      <td>...</td>\n",
       "      <td>...</td>\n",
       "      <td>...</td>\n",
       "      <td>...</td>\n",
       "      <td>...</td>\n",
       "      <td>...</td>\n",
       "      <td>...</td>\n",
       "      <td>...</td>\n",
       "      <td>...</td>\n",
       "      <td>...</td>\n",
       "      <td>...</td>\n",
       "      <td>...</td>\n",
       "      <td>...</td>\n",
       "      <td>...</td>\n",
       "      <td>...</td>\n",
       "      <td>...</td>\n",
       "    </tr>\n",
       "    <tr>\n",
       "      <th>967</th>\n",
       "      <td>GRU</td>\n",
       "      <td>psd</td>\n",
       "      <td>False</td>\n",
       "      <td>False</td>\n",
       "      <td>34</td>\n",
       "      <td>16</td>\n",
       "      <td>128</td>\n",
       "      <td>0.0090</td>\n",
       "      <td>0.0</td>\n",
       "      <td>2.726481</td>\n",
       "      <td>0.799632</td>\n",
       "      <td>0.799632</td>\n",
       "      <td>0.799632</td>\n",
       "      <td>0.799632</td>\n",
       "      <td>0.986741</td>\n",
       "      <td>892576</td>\n",
       "    </tr>\n",
       "    <tr>\n",
       "      <th>968</th>\n",
       "      <td>GRU</td>\n",
       "      <td>psd</td>\n",
       "      <td>False</td>\n",
       "      <td>False</td>\n",
       "      <td>34</td>\n",
       "      <td>4</td>\n",
       "      <td>128</td>\n",
       "      <td>0.0090</td>\n",
       "      <td>0.2</td>\n",
       "      <td>3.386927</td>\n",
       "      <td>0.111213</td>\n",
       "      <td>0.111213</td>\n",
       "      <td>0.111213</td>\n",
       "      <td>0.111213</td>\n",
       "      <td>0.695825</td>\n",
       "      <td>892576</td>\n",
       "    </tr>\n",
       "    <tr>\n",
       "      <th>969</th>\n",
       "      <td>GRU</td>\n",
       "      <td>psd</td>\n",
       "      <td>False</td>\n",
       "      <td>False</td>\n",
       "      <td>34</td>\n",
       "      <td>16</td>\n",
       "      <td>128</td>\n",
       "      <td>0.0090</td>\n",
       "      <td>0.2</td>\n",
       "      <td>2.664758</td>\n",
       "      <td>0.858456</td>\n",
       "      <td>0.858456</td>\n",
       "      <td>0.858456</td>\n",
       "      <td>0.858456</td>\n",
       "      <td>0.992802</td>\n",
       "      <td>892576</td>\n",
       "    </tr>\n",
       "    <tr>\n",
       "      <th>970</th>\n",
       "      <td>GRU</td>\n",
       "      <td>psd</td>\n",
       "      <td>False</td>\n",
       "      <td>False</td>\n",
       "      <td>34</td>\n",
       "      <td>4</td>\n",
       "      <td>128</td>\n",
       "      <td>0.0090</td>\n",
       "      <td>0.4</td>\n",
       "      <td>3.440629</td>\n",
       "      <td>0.097426</td>\n",
       "      <td>0.097426</td>\n",
       "      <td>0.097426</td>\n",
       "      <td>0.097426</td>\n",
       "      <td>0.607034</td>\n",
       "      <td>892576</td>\n",
       "    </tr>\n",
       "    <tr>\n",
       "      <th>971</th>\n",
       "      <td>GRU</td>\n",
       "      <td>psd</td>\n",
       "      <td>False</td>\n",
       "      <td>False</td>\n",
       "      <td>34</td>\n",
       "      <td>16</td>\n",
       "      <td>128</td>\n",
       "      <td>0.0090</td>\n",
       "      <td>0.4</td>\n",
       "      <td>2.647964</td>\n",
       "      <td>0.878676</td>\n",
       "      <td>0.878676</td>\n",
       "      <td>0.878676</td>\n",
       "      <td>0.878676</td>\n",
       "      <td>0.996261</td>\n",
       "      <td>892576</td>\n",
       "    </tr>\n",
       "  </tbody>\n",
       "</table>\n",
       "<p>1836 rows × 16 columns</p>\n",
       "</div>"
      ],
      "text/plain": [
       "         model eeg_feature  remove_global_connections  \\\n",
       "0    GraphConv         wav                      False   \n",
       "1    GraphConv         wav                      False   \n",
       "2    GraphConv         wav                      False   \n",
       "3    GraphConv         wav                      False   \n",
       "4    GraphConv         wav                      False   \n",
       "..         ...         ...                        ...   \n",
       "967        GRU         psd                      False   \n",
       "968        GRU         psd                      False   \n",
       "969        GRU         psd                      False   \n",
       "970        GRU         psd                      False   \n",
       "971        GRU         psd                      False   \n",
       "\n",
       "     remove_baseline_signal_noise_removal  number_test_targets  batch_size  \\\n",
       "0                                   False                   10           4   \n",
       "1                                   False                   10          16   \n",
       "2                                   False                   10           4   \n",
       "3                                   False                   10          16   \n",
       "4                                   False                   10           4   \n",
       "..                                    ...                  ...         ...   \n",
       "967                                 False                   34          16   \n",
       "968                                 False                   34           4   \n",
       "969                                 False                   34          16   \n",
       "970                                 False                   34           4   \n",
       "971                                 False                   34          16   \n",
       "\n",
       "     hidden_channels  learning_rate  dropout_rate  mean_test_loss  test_acc  \\\n",
       "0                 16         0.0001           0.0        2.552126  0.965625   \n",
       "1                 16         0.0001           0.0        2.522591  0.996875   \n",
       "2                 16         0.0001           0.2        2.552032  0.965625   \n",
       "3                 16         0.0001           0.2        2.551805  0.965625   \n",
       "4                 16         0.0001           0.4        2.613653  0.903125   \n",
       "..               ...            ...           ...             ...       ...   \n",
       "967              128         0.0090           0.0        2.726481  0.799632   \n",
       "968              128         0.0090           0.2        3.386927  0.111213   \n",
       "969              128         0.0090           0.2        2.664758  0.858456   \n",
       "970              128         0.0090           0.4        3.440629  0.097426   \n",
       "971              128         0.0090           0.4        2.647964  0.878676   \n",
       "\n",
       "      test_f1  test_prec  test_reca  test_roc  pytorch_total_params  \n",
       "0    0.965625   0.965625   0.965625  0.998306                  9005  \n",
       "1    0.996875   0.996875   0.996875  0.999990                  9005  \n",
       "2    0.965625   0.965625   0.965625  0.999486                  9005  \n",
       "3    0.965625   0.965625   0.965625  0.999980                  9005  \n",
       "4    0.903125   0.903125   0.903125  0.987097                  9005  \n",
       "..        ...        ...        ...       ...                   ...  \n",
       "967  0.799632   0.799632   0.799632  0.986741                892576  \n",
       "968  0.111213   0.111213   0.111213  0.695825                892576  \n",
       "969  0.858456   0.858456   0.858456  0.992802                892576  \n",
       "970  0.097426   0.097426   0.097426  0.607034                892576  \n",
       "971  0.878676   0.878676   0.878676  0.996261                892576  \n",
       "\n",
       "[1836 rows x 16 columns]"
      ]
     },
     "execution_count": 35,
     "metadata": {},
     "output_type": "execute_result"
    }
   ],
   "source": [
    "results = pd.concat([results1,results2])\n",
    "results"
   ]
  },
  {
   "cell_type": "code",
   "execution_count": 36,
   "id": "developing-negative",
   "metadata": {},
   "outputs": [],
   "source": [
    "del results[\"remove_global_connections\"]\n",
    "del results[\"remove_baseline_signal_noise_removal\"]"
   ]
  },
  {
   "cell_type": "code",
   "execution_count": 9,
   "id": "german-combine",
   "metadata": {},
   "outputs": [],
   "source": [
    "models = ['GraphConv','GatedGraphConv','GCN','MLP','CNN','GRU']"
   ]
  },
  {
   "cell_type": "code",
   "execution_count": 17,
   "id": "closed-audio",
   "metadata": {},
   "outputs": [
    {
     "data": {
      "image/png": "[encoded data removed]",
      "text/plain": [
       "<Figure size 432x288 with 1 Axes>"
      ]
     },
     "metadata": {
      "needs_background": "light"
     },
     "output_type": "display_data"
    },
    {
     "name": "stdout",
     "output_type": "stream",
     "text": [
      "Ttest_indResult(statistic=9.006421131920511, pvalue=1.911149233487646e-17)\n"
     ]
    },
    {
     "data": {
      "image/png": "[encoded data removed]",
      "text/plain": [
       "<Figure size 432x288 with 1 Axes>"
      ]
     },
     "metadata": {
      "needs_background": "light"
     },
     "output_type": "display_data"
    },
    {
     "name": "stdout",
     "output_type": "stream",
     "text": [
      "Ttest_indResult(statistic=39.01899084840211, pvalue=2.9789645906960228e-99)\n"
     ]
    },
    {
     "data": {
      "image/png": "[encoded data removed]",
      "text/plain": [
       "<Figure size 432x288 with 1 Axes>"
      ]
     },
     "metadata": {
      "needs_background": "light"
     },
     "output_type": "display_data"
    },
    {
     "name": "stdout",
     "output_type": "stream",
     "text": [
      "Ttest_indResult(statistic=10.492162301595839, pvalue=2.3924232662745333e-22)\n"
     ]
    },
    {
     "data": {
      "image/png": "[encoded data removed]",
      "text/plain": [
       "<Figure size 432x288 with 1 Axes>"
      ]
     },
     "metadata": {
      "needs_background": "light"
     },
     "output_type": "display_data"
    },
    {
     "name": "stdout",
     "output_type": "stream",
     "text": [
      "Ttest_indResult(statistic=11.405446376189014, pvalue=1.5466688153988552e-25)\n"
     ]
    },
    {
     "data": {
      "image/png": "[encoded data removed]",
      "text/plain": [
       "<Figure size 432x288 with 1 Axes>"
      ]
     },
     "metadata": {
      "needs_background": "light"
     },
     "output_type": "display_data"
    },
    {
     "name": "stdout",
     "output_type": "stream",
     "text": [
      "Ttest_indResult(statistic=39.8617137406567, pvalue=1.4821755788511467e-126)\n"
     ]
    },
    {
     "data": {
      "image/png": "[encoded data removed]",
      "text/plain": [
       "<Figure size 432x288 with 1 Axes>"
      ]
     },
     "metadata": {
      "needs_background": "light"
     },
     "output_type": "display_data"
    },
    {
     "name": "stdout",
     "output_type": "stream",
     "text": [
      "Ttest_indResult(statistic=-0.5328430251443925, pvalue=0.5945097782797021)\n"
     ]
    }
   ],
   "source": [
    "for model_name in models:\n",
    "    wav_results = results[(results[\"model\"] == model_name) & (results[\"eeg_feature\"] == 'wav')]\n",
    "    wav_results_acc = wav_results.test_acc.to_numpy()\n",
    "\n",
    "    psd_results = results[(results[\"model\"] == model_name) & (results[\"eeg_feature\"] == 'psd')]\n",
    "    psd_results_acc = psd_results.test_acc.to_numpy()\n",
    "    \n",
    "    plt.bar(np.arange(0,len(wav_results_acc)), wav_results_acc)\n",
    "    plt.bar(np.arange(len(psd_results_acc), 2* len(psd_results_acc)), psd_results_acc)\n",
    "    plt.show()\n",
    "    \n",
    "    print(stats.ttest_ind(wav_results_acc,psd_results_acc))"
   ]
  },
  {
   "cell_type": "code",
   "execution_count": 15,
   "id": "aerial-profit",
   "metadata": {},
   "outputs": [
    {
     "data": {
      "image/png": "[encoded data removed]",
      "text/plain": [
       "<Figure size 432x288 with 1 Axes>"
      ]
     },
     "metadata": {
      "needs_background": "light"
     },
     "output_type": "display_data"
    },
    {
     "name": "stdout",
     "output_type": "stream",
     "text": [
      "Ttest_indResult(statistic=25.28747072915297, pvalue=2.757205732641998e-121)\n"
     ]
    }
   ],
   "source": [
    "wav_results = results[results[\"eeg_feature\"] == 'wav']\n",
    "wav_results_acc = wav_results.test_acc.to_numpy()\n",
    "\n",
    "psd_results = results[results[\"eeg_feature\"] == 'psd']\n",
    "psd_results_acc = psd_results.test_acc.to_numpy()\n",
    "\n",
    "plt.bar(np.arange(0,len(wav_results_acc)), wav_results_acc)\n",
    "plt.bar(np.arange(len(psd_results_acc), 2* len(psd_results_acc)), psd_results_acc)\n",
    "plt.show()\n",
    "\n",
    "print(stats.ttest_ind(wav_results_acc,psd_results_acc))"
   ]
  },
  {
   "cell_type": "code",
   "execution_count": 25,
   "id": "affected-parliament",
   "metadata": {
    "scrolled": false
   },
   "outputs": [
    {
     "name": "stdout",
     "output_type": "stream",
     "text": [
      "GraphConv\n",
      "Mean test accuracy (Overall): 0.45470924866860324\n",
      "Mean test accuracy (WE): 0.6103239984265311\n",
      "Mean test accuracy (PSD): 0.29909449891067535\n",
      "Max test accuracy (Overall): 0.9989583333333332\n",
      "Max test accuracy (WE): 0.9989583333333332\n",
      "Max test accuracy (PSD): 0.996875\n"
     ]
    },
    {
     "data": {
      "image/png": "[encoded data removed]",
      "text/plain": [
       "<Figure size 432x288 with 1 Axes>"
      ]
     },
     "metadata": {
      "needs_background": "light"
     },
     "output_type": "display_data"
    },
    {
     "name": "stdout",
     "output_type": "stream",
     "text": [
      "Ttest_indResult(statistic=9.006421131920511, pvalue=1.911149233487646e-17)\n",
      "GatedGraphConv\n",
      "Mean test accuracy (Overall): 0.5178836465141612\n",
      "Mean test accuracy (WE): 0.9104705655410312\n",
      "Mean test accuracy (PSD): 0.1252967274872912\n",
      "Max test accuracy (Overall): 0.9989583333333332\n",
      "Max test accuracy (WE): 0.9989583333333332\n",
      "Max test accuracy (PSD): 0.709375\n"
     ]
    },
    {
     "data": {
      "image/png": "[encoded data removed]",
      "text/plain": [
       "<Figure size 432x288 with 1 Axes>"
      ]
     },
     "metadata": {
      "needs_background": "light"
     },
     "output_type": "display_data"
    },
    {
     "name": "stdout",
     "output_type": "stream",
     "text": [
      "Ttest_indResult(statistic=39.01899084840211, pvalue=2.9789645906960228e-99)\n",
      "GCN\n",
      "Mean test accuracy (Overall): 0.4622581169813603\n",
      "Mean test accuracy (WE): 0.6245620007262164\n",
      "Mean test accuracy (PSD): 0.29995423323650444\n",
      "Max test accuracy (Overall): 0.996875\n",
      "Max test accuracy (WE): 0.996875\n",
      "Max test accuracy (PSD): 0.9125\n"
     ]
    },
    {
     "data": {
      "image/png": "[encoded data removed]",
      "text/plain": [
       "<Figure size 432x288 with 1 Axes>"
      ]
     },
     "metadata": {
      "needs_background": "light"
     },
     "output_type": "display_data"
    },
    {
     "name": "stdout",
     "output_type": "stream",
     "text": [
      "Ttest_indResult(statistic=10.492162301595839, pvalue=2.3924232662745333e-22)\n",
      "MLP\n",
      "Mean test accuracy (Overall): 0.22780690208182033\n",
      "Mean test accuracy (WE): 0.41001800411522626\n",
      "Mean test accuracy (PSD): 0.045595800048414424\n",
      "Max test accuracy (Overall): 1.0\n",
      "Max test accuracy (WE): 1.0\n",
      "Max test accuracy (PSD): 0.278125\n"
     ]
    },
    {
     "data": {
      "image/png": "[encoded data removed]",
      "text/plain": [
       "<Figure size 432x288 with 1 Axes>"
      ]
     },
     "metadata": {
      "needs_background": "light"
     },
     "output_type": "display_data"
    },
    {
     "name": "stdout",
     "output_type": "stream",
     "text": [
      "Ttest_indResult(statistic=11.405446376189014, pvalue=1.5466688153988552e-25)\n",
      "CNN\n",
      "Mean test accuracy (Overall): 0.5429659132171387\n",
      "Mean test accuracy (WE): 0.9182480785524085\n",
      "Mean test accuracy (PSD): 0.16768374788186877\n",
      "Max test accuracy (Overall): 1.0\n",
      "Max test accuracy (WE): 1.0\n",
      "Max test accuracy (PSD): 0.909375\n"
     ]
    },
    {
     "data": {
      "image/png": "[encoded data removed]",
      "text/plain": [
       "<Figure size 432x288 with 1 Axes>"
      ]
     },
     "metadata": {
      "needs_background": "light"
     },
     "output_type": "display_data"
    },
    {
     "name": "stdout",
     "output_type": "stream",
     "text": [
      "Ttest_indResult(statistic=39.8617137406567, pvalue=1.4821755788511467e-126)\n",
      "GRU\n",
      "Mean test accuracy (Overall): 0.7604819126724763\n",
      "Mean test accuracy (WE): 0.7513056765916243\n",
      "Mean test accuracy (PSD): 0.7696581487533285\n",
      "Max test accuracy (Overall): 1.0\n",
      "Max test accuracy (WE): 1.0\n",
      "Max test accuracy (PSD): 1.0\n"
     ]
    },
    {
     "data": {
      "image/png": "[encoded data removed]",
      "text/plain": [
       "<Figure size 432x288 with 1 Axes>"
      ]
     },
     "metadata": {
      "needs_background": "light"
     },
     "output_type": "display_data"
    },
    {
     "name": "stdout",
     "output_type": "stream",
     "text": [
      "Ttest_indResult(statistic=-0.5328430251443925, pvalue=0.5945097782797021)\n"
     ]
    }
   ],
   "source": [
    "for model_name in models:\n",
    "    print(model_name)\n",
    "    \n",
    "    model_results = results[results[\"model\"] == model_name]\n",
    "    model_results_acc = model_results.test_acc.to_numpy()\n",
    "    \n",
    "    wav_results = results[(results[\"model\"] == model_name) & (results[\"eeg_feature\"] == 'wav')]\n",
    "    wav_results_acc = wav_results.test_acc.to_numpy()\n",
    "\n",
    "    psd_results = results[(results[\"model\"] == model_name) & (results[\"eeg_feature\"] == 'psd')]\n",
    "    psd_results_acc = psd_results.test_acc.to_numpy()\n",
    "    \n",
    "    print(f'Mean test accuracy (Overall): {model_results_acc.mean()}')    \n",
    "    print(f'Mean test accuracy (WE): {wav_results_acc.mean()}')   \n",
    "    print(f'Mean test accuracy (PSD): {psd_results_acc.mean()}')   \n",
    "    print(f'Max test accuracy (Overall): {model_results_acc.max()}')    \n",
    "    print(f'Max test accuracy (WE): {wav_results_acc.max()}')   \n",
    "    print(f'Max test accuracy (PSD): {psd_results_acc.max()}')   \n",
    "    \n",
    "    \n",
    "    \n",
    "    plt.bar(np.arange(0,len(wav_results_acc)), wav_results_acc)\n",
    "    plt.bar(np.arange(len(psd_results_acc), 2* len(psd_results_acc)), psd_results_acc)\n",
    "    plt.show()\n",
    "    \n",
    "    print(stats.ttest_ind(wav_results_acc,psd_results_acc))\n",
    "    \n",
    "#     print(stats.ttest_ind(wav_results_acc,psd_results_acc))"
   ]
  },
  {
   "cell_type": "code",
   "execution_count": 28,
   "id": "unlimited-statement",
   "metadata": {},
   "outputs": [
    {
     "name": "stdout",
     "output_type": "stream",
     "text": [
      "GraphConv\n",
      "[  9005   9072  97325  97584 358445 358960]\n",
      "GatedGraphConv\n",
      "[ 98797  98800 394157 394160]\n",
      "GCN\n",
      "[  6605   6640  81581  81712 310573 310832]\n",
      "MLP\n",
      "[ 486544  617616 1976800 2501088 4035488 5084064]\n",
      "CNN\n",
      "[ 15421  15424  61549  61552 123053 123056]\n",
      "GRU\n",
      "[ 17712  22000 193632 241504 714912 892576]\n"
     ]
    }
   ],
   "source": [
    "for model_name in models:\n",
    "    print(model_name)\n",
    "    \n",
    "    model_results = results[results[\"model\"] == model_name]\n",
    "    model_results_params = model_results.pytorch_total_params.to_numpy()\n",
    "    \n",
    "    print(np.unique(model_results_params))\n",
    "    \n",
    "    \n",
    "#     print(stats.ttest_ind(wav_results_acc,psd_results_acc))"
   ]
  },
  {
   "cell_type": "code",
   "execution_count": 30,
   "id": "amazing-merchant",
   "metadata": {
    "scrolled": false
   },
   "outputs": [
    {
     "name": "stdout",
     "output_type": "stream",
     "text": [
      "GraphConv\n",
      "Mean test accuracy (Overall): 0.45470924866860324\n",
      "Mean test accuracy (WE): 0.572831563180828\n",
      "Mean test accuracy (PSD): 0.20353349673202606\n",
      "Max test accuracy (Overall): 0.9989583333333332\n",
      "Max test accuracy (WE): 0.96875\n",
      "Max test accuracy (PSD): 0.5625\n"
     ]
    },
    {
     "data": {
      "image/png": "[encoded data removed]",
      "text/plain": [
       "<Figure size 432x288 with 1 Axes>"
      ]
     },
     "metadata": {
      "needs_background": "light"
     },
     "output_type": "display_data"
    },
    {
     "name": "stdout",
     "output_type": "stream",
     "text": [
      "Ttest_indResult(statistic=9.013195087810914, pvalue=9.307829017006315e-15)\n",
      "GatedGraphConv\n",
      "Mean test accuracy (Overall): 0.5178836465141612\n",
      "Mean test accuracy (WE): 0.907858455882353\n",
      "Mean test accuracy (PSD): 0.07947814542483657\n",
      "Max test accuracy (Overall): 0.9989583333333332\n",
      "Max test accuracy (WE): 0.9944852941176472\n",
      "Max test accuracy (PSD): 0.3612132352941176\n"
     ]
    },
    {
     "data": {
      "image/png": "[encoded data removed]",
      "text/plain": [
       "<Figure size 432x288 with 1 Axes>"
      ]
     },
     "metadata": {
      "needs_background": "light"
     },
     "output_type": "display_data"
    },
    {
     "name": "stdout",
     "output_type": "stream",
     "text": [
      "Ttest_indResult(statistic=27.759684889500143, pvalue=1.6367221838037613e-39)\n",
      "GCN\n",
      "Mean test accuracy (Overall): 0.4622581169813603\n",
      "Mean test accuracy (WE): 0.6119961873638345\n",
      "Mean test accuracy (PSD): 0.19764433551198252\n",
      "Max test accuracy (Overall): 0.996875\n",
      "Max test accuracy (WE): 0.9053308823529412\n",
      "Max test accuracy (PSD): 0.4466911764705882\n"
     ]
    },
    {
     "data": {
      "image/png": "[encoded data removed]",
      "text/plain": [
       "<Figure size 432x288 with 1 Axes>"
      ]
     },
     "metadata": {
      "needs_background": "light"
     },
     "output_type": "display_data"
    },
    {
     "name": "stdout",
     "output_type": "stream",
     "text": [
      "Ttest_indResult(statistic=11.241155674846247, pvalue=8.943925774709193e-20)\n",
      "MLP\n",
      "Mean test accuracy (Overall): 0.22780690208182033\n",
      "Mean test accuracy (WE): 0.4386574074074074\n",
      "Mean test accuracy (PSD): 0.04440699891067537\n",
      "Max test accuracy (Overall): 1.0\n",
      "Max test accuracy (WE): 0.9954044117647058\n",
      "Max test accuracy (PSD): 0.1369485294117647\n"
     ]
    },
    {
     "data": {
      "image/png": "[encoded data removed]",
      "text/plain": [
       "<Figure size 432x288 with 1 Axes>"
      ]
     },
     "metadata": {
      "needs_background": "light"
     },
     "output_type": "display_data"
    },
    {
     "name": "stdout",
     "output_type": "stream",
     "text": [
      "Ttest_indResult(statistic=7.3246332936793, pvalue=4.905306896203641e-11)\n",
      "CNN\n",
      "Mean test accuracy (Overall): 0.5429659132171387\n",
      "Mean test accuracy (WE): 0.9367851307189542\n",
      "Mean test accuracy (PSD): 0.08055895969498905\n",
      "Max test accuracy (Overall): 1.0\n",
      "Max test accuracy (WE): 0.9990808823529412\n",
      "Max test accuracy (PSD): 0.2876838235294117\n"
     ]
    },
    {
     "data": {
      "image/png": "[encoded data removed]",
      "text/plain": [
       "<Figure size 432x288 with 1 Axes>"
      ]
     },
     "metadata": {
      "needs_background": "light"
     },
     "output_type": "display_data"
    },
    {
     "name": "stdout",
     "output_type": "stream",
     "text": [
      "Ttest_indResult(statistic=55.214809250181474, pvalue=6.19668635650586e-80)\n",
      "GRU\n",
      "Mean test accuracy (Overall): 0.7604819126724763\n",
      "Mean test accuracy (WE): 0.7405875544662308\n",
      "Mean test accuracy (PSD): 0.822882625272331\n",
      "Max test accuracy (Overall): 1.0\n",
      "Max test accuracy (WE): 0.9512867647058824\n",
      "Max test accuracy (PSD): 0.9990808823529412\n"
     ]
    },
    {
     "data": {
      "image/png": "[encoded data removed]",
      "text/plain": [
       "<Figure size 432x288 with 1 Axes>"
      ]
     },
     "metadata": {
      "needs_background": "light"
     },
     "output_type": "display_data"
    },
    {
     "name": "stdout",
     "output_type": "stream",
     "text": [
      "Ttest_indResult(statistic=-1.8427310406512039, pvalue=0.06816286248200001)\n"
     ]
    }
   ],
   "source": [
    "for model_name in models:\n",
    "    print(model_name)\n",
    "    \n",
    "    model_results = results[results[\"model\"] == model_name]\n",
    "    model_results_acc = model_results.test_acc.to_numpy()\n",
    "    \n",
    "    wav_results = results[(results[\"model\"] == model_name) & (results[\"eeg_feature\"] == 'wav') & (results[\"number_test_targets\"] == 34)]\n",
    "    wav_results_acc = wav_results.test_acc.to_numpy()\n",
    "\n",
    "    psd_results = results[(results[\"model\"] == model_name) & (results[\"eeg_feature\"] == 'psd') & (results[\"number_test_targets\"] == 34)]\n",
    "    psd_results_acc = psd_results.test_acc.to_numpy()\n",
    "    \n",
    "    print(f'Mean test accuracy (Overall): {model_results_acc.mean()}')    \n",
    "    print(f'Mean test accuracy (WE): {wav_results_acc.mean()}')   \n",
    "    print(f'Mean test accuracy (PSD): {psd_results_acc.mean()}')   \n",
    "    print(f'Max test accuracy (Overall): {model_results_acc.max()}')    \n",
    "    print(f'Max test accuracy (WE): {wav_results_acc.max()}')   \n",
    "    print(f'Max test accuracy (PSD): {psd_results_acc.max()}')   \n",
    "    \n",
    "    \n",
    "    \n",
    "    plt.bar(np.arange(0,len(wav_results_acc)), wav_results_acc)\n",
    "    plt.bar(np.arange(len(psd_results_acc), 2* len(psd_results_acc)), psd_results_acc)\n",
    "    plt.show()\n",
    "    \n",
    "    print(stats.ttest_ind(wav_results_acc,psd_results_acc))\n",
    "    \n",
    "#     print(stats.ttest_ind(wav_results_acc,psd_results_acc))"
   ]
  },
  {
   "cell_type": "code",
   "execution_count": 47,
   "id": "neutral-prompt",
   "metadata": {
    "scrolled": false
   },
   "outputs": [
    {
     "name": "stdout",
     "output_type": "stream",
     "text": [
      "GraphConv\n",
      "Mean test accuracy (16 hidden channels): 0.5416076615831519\n",
      "> 95% test accuracy (16 hidden channels): 10\n",
      "Mean test accuracy (64 hidden channels): 0.4751157407407406\n",
      "> 95% test accuracy (64 hidden channels): 17\n",
      "Mean test accuracy (128 hidden channels): 0.34740434368191725\n",
      "> 95% test accuracy (128 hidden channels): 18\n"
     ]
    },
    {
     "data": {
      "image/png": "[encoded data removed]",
      "text/plain": [
       "<Figure size 432x288 with 1 Axes>"
      ]
     },
     "metadata": {
      "needs_background": "light"
     },
     "output_type": "display_data"
    },
    {
     "name": "stdout",
     "output_type": "stream",
     "text": [
      "GatedGraphConv\n",
      "Mean test accuracy (64 hidden channels): 0.517771309912854\n",
      "> 95% test accuracy (64 hidden channels): 30\n",
      "Mean test accuracy (128 hidden channels): 0.5179959831154685\n",
      "> 95% test accuracy (128 hidden channels): 30\n"
     ]
    },
    {
     "data": {
      "image/png": "[encoded data removed]",
      "text/plain": [
       "<Figure size 432x288 with 1 Axes>"
      ]
     },
     "metadata": {
      "needs_background": "light"
     },
     "output_type": "display_data"
    },
    {
     "name": "stdout",
     "output_type": "stream",
     "text": [
      "GCN\n",
      "Mean test accuracy (16 hidden channels): 0.563719816630356\n",
      "> 95% test accuracy (16 hidden channels): 3\n",
      "Mean test accuracy (64 hidden channels): 0.4764115831517792\n",
      "> 95% test accuracy (64 hidden channels): 7\n",
      "Mean test accuracy (128 hidden channels): 0.3466429511619462\n",
      "> 95% test accuracy (128 hidden channels): 11\n"
     ]
    },
    {
     "data": {
      "image/png": "[encoded data removed]",
      "text/plain": [
       "<Figure size 432x288 with 1 Axes>"
      ]
     },
     "metadata": {
      "needs_background": "light"
     },
     "output_type": "display_data"
    },
    {
     "name": "stdout",
     "output_type": "stream",
     "text": [
      "MLP\n",
      "Mean test accuracy (16 hidden channels): 0.2707255355846042\n",
      "> 95% test accuracy (16 hidden channels): 2\n",
      "Mean test accuracy (64 hidden channels): 0.216757443718228\n",
      "> 95% test accuracy (64 hidden channels): 12\n",
      "Mean test accuracy (128 hidden channels): 0.1959377269426289\n",
      "> 95% test accuracy (128 hidden channels): 18\n"
     ]
    },
    {
     "data": {
      "image/png": "[encoded data removed]",
      "text/plain": [
       "<Figure size 432x288 with 1 Axes>"
      ]
     },
     "metadata": {
      "needs_background": "light"
     },
     "output_type": "display_data"
    },
    {
     "name": "stdout",
     "output_type": "stream",
     "text": [
      "CNN\n",
      "Mean test accuracy (16 hidden channels): 0.5488068491285402\n",
      "> 95% test accuracy (16 hidden channels): 24\n",
      "Mean test accuracy (64 hidden channels): 0.5502433959694989\n",
      "> 95% test accuracy (64 hidden channels): 36\n",
      "Mean test accuracy (128 hidden channels): 0.5298474945533769\n",
      "> 95% test accuracy (128 hidden channels): 36\n"
     ]
    },
    {
     "data": {
      "image/png": "[encoded data removed]",
      "text/plain": [
       "<Figure size 432x288 with 1 Axes>"
      ]
     },
     "metadata": {
      "needs_background": "light"
     },
     "output_type": "display_data"
    },
    {
     "name": "stdout",
     "output_type": "stream",
     "text": [
      "GRU\n",
      "Mean test accuracy (16 hidden channels): 0.8755560094408134\n",
      "> 95% test accuracy (16 hidden channels): 42\n",
      "Mean test accuracy (64 hidden channels): 0.7856050290486566\n",
      "> 95% test accuracy (64 hidden channels): 46\n",
      "Mean test accuracy (128 hidden channels): 0.6202846995279593\n",
      "> 95% test accuracy (128 hidden channels): 38\n"
     ]
    },
    {
     "data": {
      "image/png": "[encoded data removed]",
      "text/plain": [
       "<Figure size 432x288 with 1 Axes>"
      ]
     },
     "metadata": {
      "needs_background": "light"
     },
     "output_type": "display_data"
    }
   ],
   "source": [
    "hidden_channels = [16, 64 ,128]\n",
    "for model_name in models:\n",
    "    print(model_name)\n",
    "    idx = 0 \n",
    "    for hc in hidden_channels:\n",
    "    \n",
    "        hc_results = results[(results[\"model\"] == model_name) & (results[\"hidden_channels\"] == hc)]\n",
    "        hc_results_acc = hc_results.test_acc.to_numpy()\n",
    "        if len(hc_results_acc) != 0:\n",
    "            print(f'Mean test accuracy ({hc} hidden channels): {hc_results_acc.mean()}')  \n",
    "            print(f'> 95% test accuracy ({hc} hidden channels): {(hc_results_acc > 0.95).sum()}') \n",
    "            plt.bar(np.arange(idx,idx+len(hc_results_acc)), hc_results_acc)\n",
    "            idx += len(hc_results_acc)\n",
    "    plt.show()\n",
    "\n",
    "#     psd_results = results[(results[\"model\"] == model_name) & (results[\"eeg_feature\"] == 'psd') & (results[\"number_test_targets\"] == 34)]\n",
    "#     psd_results_acc = psd_results.test_acc.to_numpy()\n",
    "    \n",
    "      \n",
    "#     print(f'Mean test accuracy (WE): {wav_results_acc.mean()}')   \n",
    "#     print(f'Mean test accuracy (PSD): {psd_results_acc.mean()}')   \n",
    "#     print(f'Max test accuracy (Overall): {model_results_acc.max()}')    \n",
    "#     print(f'Max test accuracy (WE): {wav_results_acc.max()}')   \n",
    "#     print(f'Max test accuracy (PSD): {psd_results_acc.max()}')   \n",
    "    \n",
    "    \n",
    "    \n",
    "#     \n",
    "#     plt.bar(np.arange(len(psd_results_acc), 2* len(psd_results_acc)), psd_results_acc)\n",
    "#     plt.show()\n",
    "    \n",
    "#     print(stats.ttest_ind(wav_results_acc,psd_results_acc))"
   ]
  },
  {
   "cell_type": "code",
   "execution_count": 21,
   "id": "virtual-temperature",
   "metadata": {
    "scrolled": true
   },
   "outputs": [
    {
     "data": {
      "text/html": [
       "<div>\n",
       "<style scoped>\n",
       "    .dataframe tbody tr th:only-of-type {\n",
       "        vertical-align: middle;\n",
       "    }\n",
       "\n",
       "    .dataframe tbody tr th {\n",
       "        vertical-align: top;\n",
       "    }\n",
       "\n",
       "    .dataframe thead th {\n",
       "        text-align: right;\n",
       "    }\n",
       "</style>\n",
       "<table border=\"1\" class=\"dataframe\">\n",
       "  <thead>\n",
       "    <tr style=\"text-align: right;\">\n",
       "      <th></th>\n",
       "      <th>model</th>\n",
       "      <th>eeg_feature</th>\n",
       "      <th>number_test_targets</th>\n",
       "      <th>batch_size</th>\n",
       "      <th>hidden_channels</th>\n",
       "      <th>learning_rate</th>\n",
       "      <th>dropout_rate</th>\n",
       "      <th>mean_test_loss</th>\n",
       "      <th>test_acc</th>\n",
       "      <th>test_f1</th>\n",
       "      <th>test_prec</th>\n",
       "      <th>test_reca</th>\n",
       "      <th>test_roc</th>\n",
       "      <th>pytorch_total_params</th>\n",
       "    </tr>\n",
       "  </thead>\n",
       "  <tbody>\n",
       "    <tr>\n",
       "      <th>0</th>\n",
       "      <td>GraphConv</td>\n",
       "      <td>wav</td>\n",
       "      <td>10</td>\n",
       "      <td>4</td>\n",
       "      <td>16</td>\n",
       "      <td>0.0001</td>\n",
       "      <td>0.0</td>\n",
       "      <td>2.552126</td>\n",
       "      <td>0.965625</td>\n",
       "      <td>0.965625</td>\n",
       "      <td>0.965625</td>\n",
       "      <td>0.965625</td>\n",
       "      <td>0.998306</td>\n",
       "      <td>9005</td>\n",
       "    </tr>\n",
       "    <tr>\n",
       "      <th>1</th>\n",
       "      <td>GraphConv</td>\n",
       "      <td>wav</td>\n",
       "      <td>10</td>\n",
       "      <td>16</td>\n",
       "      <td>16</td>\n",
       "      <td>0.0001</td>\n",
       "      <td>0.0</td>\n",
       "      <td>2.522591</td>\n",
       "      <td>0.996875</td>\n",
       "      <td>0.996875</td>\n",
       "      <td>0.996875</td>\n",
       "      <td>0.996875</td>\n",
       "      <td>0.999990</td>\n",
       "      <td>9005</td>\n",
       "    </tr>\n",
       "    <tr>\n",
       "      <th>2</th>\n",
       "      <td>GraphConv</td>\n",
       "      <td>wav</td>\n",
       "      <td>10</td>\n",
       "      <td>4</td>\n",
       "      <td>16</td>\n",
       "      <td>0.0001</td>\n",
       "      <td>0.2</td>\n",
       "      <td>2.552032</td>\n",
       "      <td>0.965625</td>\n",
       "      <td>0.965625</td>\n",
       "      <td>0.965625</td>\n",
       "      <td>0.965625</td>\n",
       "      <td>0.999486</td>\n",
       "      <td>9005</td>\n",
       "    </tr>\n",
       "    <tr>\n",
       "      <th>3</th>\n",
       "      <td>GraphConv</td>\n",
       "      <td>wav</td>\n",
       "      <td>10</td>\n",
       "      <td>16</td>\n",
       "      <td>16</td>\n",
       "      <td>0.0001</td>\n",
       "      <td>0.2</td>\n",
       "      <td>2.551805</td>\n",
       "      <td>0.965625</td>\n",
       "      <td>0.965625</td>\n",
       "      <td>0.965625</td>\n",
       "      <td>0.965625</td>\n",
       "      <td>0.999980</td>\n",
       "      <td>9005</td>\n",
       "    </tr>\n",
       "    <tr>\n",
       "      <th>4</th>\n",
       "      <td>GraphConv</td>\n",
       "      <td>wav</td>\n",
       "      <td>10</td>\n",
       "      <td>4</td>\n",
       "      <td>16</td>\n",
       "      <td>0.0001</td>\n",
       "      <td>0.4</td>\n",
       "      <td>2.613653</td>\n",
       "      <td>0.903125</td>\n",
       "      <td>0.903125</td>\n",
       "      <td>0.903125</td>\n",
       "      <td>0.903125</td>\n",
       "      <td>0.987097</td>\n",
       "      <td>9005</td>\n",
       "    </tr>\n",
       "    <tr>\n",
       "      <th>...</th>\n",
       "      <td>...</td>\n",
       "      <td>...</td>\n",
       "      <td>...</td>\n",
       "      <td>...</td>\n",
       "      <td>...</td>\n",
       "      <td>...</td>\n",
       "      <td>...</td>\n",
       "      <td>...</td>\n",
       "      <td>...</td>\n",
       "      <td>...</td>\n",
       "      <td>...</td>\n",
       "      <td>...</td>\n",
       "      <td>...</td>\n",
       "      <td>...</td>\n",
       "    </tr>\n",
       "    <tr>\n",
       "      <th>967</th>\n",
       "      <td>GRU</td>\n",
       "      <td>psd</td>\n",
       "      <td>34</td>\n",
       "      <td>16</td>\n",
       "      <td>128</td>\n",
       "      <td>0.0090</td>\n",
       "      <td>0.0</td>\n",
       "      <td>2.726481</td>\n",
       "      <td>0.799632</td>\n",
       "      <td>0.799632</td>\n",
       "      <td>0.799632</td>\n",
       "      <td>0.799632</td>\n",
       "      <td>0.986741</td>\n",
       "      <td>892576</td>\n",
       "    </tr>\n",
       "    <tr>\n",
       "      <th>968</th>\n",
       "      <td>GRU</td>\n",
       "      <td>psd</td>\n",
       "      <td>34</td>\n",
       "      <td>4</td>\n",
       "      <td>128</td>\n",
       "      <td>0.0090</td>\n",
       "      <td>0.2</td>\n",
       "      <td>3.386927</td>\n",
       "      <td>0.111213</td>\n",
       "      <td>0.111213</td>\n",
       "      <td>0.111213</td>\n",
       "      <td>0.111213</td>\n",
       "      <td>0.695825</td>\n",
       "      <td>892576</td>\n",
       "    </tr>\n",
       "    <tr>\n",
       "      <th>969</th>\n",
       "      <td>GRU</td>\n",
       "      <td>psd</td>\n",
       "      <td>34</td>\n",
       "      <td>16</td>\n",
       "      <td>128</td>\n",
       "      <td>0.0090</td>\n",
       "      <td>0.2</td>\n",
       "      <td>2.664758</td>\n",
       "      <td>0.858456</td>\n",
       "      <td>0.858456</td>\n",
       "      <td>0.858456</td>\n",
       "      <td>0.858456</td>\n",
       "      <td>0.992802</td>\n",
       "      <td>892576</td>\n",
       "    </tr>\n",
       "    <tr>\n",
       "      <th>970</th>\n",
       "      <td>GRU</td>\n",
       "      <td>psd</td>\n",
       "      <td>34</td>\n",
       "      <td>4</td>\n",
       "      <td>128</td>\n",
       "      <td>0.0090</td>\n",
       "      <td>0.4</td>\n",
       "      <td>3.440629</td>\n",
       "      <td>0.097426</td>\n",
       "      <td>0.097426</td>\n",
       "      <td>0.097426</td>\n",
       "      <td>0.097426</td>\n",
       "      <td>0.607034</td>\n",
       "      <td>892576</td>\n",
       "    </tr>\n",
       "    <tr>\n",
       "      <th>971</th>\n",
       "      <td>GRU</td>\n",
       "      <td>psd</td>\n",
       "      <td>34</td>\n",
       "      <td>16</td>\n",
       "      <td>128</td>\n",
       "      <td>0.0090</td>\n",
       "      <td>0.4</td>\n",
       "      <td>2.647964</td>\n",
       "      <td>0.878676</td>\n",
       "      <td>0.878676</td>\n",
       "      <td>0.878676</td>\n",
       "      <td>0.878676</td>\n",
       "      <td>0.996261</td>\n",
       "      <td>892576</td>\n",
       "    </tr>\n",
       "  </tbody>\n",
       "</table>\n",
       "<p>1836 rows × 14 columns</p>\n",
       "</div>"
      ],
      "text/plain": [
       "         model eeg_feature  number_test_targets  batch_size  hidden_channels  \\\n",
       "0    GraphConv         wav                   10           4               16   \n",
       "1    GraphConv         wav                   10          16               16   \n",
       "2    GraphConv         wav                   10           4               16   \n",
       "3    GraphConv         wav                   10          16               16   \n",
       "4    GraphConv         wav                   10           4               16   \n",
       "..         ...         ...                  ...         ...              ...   \n",
       "967        GRU         psd                   34          16              128   \n",
       "968        GRU         psd                   34           4              128   \n",
       "969        GRU         psd                   34          16              128   \n",
       "970        GRU         psd                   34           4              128   \n",
       "971        GRU         psd                   34          16              128   \n",
       "\n",
       "     learning_rate  dropout_rate  mean_test_loss  test_acc   test_f1  \\\n",
       "0           0.0001           0.0        2.552126  0.965625  0.965625   \n",
       "1           0.0001           0.0        2.522591  0.996875  0.996875   \n",
       "2           0.0001           0.2        2.552032  0.965625  0.965625   \n",
       "3           0.0001           0.2        2.551805  0.965625  0.965625   \n",
       "4           0.0001           0.4        2.613653  0.903125  0.903125   \n",
       "..             ...           ...             ...       ...       ...   \n",
       "967         0.0090           0.0        2.726481  0.799632  0.799632   \n",
       "968         0.0090           0.2        3.386927  0.111213  0.111213   \n",
       "969         0.0090           0.2        2.664758  0.858456  0.858456   \n",
       "970         0.0090           0.4        3.440629  0.097426  0.097426   \n",
       "971         0.0090           0.4        2.647964  0.878676  0.878676   \n",
       "\n",
       "     test_prec  test_reca  test_roc  pytorch_total_params  \n",
       "0     0.965625   0.965625  0.998306                  9005  \n",
       "1     0.996875   0.996875  0.999990                  9005  \n",
       "2     0.965625   0.965625  0.999486                  9005  \n",
       "3     0.965625   0.965625  0.999980                  9005  \n",
       "4     0.903125   0.903125  0.987097                  9005  \n",
       "..         ...        ...       ...                   ...  \n",
       "967   0.799632   0.799632  0.986741                892576  \n",
       "968   0.111213   0.111213  0.695825                892576  \n",
       "969   0.858456   0.858456  0.992802                892576  \n",
       "970   0.097426   0.097426  0.607034                892576  \n",
       "971   0.878676   0.878676  0.996261                892576  \n",
       "\n",
       "[1836 rows x 14 columns]"
      ]
     },
     "execution_count": 21,
     "metadata": {},
     "output_type": "execute_result"
    }
   ],
   "source": [
    "results"
   ]
  },
  {
   "cell_type": "code",
   "execution_count": 90,
   "id": "strategic-bandwidth",
   "metadata": {},
   "outputs": [],
   "source": [
    "f1 = open(\"test1_log.txt\", \"r\")\n",
    "f2 = open(\"test2_log.txt\", \"r\")\n",
    "\n",
    "lines = f1.readlines()\n",
    "lines2 = f2.readlines()\n",
    "\n",
    "lines.extend(lines2)\n",
    "\n",
    "next_is_log = False\n",
    "times = {}\n",
    "for line in lines:\n",
    "#     print(line)\n",
    "    if next_is_log:\n",
    "        next_is_log = False\n",
    "        time = float(line.split('Training time (s): ')[1].split('n')[0][:-1])\n",
    "#         print(time)\n",
    "        if model in times.keys():\n",
    "            times[model].append(time)\n",
    "        else:\n",
    "            times[model] = [time]\n",
    "    elif \"-hc 64\" in line or \"-hc 128\" in line:\n",
    "        model = line.split('-m ')[1].split(' ')[0]\n",
    "#         print(model)\n",
    "        next_is_log = True"
   ]
  },
  {
   "cell_type": "code",
   "execution_count": 87,
   "id": "exceptional-arkansas",
   "metadata": {
    "scrolled": true
   },
   "outputs": [
    {
     "name": "stdout",
     "output_type": "stream",
     "text": [
      "GraphConv 33.41875\n",
      "GatedGraphConv 29.559305555555557\n",
      "GCN 59.14625000000001\n",
      "MLP 11.40152777777778\n",
      "CNN 26.339074074074073\n",
      "GRU 85.15287037037037\n"
     ]
    }
   ],
   "source": [
    "for key in times.keys():\n",
    "    a = times[key]\n",
    "    a = np.array(a)\n",
    "    print(key, a.mean())"
   ]
  },
  {
   "cell_type": "code",
   "execution_count": 107,
   "id": "fifty-schema",
   "metadata": {},
   "outputs": [
    {
     "name": "stdout",
     "output_type": "stream",
     "text": [
      "211\n",
      "542\n",
      "194\n",
      "302\n",
      "309\n",
      "500\n",
      "139\n",
      "103\n",
      "78\n",
      "88\n",
      "49\n",
      "162\n",
      "33\n",
      "135\n",
      "49\n",
      "82\n",
      "59\n",
      "49\n",
      "161\n",
      "426\n",
      "92\n",
      "186\n",
      "98\n",
      "183\n",
      "38\n",
      "54\n",
      "32\n",
      "45\n",
      "53\n",
      "49\n",
      "31\n",
      "35\n",
      "35\n",
      "31\n",
      "31\n",
      "34\n",
      "67\n",
      "174\n",
      "65\n",
      "112\n",
      "99\n",
      "102\n",
      "31\n",
      "31\n",
      "31\n",
      "31\n",
      "31\n",
      "37\n",
      "31\n",
      "31\n",
      "31\n",
      "31\n",
      "31\n",
      "31\n",
      "420\n",
      "1743\n",
      "568\n",
      "1016\n",
      "869\n",
      "1438\n",
      "104\n",
      "443\n",
      "99\n",
      "197\n",
      "85\n",
      "93\n",
      "74\n",
      "70\n",
      "79\n",
      "119\n",
      "83\n",
      "161\n",
      "217\n",
      "470\n",
      "214\n",
      "381\n",
      "264\n",
      "666\n",
      "69\n",
      "167\n",
      "71\n",
      "72\n",
      "117\n",
      "62\n",
      "36\n",
      "41\n",
      "31\n",
      "45\n",
      "42\n",
      "45\n",
      "155\n",
      "257\n",
      "168\n",
      "237\n",
      "134\n",
      "167\n",
      "31\n",
      "48\n",
      "39\n",
      "59\n",
      "31\n",
      "53\n",
      "31\n",
      "32\n",
      "31\n",
      "31\n",
      "31\n",
      "32\n",
      "727\n",
      "1629\n",
      "784\n",
      "1411\n",
      "1121\n",
      "1809\n",
      "432\n",
      "399\n",
      "139\n",
      "234\n",
      "99\n",
      "106\n",
      "31\n",
      "148\n",
      "88\n",
      "117\n",
      "76\n",
      "78\n",
      "1719\n",
      "2869\n",
      "1629\n",
      "872\n",
      "736\n",
      "966\n",
      "63\n",
      "194\n",
      "80\n",
      "79\n",
      "105\n",
      "153\n",
      "42\n",
      "99\n",
      "48\n",
      "82\n",
      "42\n",
      "105\n",
      "1433\n",
      "1851\n",
      "160\n",
      "1424\n",
      "622\n",
      "221\n",
      "31\n",
      "98\n",
      "40\n",
      "93\n",
      "59\n",
      "117\n",
      "31\n",
      "31\n",
      "35\n",
      "33\n",
      "31\n",
      "82\n",
      "439\n",
      "461\n",
      "420\n",
      "441\n",
      "265\n",
      "477\n",
      "184\n",
      "194\n",
      "165\n",
      "81\n",
      "71\n",
      "93\n",
      "37\n",
      "175\n",
      "58\n",
      "76\n",
      "32\n",
      "37\n",
      "222\n",
      "329\n",
      "220\n",
      "265\n",
      "158\n",
      "255\n",
      "31\n",
      "101\n",
      "35\n",
      "69\n",
      "31\n",
      "77\n",
      "31\n",
      "36\n",
      "31\n",
      "32\n",
      "31\n",
      "34\n",
      "125\n",
      "234\n",
      "113\n",
      "371\n",
      "239\n",
      "277\n",
      "31\n",
      "31\n",
      "31\n",
      "31\n",
      "31\n",
      "31\n",
      "31\n",
      "31\n",
      "31\n",
      "31\n",
      "31\n",
      "31\n",
      "435\n",
      "182\n",
      "230\n",
      "650\n",
      "492\n",
      "448\n",
      "118\n",
      "185\n",
      "227\n",
      "110\n",
      "83\n",
      "180\n",
      "31\n",
      "44\n",
      "33\n",
      "44\n",
      "46\n",
      "65\n",
      "86\n",
      "196\n",
      "123\n",
      "455\n",
      "397\n",
      "283\n",
      "32\n",
      "118\n",
      "32\n",
      "110\n",
      "35\n",
      "35\n",
      "32\n",
      "31\n",
      "32\n",
      "79\n",
      "33\n",
      "39\n",
      "511\n",
      "220\n",
      "230\n",
      "169\n",
      "235\n",
      "244\n",
      "31\n",
      "35\n",
      "31\n",
      "34\n",
      "33\n",
      "51\n",
      "31\n",
      "33\n",
      "31\n",
      "41\n",
      "31\n",
      "34\n",
      "469\n",
      "291\n",
      "232\n",
      "64\n",
      "296\n",
      "41\n",
      "221\n",
      "289\n",
      "51\n",
      "146\n",
      "104\n",
      "125\n",
      "122\n",
      "119\n",
      "125\n",
      "85\n",
      "63\n",
      "79\n",
      "258\n",
      "237\n",
      "261\n",
      "237\n",
      "222\n",
      "272\n",
      "170\n",
      "222\n",
      "161\n",
      "81\n",
      "47\n",
      "162\n",
      "32\n",
      "49\n",
      "38\n",
      "88\n",
      "37\n",
      "62\n",
      "1954\n",
      "4468\n",
      "73\n",
      "157\n",
      "152\n",
      "234\n",
      "39\n",
      "83\n",
      "36\n",
      "31\n",
      "31\n",
      "71\n",
      "31\n",
      "37\n",
      "31\n",
      "42\n",
      "31\n",
      "46\n"
     ]
    },
    {
     "ename": "IndexError",
     "evalue": "list index out of range",
     "output_type": "error",
     "traceback": [
      "\u001b[0;31m---------------------------------------------------------------------------\u001b[0m",
      "\u001b[0;31mIndexError\u001b[0m                                Traceback (most recent call last)",
      "\u001b[0;32m<ipython-input-107-139f2bdc2b87>\u001b[0m in \u001b[0;36m<module>\u001b[0;34m\u001b[0m\n\u001b[1;32m     13\u001b[0m     \u001b[0;32mif\u001b[0m \u001b[0mnext_is_log\u001b[0m\u001b[0;34m:\u001b[0m\u001b[0;34m\u001b[0m\u001b[0;34m\u001b[0m\u001b[0m\n\u001b[1;32m     14\u001b[0m         \u001b[0mnext_is_log\u001b[0m \u001b[0;34m=\u001b[0m \u001b[0;32mFalse\u001b[0m\u001b[0;34m\u001b[0m\u001b[0;34m\u001b[0m\u001b[0m\n\u001b[0;32m---> 15\u001b[0;31m         \u001b[0mtime\u001b[0m \u001b[0;34m=\u001b[0m \u001b[0mint\u001b[0m\u001b[0;34m(\u001b[0m\u001b[0mline\u001b[0m\u001b[0;34m.\u001b[0m\u001b[0msplit\u001b[0m\u001b[0;34m(\u001b[0m\u001b[0;34m'Total epochs: '\u001b[0m\u001b[0;34m)\u001b[0m\u001b[0;34m[\u001b[0m\u001b[0;36m1\u001b[0m\u001b[0;34m]\u001b[0m\u001b[0;34m.\u001b[0m\u001b[0msplit\u001b[0m\u001b[0;34m(\u001b[0m\u001b[0;34m' '\u001b[0m\u001b[0;34m)\u001b[0m\u001b[0;34m[\u001b[0m\u001b[0;36m0\u001b[0m\u001b[0;34m]\u001b[0m\u001b[0;34m)\u001b[0m\u001b[0;34m\u001b[0m\u001b[0;34m\u001b[0m\u001b[0m\n\u001b[0m\u001b[1;32m     16\u001b[0m \u001b[0;31m#         time = 1\u001b[0m\u001b[0;34m\u001b[0m\u001b[0;34m\u001b[0m\u001b[0;34m\u001b[0m\u001b[0m\n\u001b[1;32m     17\u001b[0m         \u001b[0mprint\u001b[0m\u001b[0;34m(\u001b[0m\u001b[0mtime\u001b[0m\u001b[0;34m)\u001b[0m\u001b[0;34m\u001b[0m\u001b[0;34m\u001b[0m\u001b[0m\n",
      "\u001b[0;31mIndexError\u001b[0m: list index out of range"
     ]
    }
   ],
   "source": [
    "f1 = open(\"test1_log.txt\", \"r\")\n",
    "f2 = open(\"test2_log.txt\", \"r\")\n",
    "\n",
    "lines = f1.readlines()\n",
    "lines2 = f2.readlines()\n",
    "\n",
    "lines.extend(lines2)\n",
    "\n",
    "next_is_log = False\n",
    "epochs = {}\n",
    "for line in lines:\n",
    "#     print(line)\n",
    "    if next_is_log:\n",
    "        next_is_log = False\n",
    "        time = int(line.split('Total epochs: ')[1].split(' ')[0])\n",
    "#         time = 1\n",
    "        print(time)\n",
    "        if model in epochs.keys():\n",
    "            epochs[model].append(time)\n",
    "        else:\n",
    "            epochs[model] = [time]\n",
    "    elif \"-hc\" in line or \"-hc 128\" in line:\n",
    "        model = line.split('-m ')[1].split(' ')[0]\n",
    "#         print(model)\n",
    "        next_is_log = True"
   ]
  },
  {
   "cell_type": "code",
   "execution_count": 108,
   "id": "cognitive-spank",
   "metadata": {},
   "outputs": [
    {
     "name": "stdout",
     "output_type": "stream",
     "text": [
      "GraphConv 222.0\n"
     ]
    }
   ],
   "source": [
    "for key in epochs.keys():\n",
    "    a = epochs[key]\n",
    "    a = np.array(a)\n",
    "    print(key, f'{a.mean():.1f}')"
   ]
  }
 ],
 "metadata": {
  "kernelspec": {
   "display_name": "torch",
   "language": "python",
   "name": "torch"
  },
  "language_info": {
   "codemirror_mode": {
    "name": "ipython",
    "version": 3
   },
   "file_extension": ".py",
   "mimetype": "text/x-python",
   "name": "python",
   "nbconvert_exporter": "python",
   "pygments_lexer": "ipython3",
   "version": "3.8.5"
  }
 },
 "nbformat": 4,
 "nbformat_minor": 5
}
