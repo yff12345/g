{
 "cells": [
  {
   "cell_type": "code",
   "execution_count": 1,
   "id": "useful-nancy",
   "metadata": {},
   "outputs": [],
   "source": [
    "import pandas as pd\n",
    "import numpy as np\n",
    "import matplotlib.pyplot as plt"
   ]
  },
  {
   "cell_type": "code",
   "execution_count": 2,
   "id": "endangered-labor",
   "metadata": {},
   "outputs": [
    {
     "data": {
      "text/html": [
       "<div>\n",
       "<style scoped>\n",
       "    .dataframe tbody tr th:only-of-type {\n",
       "        vertical-align: middle;\n",
       "    }\n",
       "\n",
       "    .dataframe tbody tr th {\n",
       "        vertical-align: top;\n",
       "    }\n",
       "\n",
       "    .dataframe thead th {\n",
       "        text-align: right;\n",
       "    }\n",
       "</style>\n",
       "<table border=\"1\" class=\"dataframe\">\n",
       "  <thead>\n",
       "    <tr style=\"text-align: right;\">\n",
       "      <th></th>\n",
       "      <th>model</th>\n",
       "      <th>eeg_feature</th>\n",
       "      <th>remove_global_connections</th>\n",
       "      <th>remove_baseline_signal_noise_removal</th>\n",
       "      <th>number_test_targets</th>\n",
       "      <th>number_validation_targets</th>\n",
       "      <th>batch_size</th>\n",
       "      <th>hidden_channels</th>\n",
       "      <th>learning_rate</th>\n",
       "      <th>mean_test_loss</th>\n",
       "      <th>test_acc</th>\n",
       "      <th>test_f1</th>\n",
       "      <th>test_prec</th>\n",
       "      <th>test_reca</th>\n",
       "      <th>test_roc</th>\n",
       "      <th>pytorch_total_params</th>\n",
       "    </tr>\n",
       "  </thead>\n",
       "  <tbody>\n",
       "    <tr>\n",
       "      <th>0</th>\n",
       "      <td>GraphConv</td>\n",
       "      <td>wav</td>\n",
       "      <td>False</td>\n",
       "      <td>False</td>\n",
       "      <td>10</td>\n",
       "      <td>5</td>\n",
       "      <td>4</td>\n",
       "      <td>16</td>\n",
       "      <td>0.0100</td>\n",
       "      <td>2.995946</td>\n",
       "      <td>0.521875</td>\n",
       "      <td>0.521875</td>\n",
       "      <td>0.521875</td>\n",
       "      <td>0.521875</td>\n",
       "      <td>0.834360</td>\n",
       "      <td>9005</td>\n",
       "    </tr>\n",
       "    <tr>\n",
       "      <th>1</th>\n",
       "      <td>GraphConv</td>\n",
       "      <td>wav</td>\n",
       "      <td>False</td>\n",
       "      <td>False</td>\n",
       "      <td>10</td>\n",
       "      <td>5</td>\n",
       "      <td>4</td>\n",
       "      <td>16</td>\n",
       "      <td>0.0010</td>\n",
       "      <td>2.520777</td>\n",
       "      <td>0.996875</td>\n",
       "      <td>0.996875</td>\n",
       "      <td>0.996875</td>\n",
       "      <td>0.996875</td>\n",
       "      <td>1.000000</td>\n",
       "      <td>9005</td>\n",
       "    </tr>\n",
       "    <tr>\n",
       "      <th>2</th>\n",
       "      <td>GraphConv</td>\n",
       "      <td>wav</td>\n",
       "      <td>False</td>\n",
       "      <td>False</td>\n",
       "      <td>10</td>\n",
       "      <td>5</td>\n",
       "      <td>4</td>\n",
       "      <td>16</td>\n",
       "      <td>0.0001</td>\n",
       "      <td>2.616548</td>\n",
       "      <td>0.900000</td>\n",
       "      <td>0.900000</td>\n",
       "      <td>0.900000</td>\n",
       "      <td>0.900000</td>\n",
       "      <td>0.989657</td>\n",
       "      <td>9005</td>\n",
       "    </tr>\n",
       "    <tr>\n",
       "      <th>3</th>\n",
       "      <td>GraphConv</td>\n",
       "      <td>wav</td>\n",
       "      <td>False</td>\n",
       "      <td>False</td>\n",
       "      <td>10</td>\n",
       "      <td>5</td>\n",
       "      <td>4</td>\n",
       "      <td>32</td>\n",
       "      <td>0.0100</td>\n",
       "      <td>3.434893</td>\n",
       "      <td>0.081250</td>\n",
       "      <td>0.081250</td>\n",
       "      <td>0.081250</td>\n",
       "      <td>0.081250</td>\n",
       "      <td>0.607853</td>\n",
       "      <td>28205</td>\n",
       "    </tr>\n",
       "    <tr>\n",
       "      <th>4</th>\n",
       "      <td>GraphConv</td>\n",
       "      <td>wav</td>\n",
       "      <td>False</td>\n",
       "      <td>False</td>\n",
       "      <td>10</td>\n",
       "      <td>5</td>\n",
       "      <td>4</td>\n",
       "      <td>32</td>\n",
       "      <td>0.0010</td>\n",
       "      <td>2.521063</td>\n",
       "      <td>0.996875</td>\n",
       "      <td>0.996875</td>\n",
       "      <td>0.996875</td>\n",
       "      <td>0.996875</td>\n",
       "      <td>1.000000</td>\n",
       "      <td>28205</td>\n",
       "    </tr>\n",
       "    <tr>\n",
       "      <th>...</th>\n",
       "      <td>...</td>\n",
       "      <td>...</td>\n",
       "      <td>...</td>\n",
       "      <td>...</td>\n",
       "      <td>...</td>\n",
       "      <td>...</td>\n",
       "      <td>...</td>\n",
       "      <td>...</td>\n",
       "      <td>...</td>\n",
       "      <td>...</td>\n",
       "      <td>...</td>\n",
       "      <td>...</td>\n",
       "      <td>...</td>\n",
       "      <td>...</td>\n",
       "      <td>...</td>\n",
       "      <td>...</td>\n",
       "    </tr>\n",
       "    <tr>\n",
       "      <th>163</th>\n",
       "      <td>NOGNN</td>\n",
       "      <td>psd</td>\n",
       "      <td>False</td>\n",
       "      <td>False</td>\n",
       "      <td>34</td>\n",
       "      <td>5</td>\n",
       "      <td>4</td>\n",
       "      <td>32</td>\n",
       "      <td>0.0010</td>\n",
       "      <td>3.459525</td>\n",
       "      <td>0.047794</td>\n",
       "      <td>0.047794</td>\n",
       "      <td>0.047794</td>\n",
       "      <td>0.047794</td>\n",
       "      <td>0.507899</td>\n",
       "      <td>30800</td>\n",
       "    </tr>\n",
       "    <tr>\n",
       "      <th>164</th>\n",
       "      <td>NOGNN</td>\n",
       "      <td>psd</td>\n",
       "      <td>False</td>\n",
       "      <td>False</td>\n",
       "      <td>34</td>\n",
       "      <td>5</td>\n",
       "      <td>4</td>\n",
       "      <td>32</td>\n",
       "      <td>0.0001</td>\n",
       "      <td>3.411554</td>\n",
       "      <td>0.168199</td>\n",
       "      <td>0.168199</td>\n",
       "      <td>0.168199</td>\n",
       "      <td>0.168199</td>\n",
       "      <td>0.646041</td>\n",
       "      <td>30800</td>\n",
       "    </tr>\n",
       "    <tr>\n",
       "      <th>165</th>\n",
       "      <td>NOGNN</td>\n",
       "      <td>psd</td>\n",
       "      <td>False</td>\n",
       "      <td>False</td>\n",
       "      <td>34</td>\n",
       "      <td>5</td>\n",
       "      <td>4</td>\n",
       "      <td>128</td>\n",
       "      <td>0.0100</td>\n",
       "      <td>3.486790</td>\n",
       "      <td>0.031250</td>\n",
       "      <td>0.031250</td>\n",
       "      <td>0.031250</td>\n",
       "      <td>0.031250</td>\n",
       "      <td>0.490995</td>\n",
       "      <td>123056</td>\n",
       "    </tr>\n",
       "    <tr>\n",
       "      <th>166</th>\n",
       "      <td>NOGNN</td>\n",
       "      <td>psd</td>\n",
       "      <td>False</td>\n",
       "      <td>False</td>\n",
       "      <td>34</td>\n",
       "      <td>5</td>\n",
       "      <td>4</td>\n",
       "      <td>128</td>\n",
       "      <td>0.0010</td>\n",
       "      <td>3.455007</td>\n",
       "      <td>0.054228</td>\n",
       "      <td>0.054228</td>\n",
       "      <td>0.054228</td>\n",
       "      <td>0.054228</td>\n",
       "      <td>0.533966</td>\n",
       "      <td>123056</td>\n",
       "    </tr>\n",
       "    <tr>\n",
       "      <th>167</th>\n",
       "      <td>NOGNN</td>\n",
       "      <td>psd</td>\n",
       "      <td>False</td>\n",
       "      <td>False</td>\n",
       "      <td>34</td>\n",
       "      <td>5</td>\n",
       "      <td>4</td>\n",
       "      <td>128</td>\n",
       "      <td>0.0001</td>\n",
       "      <td>3.461040</td>\n",
       "      <td>0.053309</td>\n",
       "      <td>0.053309</td>\n",
       "      <td>0.053309</td>\n",
       "      <td>0.053309</td>\n",
       "      <td>0.493199</td>\n",
       "      <td>123056</td>\n",
       "    </tr>\n",
       "  </tbody>\n",
       "</table>\n",
       "<p>168 rows × 16 columns</p>\n",
       "</div>"
      ],
      "text/plain": [
       "         model eeg_feature  remove_global_connections  \\\n",
       "0    GraphConv         wav                      False   \n",
       "1    GraphConv         wav                      False   \n",
       "2    GraphConv         wav                      False   \n",
       "3    GraphConv         wav                      False   \n",
       "4    GraphConv         wav                      False   \n",
       "..         ...         ...                        ...   \n",
       "163      NOGNN         psd                      False   \n",
       "164      NOGNN         psd                      False   \n",
       "165      NOGNN         psd                      False   \n",
       "166      NOGNN         psd                      False   \n",
       "167      NOGNN         psd                      False   \n",
       "\n",
       "     remove_baseline_signal_noise_removal  number_test_targets  \\\n",
       "0                                   False                   10   \n",
       "1                                   False                   10   \n",
       "2                                   False                   10   \n",
       "3                                   False                   10   \n",
       "4                                   False                   10   \n",
       "..                                    ...                  ...   \n",
       "163                                 False                   34   \n",
       "164                                 False                   34   \n",
       "165                                 False                   34   \n",
       "166                                 False                   34   \n",
       "167                                 False                   34   \n",
       "\n",
       "     number_validation_targets  batch_size  hidden_channels  learning_rate  \\\n",
       "0                            5           4               16         0.0100   \n",
       "1                            5           4               16         0.0010   \n",
       "2                            5           4               16         0.0001   \n",
       "3                            5           4               32         0.0100   \n",
       "4                            5           4               32         0.0010   \n",
       "..                         ...         ...              ...            ...   \n",
       "163                          5           4               32         0.0010   \n",
       "164                          5           4               32         0.0001   \n",
       "165                          5           4              128         0.0100   \n",
       "166                          5           4              128         0.0010   \n",
       "167                          5           4              128         0.0001   \n",
       "\n",
       "     mean_test_loss  test_acc   test_f1  test_prec  test_reca  test_roc  \\\n",
       "0          2.995946  0.521875  0.521875   0.521875   0.521875  0.834360   \n",
       "1          2.520777  0.996875  0.996875   0.996875   0.996875  1.000000   \n",
       "2          2.616548  0.900000  0.900000   0.900000   0.900000  0.989657   \n",
       "3          3.434893  0.081250  0.081250   0.081250   0.081250  0.607853   \n",
       "4          2.521063  0.996875  0.996875   0.996875   0.996875  1.000000   \n",
       "..              ...       ...       ...        ...        ...       ...   \n",
       "163        3.459525  0.047794  0.047794   0.047794   0.047794  0.507899   \n",
       "164        3.411554  0.168199  0.168199   0.168199   0.168199  0.646041   \n",
       "165        3.486790  0.031250  0.031250   0.031250   0.031250  0.490995   \n",
       "166        3.455007  0.054228  0.054228   0.054228   0.054228  0.533966   \n",
       "167        3.461040  0.053309  0.053309   0.053309   0.053309  0.493199   \n",
       "\n",
       "     pytorch_total_params  \n",
       "0                    9005  \n",
       "1                    9005  \n",
       "2                    9005  \n",
       "3                   28205  \n",
       "4                   28205  \n",
       "..                    ...  \n",
       "163                 30800  \n",
       "164                 30800  \n",
       "165                123056  \n",
       "166                123056  \n",
       "167                123056  \n",
       "\n",
       "[168 rows x 16 columns]"
      ]
     },
     "execution_count": 2,
     "metadata": {},
     "output_type": "execute_result"
    }
   ],
   "source": [
    "results = pd.read_csv('participant_id.csv')\n",
    "results"
   ]
  },
  {
   "cell_type": "code",
   "execution_count": 3,
   "id": "developing-negative",
   "metadata": {},
   "outputs": [],
   "source": [
    "del results[\"remove_global_connections\"]\n",
    "del results[\"remove_baseline_signal_noise_removal\"]"
   ]
  },
  {
   "cell_type": "code",
   "execution_count": 4,
   "id": "knowing-stewart",
   "metadata": {},
   "outputs": [],
   "source": [
    "graphConvWav = results[(results[\"model\"] == 'GraphConv') & (results[\"eeg_feature\"] == 'wav')]\n",
    "graphConvWav_acc = graphConvWav.test_acc.to_numpy()\n",
    "\n",
    "graphConvPsd = results[(results[\"model\"] == 'GraphConv') & (results[\"eeg_feature\"] == 'psd')]\n",
    "graphConvPsd_acc = graphConvPsd.test_acc.to_numpy()"
   ]
  },
  {
   "cell_type": "code",
   "execution_count": 5,
   "id": "close-detective",
   "metadata": {},
   "outputs": [
    {
     "data": {
      "text/plain": [
       "<BarContainer object of 36 artists>"
      ]
     },
     "execution_count": 5,
     "metadata": {},
     "output_type": "execute_result"
    },
    {
     "data": {
      "image/png": "[encoded data removed]",
      "text/plain": [
       "<Figure size 432x288 with 1 Axes>"
      ]
     },
     "metadata": {
      "needs_background": "light"
     },
     "output_type": "display_data"
    }
   ],
   "source": [
    "plt.bar(np.arange(0,len(graphConvWav_acc)), graphConvWav_acc)\n",
    "plt.bar(np.arange(0,len(graphConvPsd_acc)), graphConvPsd_acc)"
   ]
  },
  {
   "cell_type": "code",
   "execution_count": 6,
   "id": "chief-diary",
   "metadata": {},
   "outputs": [],
   "source": [
    "GatedGNNWav = results[(results[\"model\"] == 'GatedGNN') & (results[\"eeg_feature\"] == 'wav')]\n",
    "GatedGNNWav_acc = GatedGNNWav.test_acc.to_numpy()\n",
    "\n",
    "GatedGNNPsd = results[(results[\"model\"] == 'GatedGNN') & (results[\"eeg_feature\"] == 'psd')]\n",
    "GatedGNNPsd_acc = GatedGNNPsd.test_acc.to_numpy()"
   ]
  },
  {
   "cell_type": "code",
   "execution_count": 7,
   "id": "material-academy",
   "metadata": {
    "scrolled": true
   },
   "outputs": [
    {
     "data": {
      "text/plain": [
       "<BarContainer object of 12 artists>"
      ]
     },
     "execution_count": 7,
     "metadata": {},
     "output_type": "execute_result"
    },
    {
     "data": {
      "image/png": "[encoded data removed]",
      "text/plain": [
       "<Figure size 432x288 with 1 Axes>"
      ]
     },
     "metadata": {
      "needs_background": "light"
     },
     "output_type": "display_data"
    }
   ],
   "source": [
    "plt.bar(np.arange(0,len(GatedGNNWav_acc)), GatedGNNWav_acc)\n",
    "plt.bar(np.arange(0,len(GatedGNNPsd_acc)), GatedGNNPsd_acc)"
   ]
  },
  {
   "cell_type": "code",
   "execution_count": 8,
   "id": "romantic-respondent",
   "metadata": {},
   "outputs": [],
   "source": [
    "NOGNNWav = results[(results[\"model\"] == 'NOGNN') & (results[\"eeg_feature\"] == 'wav')]\n",
    "NOGNNWav_acc = NOGNNWav.test_acc.to_numpy()\n",
    "\n",
    "NOGNNPsd = results[(results[\"model\"] == 'NOGNN') & (results[\"eeg_feature\"] == 'psd')]\n",
    "NOGNNPsd_acc = NOGNNPsd.test_acc.to_numpy()"
   ]
  },
  {
   "cell_type": "code",
   "execution_count": 9,
   "id": "collected-screen",
   "metadata": {},
   "outputs": [
    {
     "data": {
      "text/plain": [
       "<BarContainer object of 36 artists>"
      ]
     },
     "execution_count": 9,
     "metadata": {},
     "output_type": "execute_result"
    },
    {
     "data": {
      "image/png": "[encoded data removed]",
      "text/plain": [
       "<Figure size 432x288 with 1 Axes>"
      ]
     },
     "metadata": {
      "needs_background": "light"
     },
     "output_type": "display_data"
    }
   ],
   "source": [
    "plt.bar(np.arange(0,len(NOGNNWav_acc)), NOGNNWav_acc)\n",
    "plt.bar(np.arange(0,len(NOGNNPsd_acc)), NOGNNPsd_acc)"
   ]
  }
 ],
 "metadata": {
  "kernelspec": {
   "display_name": "torch",
   "language": "python",
   "name": "torch"
  },
  "language_info": {
   "codemirror_mode": {
    "name": "ipython",
    "version": 3
   },
   "file_extension": ".py",
   "mimetype": "text/x-python",
   "name": "python",
   "nbconvert_exporter": "python",
   "pygments_lexer": "ipython3",
   "version": "3.8.5"
  }
 },
 "nbformat": 4,
 "nbformat_minor": 5
}
